{
 "cells": [
  {
   "cell_type": "markdown",
   "metadata": {},
   "source": [
    "# Use Pandas' get_chunk function to handle millions of data\n"
   ]
  },
  {
   "cell_type": "markdown",
   "metadata": {},
   "source": [
    "- Download ows-raw.txt\n",
    "- Read data as chunk"
   ]
  },
  {
   "cell_type": "code",
   "execution_count": 1,
   "metadata": {},
   "outputs": [],
   "source": [
    "file_path = 'E:/2024计算社会科学夏校/data/ows-raw.txt'"
   ]
  },
  {
   "cell_type": "code",
   "execution_count": 2,
   "metadata": {},
   "outputs": [],
   "source": [
    "import pandas as pd"
   ]
  },
  {
   "cell_type": "code",
   "execution_count": 3,
   "metadata": {},
   "outputs": [
    {
     "data": {
      "text/plain": [
       "10000"
      ]
     },
     "execution_count": 3,
     "metadata": {},
     "output_type": "execute_result"
    }
   ],
   "source": [
    "f = open(file_path, 'r', encoding='utf-8')\n",
    "reader = pd.read_table(f,  sep=',',  quotechar='\"', iterator=True, on_bad_lines='skip') #跳过报错行\n",
    "chunkSize = 10**4\n",
    "chunk = reader.get_chunk(chunkSize)\n",
    "len(chunk)"
   ]
  },
  {
   "cell_type": "code",
   "execution_count": 4,
   "metadata": {},
   "outputs": [
    {
     "name": "stdout",
     "output_type": "stream",
     "text": [
      "Total number of rows: 6602120\n"
     ]
    }
   ],
   "source": [
    "chunkSize = 10**4\n",
    "total_rows = 0\n",
    "\n",
    "chunk_reader = pd.read_csv(file_path, sep=',', quotechar='\"', \n",
    "                           iterator=True, on_bad_lines='skip', chunksize=chunkSize)\n",
    "for chunk in chunk_reader:\n",
    "    total_rows += len(chunk)\n",
    "    \n",
    "print(f'Total number of rows: {total_rows}')"
   ]
  },
  {
   "cell_type": "code",
   "execution_count": 5,
   "metadata": {},
   "outputs": [
    {
     "data": {
      "text/html": [
       "<div>\n",
       "<style scoped>\n",
       "    .dataframe tbody tr th:only-of-type {\n",
       "        vertical-align: middle;\n",
       "    }\n",
       "\n",
       "    .dataframe tbody tr th {\n",
       "        vertical-align: top;\n",
       "    }\n",
       "\n",
       "    .dataframe thead th {\n",
       "        text-align: right;\n",
       "    }\n",
       "</style>\n",
       "<table border=\"1\" class=\"dataframe\">\n",
       "  <thead>\n",
       "    <tr style=\"text-align: right;\">\n",
       "      <th></th>\n",
       "      <th>Twitter ID</th>\n",
       "      <th>Text</th>\n",
       "      <th>Profile Image URL</th>\n",
       "      <th>Day</th>\n",
       "      <th>Hour</th>\n",
       "      <th>Minute</th>\n",
       "      <th>Created At</th>\n",
       "      <th>Geo</th>\n",
       "      <th>From User</th>\n",
       "      <th>From User ID</th>\n",
       "      <th>Language</th>\n",
       "      <th>To User</th>\n",
       "      <th>To User ID</th>\n",
       "      <th>Source</th>\n",
       "    </tr>\n",
       "  </thead>\n",
       "  <tbody>\n",
       "    <tr>\n",
       "      <th>6600000</th>\n",
       "      <td>170726983490211841</td>\n",
       "      <td>Stand Up Mr. US Business Man and take responsi...</td>\n",
       "      <td>http://a2.twimg.com/profile_images/1752607483/...</td>\n",
       "      <td>2012-02-18</td>\n",
       "      <td>4</td>\n",
       "      <td>30</td>\n",
       "      <td>2012-02-18 04:30:59</td>\n",
       "      <td>N;</td>\n",
       "      <td>bentley_cat</td>\n",
       "      <td>463108759</td>\n",
       "      <td>en</td>\n",
       "      <td>NaN</td>\n",
       "      <td>0</td>\n",
       "      <td>&amp;lt;a href=&amp;quot;http://www.bestoftheinternets...</td>\n",
       "    </tr>\n",
       "    <tr>\n",
       "      <th>6600001</th>\n",
       "      <td>170727024841854976</td>\n",
       "      <td>RT @C0d3Fr0sty: MT( Link shortened) @Kaymee: I...</td>\n",
       "      <td>http://a2.twimg.com/profile_images/1599465487/...</td>\n",
       "      <td>2012-02-18</td>\n",
       "      <td>4</td>\n",
       "      <td>31</td>\n",
       "      <td>2012-02-18 04:31:09</td>\n",
       "      <td>N;</td>\n",
       "      <td>marylouise996S</td>\n",
       "      <td>15380166</td>\n",
       "      <td>en</td>\n",
       "      <td>NaN</td>\n",
       "      <td>0</td>\n",
       "      <td>&amp;lt;a href=&amp;quot;http://www.tweetdeck.com&amp;quot...</td>\n",
       "    </tr>\n",
       "    <tr>\n",
       "      <th>6600002</th>\n",
       "      <td>170727037370253312</td>\n",
       "      <td>China had an #ows before everyone else 1989 Ti...</td>\n",
       "      <td>http://a0.twimg.com/profile_images/1302276340/...</td>\n",
       "      <td>2012-02-18</td>\n",
       "      <td>4</td>\n",
       "      <td>31</td>\n",
       "      <td>2012-02-18 04:31:12</td>\n",
       "      <td>N;</td>\n",
       "      <td>dfwlibrarian</td>\n",
       "      <td>17644162</td>\n",
       "      <td>en</td>\n",
       "      <td>NaN</td>\n",
       "      <td>0</td>\n",
       "      <td>&amp;lt;a href=&amp;quot;http://janetter.net/&amp;quot; re...</td>\n",
       "    </tr>\n",
       "    <tr>\n",
       "      <th>6600003</th>\n",
       "      <td>170727054361362433</td>\n",
       "      <td>Currency, Capital and Evolution: - http://t.co...</td>\n",
       "      <td>http://a3.twimg.com/profile_images/1597982571/...</td>\n",
       "      <td>2012-02-18</td>\n",
       "      <td>4</td>\n",
       "      <td>31</td>\n",
       "      <td>2012-02-18 04:31:16</td>\n",
       "      <td>N;</td>\n",
       "      <td>OmniusManifesto</td>\n",
       "      <td>394061184</td>\n",
       "      <td>it</td>\n",
       "      <td>NaN</td>\n",
       "      <td>0</td>\n",
       "      <td>&amp;lt;a href=&amp;quot;http://www.socialoomph.com&amp;qu...</td>\n",
       "    </tr>\n",
       "    <tr>\n",
       "      <th>6600004</th>\n",
       "      <td>170727082391900160</td>\n",
       "      <td>Our problems rise much more from Govts corrupt...</td>\n",
       "      <td>http://a0.twimg.com/profile_images/1592676372/...</td>\n",
       "      <td>2012-02-18</td>\n",
       "      <td>4</td>\n",
       "      <td>31</td>\n",
       "      <td>2012-02-18 04:31:23</td>\n",
       "      <td>N;</td>\n",
       "      <td>IndyPolitico</td>\n",
       "      <td>73935439</td>\n",
       "      <td>en</td>\n",
       "      <td>NaN</td>\n",
       "      <td>0</td>\n",
       "      <td>&amp;lt;a href=&amp;quot;http://www.socialoomph.com&amp;qu...</td>\n",
       "    </tr>\n",
       "  </tbody>\n",
       "</table>\n",
       "</div>"
      ],
      "text/plain": [
       "                 Twitter ID   \n",
       "6600000  170726983490211841  \\\n",
       "6600001  170727024841854976   \n",
       "6600002  170727037370253312   \n",
       "6600003  170727054361362433   \n",
       "6600004  170727082391900160   \n",
       "\n",
       "                                                      Text   \n",
       "6600000  Stand Up Mr. US Business Man and take responsi...  \\\n",
       "6600001  RT @C0d3Fr0sty: MT( Link shortened) @Kaymee: I...   \n",
       "6600002  China had an #ows before everyone else 1989 Ti...   \n",
       "6600003  Currency, Capital and Evolution: - http://t.co...   \n",
       "6600004  Our problems rise much more from Govts corrupt...   \n",
       "\n",
       "                                         Profile Image URL         Day  Hour   \n",
       "6600000  http://a2.twimg.com/profile_images/1752607483/...  2012-02-18     4  \\\n",
       "6600001  http://a2.twimg.com/profile_images/1599465487/...  2012-02-18     4   \n",
       "6600002  http://a0.twimg.com/profile_images/1302276340/...  2012-02-18     4   \n",
       "6600003  http://a3.twimg.com/profile_images/1597982571/...  2012-02-18     4   \n",
       "6600004  http://a0.twimg.com/profile_images/1592676372/...  2012-02-18     4   \n",
       "\n",
       "         Minute           Created At Geo        From User  From User ID   \n",
       "6600000      30  2012-02-18 04:30:59  N;      bentley_cat     463108759  \\\n",
       "6600001      31  2012-02-18 04:31:09  N;   marylouise996S      15380166   \n",
       "6600002      31  2012-02-18 04:31:12  N;     dfwlibrarian      17644162   \n",
       "6600003      31  2012-02-18 04:31:16  N;  OmniusManifesto     394061184   \n",
       "6600004      31  2012-02-18 04:31:23  N;     IndyPolitico      73935439   \n",
       "\n",
       "        Language To User  To User ID   \n",
       "6600000       en     NaN           0  \\\n",
       "6600001       en     NaN           0   \n",
       "6600002       en     NaN           0   \n",
       "6600003       it     NaN           0   \n",
       "6600004       en     NaN           0   \n",
       "\n",
       "                                                    Source  \n",
       "6600000  &lt;a href=&quot;http://www.bestoftheinternets...  \n",
       "6600001  &lt;a href=&quot;http://www.tweetdeck.com&quot...  \n",
       "6600002  &lt;a href=&quot;http://janetter.net/&quot; re...  \n",
       "6600003  &lt;a href=&quot;http://www.socialoomph.com&qu...  \n",
       "6600004  &lt;a href=&quot;http://www.socialoomph.com&qu...  "
      ]
     },
     "execution_count": 5,
     "metadata": {},
     "output_type": "execute_result"
    }
   ],
   "source": [
    "chunk.head()"
   ]
  },
  {
   "cell_type": "markdown",
   "metadata": {},
   "source": [
    "- Print out the number of tweets and unique users for each day"
   ]
  },
  {
   "cell_type": "code",
   "execution_count": 6,
   "metadata": {},
   "outputs": [
    {
     "name": "stdout",
     "output_type": "stream",
     "text": [
      "            Day    count  unique_id_count\n",
      "0    2011-10-06  49638.0          24832.0\n",
      "1    2011-10-07  65238.0          33883.0\n",
      "2    2011-10-08  65949.0          33204.0\n",
      "3    2011-10-09  65097.0          32201.0\n",
      "4    2011-10-10  78619.0          41465.0\n",
      "..          ...      ...              ...\n",
      "131  2012-02-14  13580.0           5349.0\n",
      "132  2012-02-15  13248.0           5598.0\n",
      "133  2012-02-16  12837.0           5083.0\n",
      "134  2012-02-17  12468.0           4897.0\n",
      "135  2012-02-18   4859.0           2273.0\n",
      "\n",
      "[136 rows x 3 columns]\n"
     ]
    }
   ],
   "source": [
    "chunkSize = 10**4\n",
    "\n",
    "# Create a dataframe reader object\n",
    "chunk_reader = pd.read_csv(file_path, sep=',', quotechar='\"', \n",
    "                           iterator=True, on_bad_lines='skip', chunksize=chunkSize)\n",
    "\n",
    "# Initialize an empty DataFrame to store the group counts\n",
    "group_counts = pd.DataFrame()\n",
    "\n",
    "# Column name to group by\n",
    "group_column = 'Day'  # Replace with the actual column name\n",
    "id_column = 'From User ID'  # Replace with the actual column name for IDs\n",
    "\n",
    "# Iterate over chunks\n",
    "for chunk in chunk_reader:\n",
    "    # Group by the specified column and count the observations in each group\n",
    "    chunk_group_counts1 = chunk.groupby(group_column).size().reset_index(name='count')\n",
    "    \n",
    "    # Group by the specified column and calculate the number of unique IDs in each group\n",
    "    chunk_group_counts2 = chunk.groupby(group_column)[id_column].nunique().reset_index(name='unique_id_count')\n",
    "    \n",
    "    # Append the group counts to the total group counts\n",
    "    group_counts = pd.concat([group_counts, chunk_group_counts1, chunk_group_counts2], ignore_index=True)\n",
    "\n",
    "# After processing all chunks, group again to consolidate counts across chunks\n",
    "final_group_counts = group_counts.groupby(group_column).sum().reset_index()\n",
    "\n",
    "# Sort the final group counts\n",
    "final_group_counts = final_group_counts.sort_values(by='Day', ascending=True)\n",
    "\n",
    "print(final_group_counts)"
   ]
  },
  {
   "cell_type": "code",
   "execution_count": null,
   "metadata": {},
   "outputs": [],
   "source": []
  }
 ],
 "metadata": {
  "kernelspec": {
   "display_name": "Python 3 (ipykernel)",
   "language": "python",
   "name": "python3"
  },
  "language_info": {
   "codemirror_mode": {
    "name": "ipython",
    "version": 3
   },
   "file_extension": ".py",
   "mimetype": "text/x-python",
   "name": "python",
   "nbconvert_exporter": "python",
   "pygments_lexer": "ipython3",
   "version": "3.10.9"
  },
  "toc": {
   "base_numbering": 1,
   "nav_menu": {},
   "number_sections": false,
   "sideBar": true,
   "skip_h1_title": false,
   "title_cell": "Table of Contents",
   "title_sidebar": "Contents",
   "toc_cell": false,
   "toc_position": {},
   "toc_section_display": true,
   "toc_window_display": false
  }
 },
 "nbformat": 4,
 "nbformat_minor": 4
}
