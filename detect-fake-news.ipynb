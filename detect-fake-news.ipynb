{
 "cells": [
  {
   "cell_type": "markdown",
   "metadata": {
    "slideshow": {
     "slide_type": "slide"
    }
   },
   "source": [
    "# Fake News Detection"
   ]
  },
  {
   "cell_type": "markdown",
   "metadata": {},
   "source": [
    "During the **text preprocessing**，I didn't use the ```CountVectorizer``` class from **scikit-learn** to preprocess the text, because I want to go beyond the functionality provided by this library and understand the implementation process of text segmentation. So, I tokenized the text manually and added some new tokenization features that are important for news texts.\n",
    "\n",
    "+ Split contractions (e.g. don't --> do not)\n",
    "+ Remove all numbers\n",
    "+ Transform words into lemmas\n",
    "+ Transform words into stems\n",
    "\n",
    "For the text that has already been segmented, I selected **four vectorization methods**, specifically **document frequency** and **TF-IDF** within the Bag-of-Words model, **Word2Vec** within the Word Embedding model, and **Convolutional Neural Network (CNN)** within the Deep Learning model. The reason for this is that I intended to examine the characteristics of the text vector matrices obtained through different word vectorization methods.   \n",
    "\n",
    "Moreover, in the subsequent **news classification tasks**, for machine learning models (**Gaussian Naive Bayes, Random Forest, Support Vector Machine, Feedforward Neural Network**) with the same parameter settings, I wanted to see how different input features would affect the prediction accuracy of each model and **which combination of the matrix derived from a particular word vectorization method and a specific machine learning model would yield a higher accuracy**.\n",
    "\n",
    "Finally, the conclusions are as follows:\n",
    "- After controlling the dimensions of the input features to be consistent, compared with the text vector matrices represented by the other three vectorization methods, the models obtained by combining TF-IDF with the four machine learning models have the most excellent accuracy and generalization ability.\n",
    "- After controlling the input feature to be the **TF-IDF text vector matrix**, the performances of the Random Forest, Support Vector Machine, and Feedforward Neural Network models are all relatively good. Among them, **the Support Vector Machine model equipped with a nonlinear kernel** has the best accuracy in the news classification task, with a **final accuracy score of 0.9558**."
   ]
  },
  {
   "cell_type": "markdown",
   "metadata": {},
   "source": [
    "Reference:\n",
    "- Ash, E., & Hansen, S. (2023). Text algorithms in economics. Annual Review of Economics, 15(Volume 15, 2023), 659–688. https://doi.org/10.1146/annurev-economics-082222-074352\n",
    "- Heinrich, G. (2009). Parameter estimation for text analysis. https://www.semanticscholar.org/paper/Parameter-estimation-for-text-analysis-Heinrich/f22d042312f5f38eddaca08d49ef805c0d8f1cdc\n",
    "\n",
    "Code Reference:\n",
    "- https://github.com/sekhansen/text_algorithms_econ/blob/3d3042e96254a92a4bbcb181a33ced091de49724/notebooks/2_preprocessing.ipynb\n"
   ]
  },
  {
   "cell_type": "markdown",
   "metadata": {},
   "source": [
    "## Data\n",
    "- train.csv: A full training dataset with the following attributes:\n",
    "    - id: unique id for a news article\n",
    "    - title: the title of a news article\n",
    "    - author: author of the news article\n",
    "    - text: the text of the article; could be incomplete\n",
    "    - label: a label that marks the article as potentially unreliable\n",
    "        - 1: unreliable\n",
    "        - 0: reliable\n",
    "        \n",
    "Data publicly available: Fake News | Kaggle: https://www.kaggle.com/competitions/fake-news/data?select=submit.csv\n"
   ]
  },
  {
   "cell_type": "markdown",
   "metadata": {},
   "source": [
    "## 0 Load data\n",
    "Load the dataset \"train.csv\" which has already been marked with labels indicating whether the news is real or fake. It can be seen from the table that there are a total of 20,800 pieces of news, and **both the \"title\" column and the \"text\" column** contain English texts that need to be preprocessed. "
   ]
  },
  {
   "cell_type": "code",
   "execution_count": null,
   "metadata": {},
   "outputs": [],
   "source": [
    "%%capture\n",
    "\n",
    "# NLP \n",
    "!pip3 install nltk \n",
    "!pip3 install flashtext\n",
    "!pip3 install requests\n",
    "!pip3 install jinja2\n",
    "\n",
    "!pip3 install spacy\n",
    "# Because I can't load via \"!python3 -m spacy download en_core_web_sm\"\n",
    "# Download the language pack directly from the English · spaCy Models Documentation: https://spacy.io/models/en, and then load it by indexing to the file.\n",
    "!pip3 install 'E:/2024XA/nlp/en_core_web_sm-3.8.0-py3-none-any.whl' \n",
    "\n",
    "# Word2Vec \n",
    "!pip3 install gensim "
   ]
  },
  {
   "cell_type": "code",
   "execution_count": null,
   "metadata": {},
   "outputs": [],
   "source": [
    "# clone the GitHub repository with the preprocessing scripts\n",
    "# The stop word data provided by the author will be used later\n",
    "!git clone https://github.com/unstructured-data-research/text-preprocessing\n"
   ]
  },
  {
   "cell_type": "code",
   "execution_count": null,
   "metadata": {
    "ExecuteTime": {
     "end_time": "2020-08-13T05:33:17.473916Z",
     "start_time": "2020-08-13T05:33:16.209487Z"
    },
    "slideshow": {
     "slide_type": "slide"
    }
   },
   "outputs": [],
   "source": [
    "import pandas as pd\n",
    "import numpy as np\n",
    "import matplotlib.pyplot as plt"
   ]
  },
  {
   "cell_type": "code",
   "execution_count": 3,
   "metadata": {
    "ExecuteTime": {
     "end_time": "2020-08-13T05:33:23.950849Z",
     "start_time": "2020-08-13T05:33:23.228395Z"
    },
    "slideshow": {
     "slide_type": "subslide"
    }
   },
   "outputs": [
    {
     "data": {
      "text/html": [
       "<div>\n",
       "<style scoped>\n",
       "    .dataframe tbody tr th:only-of-type {\n",
       "        vertical-align: middle;\n",
       "    }\n",
       "\n",
       "    .dataframe tbody tr th {\n",
       "        vertical-align: top;\n",
       "    }\n",
       "\n",
       "    .dataframe thead th {\n",
       "        text-align: right;\n",
       "    }\n",
       "</style>\n",
       "<table border=\"1\" class=\"dataframe\">\n",
       "  <thead>\n",
       "    <tr style=\"text-align: right;\">\n",
       "      <th></th>\n",
       "      <th>id</th>\n",
       "      <th>title</th>\n",
       "      <th>author</th>\n",
       "      <th>text</th>\n",
       "      <th>label</th>\n",
       "    </tr>\n",
       "  </thead>\n",
       "  <tbody>\n",
       "    <tr>\n",
       "      <th>0</th>\n",
       "      <td>0</td>\n",
       "      <td>House Dem Aide: We Didn’t Even See Comey’s Let...</td>\n",
       "      <td>Darrell Lucus</td>\n",
       "      <td>House Dem Aide: We Didn’t Even See Comey’s Let...</td>\n",
       "      <td>1</td>\n",
       "    </tr>\n",
       "    <tr>\n",
       "      <th>1</th>\n",
       "      <td>1</td>\n",
       "      <td>FLYNN: Hillary Clinton, Big Woman on Campus - ...</td>\n",
       "      <td>Daniel J. Flynn</td>\n",
       "      <td>Ever get the feeling your life circles the rou...</td>\n",
       "      <td>0</td>\n",
       "    </tr>\n",
       "    <tr>\n",
       "      <th>2</th>\n",
       "      <td>2</td>\n",
       "      <td>Why the Truth Might Get You Fired</td>\n",
       "      <td>Consortiumnews.com</td>\n",
       "      <td>Why the Truth Might Get You Fired October 29, ...</td>\n",
       "      <td>1</td>\n",
       "    </tr>\n",
       "    <tr>\n",
       "      <th>3</th>\n",
       "      <td>3</td>\n",
       "      <td>15 Civilians Killed In Single US Airstrike Hav...</td>\n",
       "      <td>Jessica Purkiss</td>\n",
       "      <td>Videos 15 Civilians Killed In Single US Airstr...</td>\n",
       "      <td>1</td>\n",
       "    </tr>\n",
       "    <tr>\n",
       "      <th>4</th>\n",
       "      <td>4</td>\n",
       "      <td>Iranian woman jailed for fictional unpublished...</td>\n",
       "      <td>Howard Portnoy</td>\n",
       "      <td>Print \\nAn Iranian woman has been sentenced to...</td>\n",
       "      <td>1</td>\n",
       "    </tr>\n",
       "  </tbody>\n",
       "</table>\n",
       "</div>"
      ],
      "text/plain": [
       "   id                                              title              author  \\\n",
       "0   0  House Dem Aide: We Didn’t Even See Comey’s Let...       Darrell Lucus   \n",
       "1   1  FLYNN: Hillary Clinton, Big Woman on Campus - ...     Daniel J. Flynn   \n",
       "2   2                  Why the Truth Might Get You Fired  Consortiumnews.com   \n",
       "3   3  15 Civilians Killed In Single US Airstrike Hav...     Jessica Purkiss   \n",
       "4   4  Iranian woman jailed for fictional unpublished...      Howard Portnoy   \n",
       "\n",
       "                                                text  label  \n",
       "0  House Dem Aide: We Didn’t Even See Comey’s Let...      1  \n",
       "1  Ever get the feeling your life circles the rou...      0  \n",
       "2  Why the Truth Might Get You Fired October 29, ...      1  \n",
       "3  Videos 15 Civilians Killed In Single US Airstr...      1  \n",
       "4  Print \\nAn Iranian woman has been sentenced to...      1  "
      ]
     },
     "execution_count": 3,
     "metadata": {},
     "output_type": "execute_result"
    }
   ],
   "source": [
    "df = pd.read_csv('E:/2024计算社会科学夏校/hw/day8/train.csv')\n",
    "df.head()"
   ]
  },
  {
   "cell_type": "code",
   "execution_count": 4,
   "metadata": {},
   "outputs": [
    {
     "data": {
      "text/plain": [
       "(20800, 5)"
      ]
     },
     "execution_count": 4,
     "metadata": {},
     "output_type": "execute_result"
    }
   ],
   "source": [
    "df.shape"
   ]
  },
  {
   "cell_type": "code",
   "execution_count": 5,
   "metadata": {},
   "outputs": [
    {
     "name": "stdout",
     "output_type": "stream",
     "text": [
      "<class 'pandas.core.frame.DataFrame'>\n",
      "RangeIndex: 20800 entries, 0 to 20799\n",
      "Data columns (total 5 columns):\n",
      " #   Column  Non-Null Count  Dtype \n",
      "---  ------  --------------  ----- \n",
      " 0   id      20800 non-null  int64 \n",
      " 1   title   20242 non-null  object\n",
      " 2   author  18843 non-null  object\n",
      " 3   text    20761 non-null  object\n",
      " 4   label   20800 non-null  int64 \n",
      "dtypes: int64(2), object(3)\n",
      "memory usage: 812.6+ KB\n"
     ]
    }
   ],
   "source": [
    "# check missing value\n",
    "df.info()"
   ]
  },
  {
   "cell_type": "code",
   "execution_count": 6,
   "metadata": {},
   "outputs": [],
   "source": [
    "# Replace missing values with spaces\n",
    "df = df.fillna(' ')"
   ]
  },
  {
   "cell_type": "code",
   "execution_count": 7,
   "metadata": {},
   "outputs": [
    {
     "data": {
      "text/plain": [
       "'House Dem Aide: We Didn’t Even See Comey’s Letter Until Jason Chaffetz Tweeted It By Darrell Lucus on October 30, 2016 Subscribe Jason Chaffetz on the stump in American Fork, Utah ( image courtesy Michael Jolley, available under a Creative Commons-BY license) \\nWith apologies to Keith Olbermann, there is no doubt who the Worst Person in The World is this week–FBI Director James Comey. But according to a House Democratic aide, it looks like we also know who the second-worst person is as well. It turns out that when Comey sent his now-infamous letter announcing that the FBI was looking into emails that may be related to Hillary Clinton’s email server, the ranking Democrats on the relevant committees didn’t hear about it from Comey. They found out via a tweet from one of the Republican committee chairmen. \\nAs we now know, Comey notified the Republican chairmen and Democratic ranking members of the House Intelligence, Judiciary, and Oversight committees that his agency was reviewing emails it had recently discovered in order to see if they contained classified information. Not long after this letter went out, Oversight Committee Chairman Jason Chaffetz set the political world ablaze with this tweet. FBI Dir just informed me, \"The FBI has learned of the existence of emails that appear to be pertinent to the investigation.\" Case reopened \\n— Jason Chaffetz (@jasoninthehouse) October 28, 2016 \\nOf course, we now know that this was not the case . Comey was actually saying that it was reviewing the emails in light of “an unrelated case”–which we now know to be Anthony Weiner’s sexting with a teenager. But apparently such little things as facts didn’t matter to Chaffetz. The Utah Republican had already vowed to initiate a raft of investigations if Hillary wins–at least two years’ worth, and possibly an entire term’s worth of them. Apparently Chaffetz thought the FBI was already doing his work for him–resulting in a tweet that briefly roiled the nation before cooler heads realized it was a dud. \\nBut according to a senior House Democratic aide, misreading that letter may have been the least of Chaffetz’ sins. That aide told Shareblue that his boss and other Democrats didn’t even know about Comey’s letter at the time–and only found out when they checked Twitter. “Democratic Ranking Members on the relevant committees didn’t receive Comey’s letter until after the Republican Chairmen. In fact, the Democratic Ranking Members didn’ receive it until after the Chairman of the Oversight and Government Reform Committee, Jason Chaffetz, tweeted it out and made it public.” \\nSo let’s see if we’ve got this right. The FBI director tells Chaffetz and other GOP committee chairmen about a major development in a potentially politically explosive investigation, and neither Chaffetz nor his other colleagues had the courtesy to let their Democratic counterparts know about it. Instead, according to this aide, he made them find out about it on Twitter. \\nThere has already been talk on Daily Kos that Comey himself provided advance notice of this letter to Chaffetz and other Republicans, giving them time to turn on the spin machine. That may make for good theater, but there is nothing so far that even suggests this is the case. After all, there is nothing so far that suggests that Comey was anything other than grossly incompetent and tone-deaf. \\nWhat it does suggest, however, is that Chaffetz is acting in a way that makes Dan Burton and Darrell Issa look like models of responsibility and bipartisanship. He didn’t even have the decency to notify ranking member Elijah Cummings about something this explosive. If that doesn’t trample on basic standards of fairness, I don’t know what does. \\nGranted, it’s not likely that Chaffetz will have to answer for this. He sits in a ridiculously Republican district anchored in Provo and Orem; it has a Cook Partisan Voting Index of R+25, and gave Mitt Romney a punishing 78 percent of the vote in 2012. Moreover, the Republican House leadership has given its full support to Chaffetz’ planned fishing expedition. But that doesn’t mean we can’t turn the hot lights on him. After all, he is a textbook example of what the House has become under Republican control. And he is also the Second Worst Person in the World. About Darrell Lucus \\nDarrell is a 30-something graduate of the University of North Carolina who considers himself a journalist of the old school. An attempt to turn him into a member of the religious right in college only succeeded in turning him into the religious right\\'s worst nightmare--a charismatic Christian who is an unapologetic liberal. His desire to stand up for those who have been scared into silence only increased when he survived an abusive three-year marriage. You may know him on Daily Kos as Christian Dem in NC . Follow him on Twitter @DarrellLucus or connect with him on Facebook . Click here to buy Darrell a Mello Yello. Connect'"
      ]
     },
     "execution_count": 7,
     "metadata": {},
     "output_type": "execute_result"
    }
   ],
   "source": [
    "# View the information of the text column of the first news\n",
    "df.loc[0,'text']"
   ]
  },
  {
   "cell_type": "code",
   "execution_count": 8,
   "metadata": {},
   "outputs": [
    {
     "data": {
      "text/plain": [
       "'House Dem Aide: We Didn’t Even See Comey’s Letter Until Jason Chaffetz Tweeted It'"
      ]
     },
     "execution_count": 8,
     "metadata": {},
     "output_type": "execute_result"
    }
   ],
   "source": [
    "df.loc[0,'title']"
   ]
  },
  {
   "cell_type": "code",
   "execution_count": 9,
   "metadata": {},
   "outputs": [],
   "source": [
    "# merge text messages\n",
    "df['docs'] = df['title'] + ' ' + df['text']\n",
    "docs = df['docs']"
   ]
  },
  {
   "cell_type": "code",
   "execution_count": 10,
   "metadata": {},
   "outputs": [
    {
     "data": {
      "text/plain": [
       "0        House Dem Aide: We Didn’t Even See Comey’s Let...\n",
       "1        FLYNN: Hillary Clinton, Big Woman on Campus - ...\n",
       "2        Why the Truth Might Get You Fired Why the Trut...\n",
       "3        15 Civilians Killed In Single US Airstrike Hav...\n",
       "4        Iranian woman jailed for fictional unpublished...\n",
       "                               ...                        \n",
       "20795    Rapper T.I.: Trump a ’Poster Child For White S...\n",
       "20796    N.F.L. Playoffs: Schedule, Matchups and Odds -...\n",
       "20797    Macy’s Is Said to Receive Takeover Approach by...\n",
       "20798    NATO, Russia To Hold Parallel Exercises In Bal...\n",
       "20799    What Keeps the F-35 Alive   David Swanson is a...\n",
       "Name: docs, Length: 20800, dtype: object"
      ]
     },
     "execution_count": 10,
     "metadata": {},
     "output_type": "execute_result"
    }
   ],
   "source": [
    "docs"
   ]
  },
  {
   "cell_type": "markdown",
   "metadata": {},
   "source": [
    "## 1 Text preprocessing\n",
    "I grasped the significance of text preprocessing from this [GitHub post](https://github.com/sekhansen/text_algorithms_econ/blob/main/notebooks/2_preprocessing.ipynb). According to my own requirements, I referred to some of the author's code and developed my own text preprocessing approach."
   ]
  },
  {
   "cell_type": "markdown",
   "metadata": {},
   "source": [
    "### 1.1 Basic cleaning"
   ]
  },
  {
   "cell_type": "code",
   "execution_count": 11,
   "metadata": {},
   "outputs": [],
   "source": [
    "# lower case via the lower() built-in method\n",
    "docs = [s.lower() for s in docs]"
   ]
  },
  {
   "cell_type": "code",
   "execution_count": 12,
   "metadata": {},
   "outputs": [],
   "source": [
    "# remove leading and trailing whitespaces\n",
    "docs = [d.strip() for d in docs]"
   ]
  },
  {
   "cell_type": "code",
   "execution_count": 13,
   "metadata": {},
   "outputs": [
    {
     "data": {
      "text/plain": [
       "'We cannot increase the interest rate. They will not accept it. It is too risky.'"
      ]
     },
     "execution_count": 13,
     "metadata": {},
     "output_type": "execute_result"
    }
   ],
   "source": [
    "import contractions\n",
    "\n",
    "# split contractions with the \"contractions\" library\n",
    "# the library mainly supports English but it provides the tools to extend its\n",
    "# functionality to other languages: https://github.com/kootenpv/contractions\n",
    "contractions.fix(\"We can't increase the interest rate. They won't accept it. It's too risky.\")"
   ]
  },
  {
   "cell_type": "code",
   "execution_count": 14,
   "metadata": {},
   "outputs": [],
   "source": [
    "# apply contractions function\n",
    "docs = list(map(lambda x: contractions.fix(x), docs))"
   ]
  },
  {
   "cell_type": "code",
   "execution_count": 15,
   "metadata": {},
   "outputs": [
    {
     "data": {
      "text/plain": [
       "'house dem aide: we did not even see comey’s letter until jason chaffetz tweeted it house dem aide: we did not even see comey’s letter until jason chaffetz tweeted it by darrell lucus on october 30, 2016 subscribe jason chaffetz on the stump in american fork, utah ( image courtesy michael jolley, available under a creative commons-by license) \\nwith apologies to keith olbermann, there is no doubt who the worst person in the world is this week–fbi director james comey. but according to a house democratic aide, it looks like we also know who the second-worst person is as well. it turns out that when comey sent his now-infamous letter announcing that the fbi was looking into emails that may be related to hillary clinton’s email server, the ranking democrats on the relevant committees did not hear about it from comey. they found out via a tweet from one of the republican committee chairmen. \\nas we now know, comey notified the republican chairmen and democratic ranking members of the house intelligence, judiciary, and oversight committees that his agency was reviewing emails it had recently discovered in order to see if they contained classified information. not long after this letter went out, oversight committee chairman jason chaffetz set the political world ablaze with this tweet. fbi dir just informed me, \"the fbi has learned of the existence of emails that appear to be pertinent to the investigation.\" case reopened \\n— jason chaffetz (@jasoninthehouse) october 28, 2016 \\nof course, we now know that this was not the case . comey was actually saying that it was reviewing the emails in light of “an unrelated case”–which we now know to be anthony weiner’s sexting with a teenager. but apparently such little things as facts did not matter to chaffetz. the utah republican had already vowed to initiate a raft of investigations if hillary wins–at least two years’ worth, and possibly an entire term’s worth of them. apparently chaffetz thought the fbi was already doing his work for him–resulting in a tweet that briefly roiled the nation before cooler heads realized it was a dud. \\nbut according to a senior house democratic aide, misreading that letter may have been the least of chaffetz’ sins. that aide told shareblue that his boss and other democrats did not even know about comey’s letter at the time–and only found out when they checked twitter. “democratic ranking members on the relevant committees did not receive comey’s letter until after the republican chairmen. in fact, the democratic ranking members didn’ receive it until after the chairman of the oversight and government reform committee, jason chaffetz, tweeted it out and made it public.” \\nso let us see if we have got this right. the fbi director tells chaffetz and other gop committee chairmen about a major development in a potentially politically explosive investigation, and neither chaffetz nor his other colleagues had the courtesy to let their democratic counterparts know about it. instead, according to this aide, he made them find out about it on twitter. \\nthere has already been talk on daily kos that comey himself provided advance notice of this letter to chaffetz and other republicans, giving them time to turn on the spin machine. that may make for good theater, but there is nothing so far that even suggests this is the case. after all, there is nothing so far that suggests that comey was anything other than grossly incompetent and tone-deaf. \\nwhat it does suggest, however, is that chaffetz is acting in a way that makes dan burton and darrell issa look like models of responsibility and bipartisanship. he did not even have the decency to notify ranking member elijah cummings about something this explosive. if that does not trample on basic standards of fairness, i do not know what does. \\ngranted, it is not likely that chaffetz will have to answer for this. he sits in a ridiculously republican district anchored in provo and orem; it has a cook partisan voting index of r+25, and gave mitt romney a punishing 78 percent of the vote in 2012. moreover, the republican house leadership has given its full support to chaffetz’ planned fishing expedition. but that does not mean we cannot turn the hot lights on him. after all, he is a textbook example of what the house has become under republican control. and he is also the second worst person in the world. about darrell lucus \\ndarrell is a 30-something graduate of the university of north carolina who considers himself a journalist of the old school. an attempt to turn him into a member of the religious right in college only succeeded in turning him into the religious right\\'s worst nightmare--a charismatic christian who is an unapologetic liberal. his desire to stand up for those who have been scared into silence only increased when he survived an abusive three-year marriage. you may know him on daily kos as christian dem in nc . follow him on twitter @darrelllucus or connect with him on facebook . click here to buy darrell a mello yello. connect'"
      ]
     },
     "execution_count": 15,
     "metadata": {},
     "output_type": "execute_result"
    }
   ],
   "source": [
    "docs[0]"
   ]
  },
  {
   "cell_type": "code",
   "execution_count": 16,
   "metadata": {},
   "outputs": [],
   "source": [
    "import nltk \n",
    "\n",
    "# Customized regular expression pattern that preserves punctuation and hyphenated words will be split\n",
    "custom_pattern = r'''\n",
    "                 (?x)                   # set flag to allow verbose regexps (to separate logical sections of pattern and add comments)\n",
    "                 \\w+                    # Match a single word. Two word parts connected by a hyphen, which will later be split into two tokens\n",
    "                 | [][.,;\"'?():-_`]     # Keep punctuation as separate tokens\n",
    "                 '''\n",
    "\n",
    "# apply the pattern\n",
    "tokens_custom = list(map(lambda x: nltk.regexp_tokenize(x, pattern=custom_pattern), docs))"
   ]
  },
  {
   "cell_type": "code",
   "execution_count": 17,
   "metadata": {},
   "outputs": [
    {
     "name": "stdout",
     "output_type": "stream",
     "text": [
      "House Dem Aide: We Didn’t Even See Comey’s Letter Until Jason Chaffetz Tweeted It House Dem Aide: We Didn’t Even See Com \n",
      "\n",
      "['house', 'dem', 'aide', ':', 'we', 'did', 'not', 'even', 'see', 'comey', 's', 'letter', 'until', 'jason', 'chaffetz', 'tweeted', 'it', 'house', 'dem', 'aide']\n"
     ]
    }
   ],
   "source": [
    "# inspect a document to see the tokenization\n",
    "print(df.loc[0, \"docs\"][0:120], \"\\n\")\n",
    "print(tokens_custom[0][0:20]) \n"
   ]
  },
  {
   "cell_type": "code",
   "execution_count": 18,
   "metadata": {},
   "outputs": [],
   "source": [
    "import unicodedata\n",
    "\n",
    "# remove non-ascii characters via unicodedata package\n",
    "def remove_non_ascii(tokens):\n",
    "    tokens = [unicodedata.normalize('NFKD', t).encode('ascii', 'ignore').decode('utf-8', 'ignore') for t in tokens]\n",
    "    return tokens\n",
    "    \n",
    "# apply function\n",
    "tokens_custom = list(map(remove_non_ascii, tokens_custom))"
   ]
  },
  {
   "cell_type": "code",
   "execution_count": 19,
   "metadata": {},
   "outputs": [
    {
     "name": "stdout",
     "output_type": "stream",
     "text": [
      "['house', 'dem', 'aide', ':', 'we', 'did', 'not', 'even', 'see', 'comey', 's', 'letter', 'until', 'jason', 'chaffetz', 'tweeted', 'it', 'house', 'dem', 'aide']\n"
     ]
    }
   ],
   "source": [
    "print(tokens_custom[0][0:20])"
   ]
  },
  {
   "cell_type": "code",
   "execution_count": 20,
   "metadata": {},
   "outputs": [],
   "source": [
    "# remove extra white spaces and short tokens via simple list comprehension\n",
    "def remove_short(tokens, min_length=2):\n",
    "    return [t.strip() for t in tokens if t.strip() != '' and len(t.strip()) > min_length] \n",
    "\n",
    "# apply function\n",
    "tokens_custom = list(map(remove_short, tokens_custom))"
   ]
  },
  {
   "cell_type": "code",
   "execution_count": 21,
   "metadata": {},
   "outputs": [
    {
     "name": "stdout",
     "output_type": "stream",
     "text": [
      "['house', 'dem', 'aide', 'did', 'not', 'even', 'see', 'comey', 'letter', 'until', 'jason', 'chaffetz', 'tweeted', 'house', 'dem', 'aide', 'did', 'not', 'even', 'see']\n"
     ]
    }
   ],
   "source": [
    "print(tokens_custom[0][0:20])"
   ]
  },
  {
   "cell_type": "code",
   "execution_count": 22,
   "metadata": {},
   "outputs": [
    {
     "data": {
      "text/plain": [
       "'!\"#$%&\\'()*+,-./:;<=>?@[\\\\]^_`{|}~'"
      ]
     },
     "execution_count": 22,
     "metadata": {},
     "output_type": "execute_result"
    }
   ],
   "source": [
    "import string\n",
    "import re\n",
    "\n",
    "# remove punctuation using a regular expression. We can use this same \n",
    "# structure to remove any other character\n",
    "def remove_punctuation(tokens, punctuation):            \n",
    "    regex = re.compile('[%s]' % re.escape(punctuation))\n",
    "    tokens = [regex.sub('', t) for t in tokens]\n",
    "    return tokens\n",
    "\n",
    "# load a list of punctuation signs\n",
    "string.punctuation"
   ]
  },
  {
   "cell_type": "code",
   "execution_count": 23,
   "metadata": {},
   "outputs": [
    {
     "name": "stdout",
     "output_type": "stream",
     "text": [
      "['house', 'dem', 'aide', 'did', 'not', 'even', 'see', 'comey', 'letter', 'until', 'jason', 'chaffetz', 'tweeted', 'house', 'dem', 'aide']\n"
     ]
    }
   ],
   "source": [
    "# apply function\n",
    "tokens_custom = list(map(lambda x: remove_punctuation(x, string.punctuation), tokens_custom))\n",
    "print(tokens_custom[0][0:16])"
   ]
  },
  {
   "cell_type": "code",
   "execution_count": 24,
   "metadata": {},
   "outputs": [],
   "source": [
    "import spacy\n",
    "nlp_standard = spacy.load('en_core_web_sm')\n",
    "import flashtext\n",
    "\n",
    "# Import modules created by the author\n",
    "import sys\n",
    "sys.path.append('./text-preprocessing/src') # Index into the cloned git hub file under the current path\n",
    "import preprocessing_class as pc\n",
    "import preprocess_data"
   ]
  },
  {
   "cell_type": "code",
   "execution_count": 25,
   "metadata": {},
   "outputs": [
    {
     "data": {
      "text/plain": [
       "['more',\n",
       " 'be',\n",
       " 'below',\n",
       " 'your',\n",
       " 'five',\n",
       " 'she',\n",
       " 'ours',\n",
       " 'before',\n",
       " 'my',\n",
       " 'theirs']"
      ]
     },
     "execution_count": 25,
     "metadata": {},
     "output_type": "execute_result"
    }
   ],
   "source": [
    "# remove stopwords via simple list comprehension\n",
    "def remove_stopwords(tokens, stopwords):\n",
    "    return [t for t in tokens if t not in stopwords]\n",
    "\n",
    "# load a custom list of stopwords\n",
    "custom_stopwords = list(preprocess_data.stp_long)\n",
    "custom_stopwords[0:10]"
   ]
  },
  {
   "cell_type": "code",
   "execution_count": 26,
   "metadata": {},
   "outputs": [],
   "source": [
    "# apply stopword removal function\n",
    "tokens_custom = list(map(lambda x: \n",
    "                  remove_stopwords(x, stopwords=custom_stopwords),\n",
    "                  tokens_custom))"
   ]
  },
  {
   "cell_type": "code",
   "execution_count": 27,
   "metadata": {},
   "outputs": [
    {
     "name": "stdout",
     "output_type": "stream",
     "text": [
      "['house', 'dem', 'aide', 'comey', 'letter', 'jason', 'chaffetz', 'tweeted', 'house', 'dem', 'aide', 'comey', 'letter', 'jason', 'chaffetz', 'tweeted', 'darrell', 'lucus', 'october', '2016']\n"
     ]
    }
   ],
   "source": [
    "print(tokens_custom[0][0:20])"
   ]
  },
  {
   "cell_type": "code",
   "execution_count": 28,
   "metadata": {},
   "outputs": [],
   "source": [
    "# remove numbers\n",
    "def remove_numbers(tokens, min_length=2):\n",
    "    translation_table = str.maketrans('', '', string.digits)\n",
    "    tokens = [t.translate(translation_table) for t in tokens if not t.isdigit()] \n",
    "    return  [t for t in tokens if t != '' and len(t) > min_length]\n",
    "\n",
    "# apply number removal function\n",
    "tokens_custom = list(map(lambda x: \n",
    "                  remove_numbers(x, min_length=2),\n",
    "                  tokens_custom))"
   ]
  },
  {
   "cell_type": "code",
   "execution_count": 29,
   "metadata": {},
   "outputs": [
    {
     "name": "stdout",
     "output_type": "stream",
     "text": [
      "['house', 'dem', 'aide', 'comey', 'letter', 'jason', 'chaffetz', 'tweeted', 'house', 'dem', 'aide', 'comey', 'letter', 'jason', 'chaffetz', 'tweeted', 'darrell', 'lucus', 'october', 'subscribe']\n"
     ]
    }
   ],
   "source": [
    "print(tokens_custom[0][0:20])"
   ]
  },
  {
   "cell_type": "markdown",
   "metadata": {},
   "source": [
    "### 1.2 Stemming and lemmatization\n",
    "As a next step, one might attempt to group together words that are grammatically different but thematically identical. For example, it could be reasonable to keep words such as *'obligations'*, *'obligation'* and  *'oblige'* under a single token. Ultimately these three words denote the same concept, and so we might want them to share the same symbol. \n",
    "\n",
    "The two most popular techniques to achieve this goal are **stemming** and **lemmatization**.  \n",
    ">Stemming replaces each word with its root form. The resulting token is less readable by humans but encompases multiple words (e.g. *'tradition'* and *'traditional'* have the same stem: *'tradit'*). \n",
    "\n",
    ">Lemmatization replaces words with their dictionary form i.e. lemma. The words *'changing'*, *'changes'* and *'changed'* all have the same lemma: *'change'*.\n",
    "\n",
    "Below, we use both techniques (stemming [via nltk Snowball stemmer](https://www.geeksforgeeks.org/snowball-stemmer-nlp/) and lemmatization via [spaCy lemmatizer](https://spacy.io/api/lemmatizer)) and look at the different results on a specific document.  \n",
    "\n",
    "The above text refers to the [author's notebook](https://github.com/sekhansen/text_algorithms_econ/blob/3d3042e96254a92a4bbcb181a33ced091de49724/notebooks/2_preprocessing.ipynb).\n",
    "\n",
    "Although I applied both of these methods, since the vectorization stage involves semantic associations among words, I chose to use the tokens obtained through **lemmatization** for the word vectorization stage."
   ]
  },
  {
   "cell_type": "markdown",
   "metadata": {},
   "source": [
    "#### 1.2.1 Stemming"
   ]
  },
  {
   "cell_type": "code",
   "execution_count": 30,
   "metadata": {},
   "outputs": [],
   "source": [
    "from nltk import SnowballStemmer\n",
    "\n",
    "# stem via standard nltk Snowball Stemmer\n",
    "stemmer = SnowballStemmer(language='english')\n",
    "def stem(tokens):\n",
    "    \"\"\"stem all tokens that do not contain hyphens\"\"\"\n",
    "    return [stemmer.stem(t) if \"-\" not in t else t for t in tokens]\n",
    "\n",
    "# apply function\n",
    "stems = list(map(stem, tokens_custom))"
   ]
  },
  {
   "cell_type": "code",
   "execution_count": 31,
   "metadata": {},
   "outputs": [
    {
     "name": "stdout",
     "output_type": "stream",
     "text": [
      "The total number of stems is: 8113711\n"
     ]
    }
   ],
   "source": [
    "count_stems = 0\n",
    "for sub_list in stems:\n",
    "    for _ in sub_list:\n",
    "        count_stems += 1\n",
    "print(\"The total number of stems is:\", count_stems)"
   ]
  },
  {
   "cell_type": "code",
   "execution_count": 32,
   "metadata": {},
   "outputs": [],
   "source": [
    "def text_lengths(token_list):\n",
    "    text_lengths = [len(text) for text in token_list]\n",
    "    min_length = min(text_lengths)\n",
    "    max_length = max(text_lengths)\n",
    "    average_length = sum(text_lengths)/len(text_lengths)\n",
    "    median_length = sorted(text_lengths)[len(text_lengths)//2]\n",
    "    print(\"Minimum text length:\", min_length)\n",
    "    print(\"Maximum text length:\", max_length)\n",
    "    print(\"Average text length:\", average_length)\n",
    "    print(\"Median text length:\", median_length)"
   ]
  },
  {
   "cell_type": "code",
   "execution_count": 33,
   "metadata": {},
   "outputs": [
    {
     "name": "stdout",
     "output_type": "stream",
     "text": [
      "Minimum text length: 0\n",
      "Maximum text length: 11066\n",
      "Average text length: 390.0822596153846\n",
      "Median text length: 294\n"
     ]
    }
   ],
   "source": [
    "# calculates and prints the minimum, maximum, average, and median lengths\n",
    "text_lengths(stems)"
   ]
  },
  {
   "cell_type": "code",
   "execution_count": 34,
   "metadata": {},
   "outputs": [
    {
     "name": "stdout",
     "output_type": "stream",
     "text": [
      "Counter({'chaffetz': 15, 'comey': 11, 'letter': 8, 'democrat': 8, 'know': 8, 'republican': 8, 'hous': 7, 'committe': 7, 'aid': 6, 'jason': 6, 'tweet': 6, 'fbi': 6, 'darrel': 5, 'turn': 5, 'email': 5, 'rank': 5, 'member': 5, 'worst': 4, 'may': 4, 'chairmen': 4, 'case': 4, 'dem': 3, 'person': 3, 'world': 3, 'accord': 3, 'look': 3, 'oversight': 3, 'investig': 3, 'alreadi': 3, 'twitter': 3, 'right': 3, 'suggest': 3, 'lucus': 2, 'octob': 2, 'utah': 2, 'courtesi': 2, 'director': 2, 'hillari': 2, 'relev': 2, 'found': 2, 'notifi': 2, 'review': 2, 'inform': 2, 'chairman': 2, 'polit': 2, 'light': 2, 'appar': 2, 'fact': 2, 'year': 2, 'worth': 2, 'time': 2, 'receiv': 2, 'let': 2, 'explos': 2, 'daili': 2, 'kos': 2, 'noth': 2, 'far': 2, 'someth': 2, 'vote': 2, 'religi': 2, 'christian': 2, 'connect': 2, 'subscrib': 1, 'stump': 1, 'american': 1, 'fork': 1, 'imag': 1, 'michael': 1, 'jolley': 1, 'avail': 1, 'creativ': 1, 'common': 1, 'licens': 1, 'apolog': 1, 'keith': 1, 'olbermann': 1, 'doubt': 1, 'week': 1, 'jame': 1, 'sent': 1, 'infam': 1, 'announc': 1, 'relat': 1, 'clinton': 1, 'server': 1, 'hear': 1, 'via': 1, 'intellig': 1, 'judiciari': 1, 'agenc': 1, 'recent': 1, 'discov': 1, 'order': 1, 'contain': 1, 'classifi': 1, 'went': 1, 'set': 1, 'ablaz': 1, 'dir': 1, 'learn': 1, 'exist': 1, 'appear': 1, 'pertin': 1, 'reopen': 1, 'jasoninthehous': 1, 'cours': 1, 'actual': 1, 'say': 1, 'unrel': 1, 'anthoni': 1, 'weiner': 1, 'sext': 1, 'teenag': 1, 'littl': 1, 'thing': 1, 'matter': 1, 'vow': 1, 'initi': 1, 'raft': 1, 'win': 1, 'possibl': 1, 'entir': 1, 'term': 1, 'thought': 1, 'work': 1, 'result': 1, 'briefli': 1, 'roil': 1, 'nation': 1, 'cooler': 1, 'head': 1, 'realiz': 1, 'dud': 1, 'senior': 1, 'misread': 1, 'sin': 1, 'told': 1, 'shareblu': 1, 'boss': 1, 'check': 1, 'didn': 1, 'govern': 1, 'reform': 1, 'public': 1, 'got': 1, 'tell': 1, 'gop': 1, 'major': 1, 'develop': 1, 'potenti': 1, 'neither': 1, 'colleagu': 1, 'counterpart': 1, 'instead': 1, 'find': 1, 'talk': 1, 'provid': 1, 'advanc': 1, 'notic': 1, 'give': 1, 'spin': 1, 'machin': 1, 'good': 1, 'theater': 1, 'anyth': 1, 'grossli': 1, 'incompet': 1, 'tone': 1, 'deaf': 1, 'act': 1, 'make': 1, 'dan': 1, 'burton': 1, 'issa': 1, 'model': 1, 'respons': 1, 'bipartisanship': 1, 'decenc': 1, 'elijah': 1, 'cum': 1, 'trampl': 1, 'basic': 1, 'standard': 1, 'fair': 1, 'grant': 1, 'like': 1, 'will': 1, 'answer': 1, 'sit': 1, 'ridicul': 1, 'district': 1, 'anchor': 1, 'provo': 1, 'orem': 1, 'cook': 1, 'partisan': 1, 'index': 1, 'gave': 1, 'mitt': 1, 'romney': 1, 'punish': 1, 'percent': 1, 'moreov': 1, 'leadership': 1, 'given': 1, 'full': 1, 'support': 1, 'plan': 1, 'fish': 1, 'expedit': 1, 'mean': 1, 'cannot': 1, 'hot': 1, 'textbook': 1, 'exampl': 1, 'becom': 1, 'control': 1, 'graduat': 1, 'univers': 1, 'north': 1, 'carolina': 1, 'consid': 1, 'journalist': 1, 'school': 1, 'attempt': 1, 'colleg': 1, 'succeed': 1, 'nightmar': 1, 'charismat': 1, 'unapologet': 1, 'liber': 1, 'desir': 1, 'stand': 1, 'scare': 1, 'silenc': 1, 'increas': 1, 'surviv': 1, 'abus': 1, 'marriag': 1, 'follow': 1, 'darrelllucus': 1, 'facebook': 1, 'click': 1, 'buy': 1, 'mello': 1, 'yello': 1})\n",
      "The number of different stems in the first news article is: 247\n"
     ]
    }
   ],
   "source": [
    "from collections import Counter\n",
    "\n",
    "# Use counter to count the number of occurrences of each word. It returns a dictionary where the key is the word and the value is the word frequency.\n",
    "words_count = Counter(stems[0])\n",
    "\n",
    "# 获取不同词的数量，也就是字典的键的数量\n",
    "unique_count = len(words_count)\n",
    "print(words_count)\n",
    "print(\"The number of different stems in the first news article is:\", unique_count)"
   ]
  },
  {
   "cell_type": "markdown",
   "metadata": {},
   "source": [
    "#### 1.2.2 Lemmatization"
   ]
  },
  {
   "cell_type": "code",
   "execution_count": 35,
   "metadata": {},
   "outputs": [],
   "source": [
    "# lemmatize with standard spaCy lemmatizer (takes a couple of minutes)\n",
    "nlp_standard = spacy.load('en_core_web_sm')\n",
    "def lemmatize_sent(sent):\n",
    "    sent = ' '.join(sent)\n",
    "    doc = nlp_standard(sent)\n",
    "    lemmas = [token.lemma_ if token.lemma_ != '-PRON-' else token.text for token in doc]\n",
    "    return lemmas\n",
    "\n",
    "# apply function\n",
    "lemmas = list(map(lemmatize_sent, tokens_custom))"
   ]
  },
  {
   "cell_type": "code",
   "execution_count": 36,
   "metadata": {},
   "outputs": [
    {
     "name": "stdout",
     "output_type": "stream",
     "text": [
      "The total number of lemmas is: 8120623\n"
     ]
    }
   ],
   "source": [
    "count_lemmas = 0\n",
    "for sub_list in lemmas:\n",
    "    for _ in sub_list:\n",
    "        count_lemmas += 1\n",
    "print(\"The total number of lemmas is:\", count_lemmas)"
   ]
  },
  {
   "cell_type": "code",
   "execution_count": 37,
   "metadata": {},
   "outputs": [
    {
     "name": "stdout",
     "output_type": "stream",
     "text": [
      "Minimum text length: 0\n",
      "Maximum text length: 11090\n",
      "Average text length: 390.4145673076923\n",
      "Median text length: 294\n"
     ]
    }
   ],
   "source": [
    "# calculates and prints the minimum, maximum, average, and median lengths\n",
    "text_lengths(lemmas)"
   ]
  },
  {
   "cell_type": "code",
   "execution_count": 38,
   "metadata": {},
   "outputs": [
    {
     "name": "stdout",
     "output_type": "stream",
     "text": [
      "{'tokens_custom': 8113711, 'stems': 8113711, 'lemmas': 8120623}\n"
     ]
    }
   ],
   "source": [
    "# total_count_ is a dictionary used to store the count of each list\n",
    "total_count_ = {'tokens_custom': 0, 'stems': 0, 'lemmas': 0}\n",
    "\n",
    "# Iterate through these three lists and count them separately\n",
    "for tokens_name, tokens in zip(['tokens_custom', 'stems', 'lemmas'], [tokens_custom, stems, lemmas]):\n",
    "    for sub_list in tokens:\n",
    "        # Count the elements of each sublist\n",
    "        total_count_[tokens_name] += len(sub_list)\n",
    "\n",
    "print(total_count_)\n"
   ]
  },
  {
   "cell_type": "code",
   "execution_count": 39,
   "metadata": {},
   "outputs": [
    {
     "name": "stdout",
     "output_type": "stream",
     "text": [
      "House Dem Aide: We Didn’t Even See Comey’s Letter Until Jason Chaffetz Tweeted It House Dem Aide: We Didn’t Even See Comey’s Letter Until Jason Chaffetz Tweeted I \n",
      "\n",
      "tokens_custom:  ['house', 'dem', 'aide', 'comey', 'letter', 'jason', 'chaffetz', 'tweeted', 'house', 'dem', 'aide', 'comey', 'letter', 'jason', 'chaffetz', 'tweeted', 'darrell', 'lucus', 'october', 'subscribe'] \n",
      "\n",
      "Stems:  ['hous', 'dem', 'aid', 'comey', 'letter', 'jason', 'chaffetz', 'tweet', 'hous', 'dem', 'aid', 'comey', 'letter', 'jason', 'chaffetz', 'tweet', 'darrel', 'lucus', 'octob', 'subscrib'] \n",
      "\n",
      "Lemmas:  ['house', 'dem', 'aide', 'comey', 'letter', 'jason', 'chaffetz', 'tweet', 'house', 'dem', 'aide', 'comey', 'letter', 'jason', 'chaffetz', 'tweet', 'darrell', 'lucus', 'october', 'subscribe']\n"
     ]
    }
   ],
   "source": [
    "# compare the same document\n",
    "i = 0\n",
    "print(df.loc[i, \"docs\"][0:162], \"\\n\")\n",
    "print(\"tokens_custom: \", tokens_custom[i][0:20], \"\\n\")\n",
    "print(\"Stems: \", stems[i][0:20], \"\\n\")\n",
    "print(\"Lemmas: \", lemmas[i][0:20])"
   ]
  },
  {
   "cell_type": "markdown",
   "metadata": {},
   "source": [
    "### 1.3 Restricting the vocabulary by looking at the term frequency\n",
    "\n",
    "Finally, one might want to drop very frequent terms, as they could be regarded as corpus-specific terms that do not add up much value. Similarly, one might want to drop very rare terms, considering that not much can be learnt from such infrequent items. Here I used lemmatization as an example.\n",
    "\n",
    "To explore these ideas we will rank tokens according to pure document frequency (df) or term frequency inverse document frequency (tf-idf), where high weight is given to terms that appear frequently in the entire dataset, but in relatively few documents. In particular, the tf-idf score for term $v$ is computed according to the formula below:\n",
    "\n",
    "\\begin{equation}\n",
    "tfidf_v = (1+log(tf_v)) (log \\frac{N}{df_v+1})\n",
    "\\end{equation}"
   ]
  },
  {
   "cell_type": "code",
   "execution_count": 40,
   "metadata": {},
   "outputs": [],
   "source": [
    "def do_nothing(docs):\n",
    "    return docs"
   ]
  },
  {
   "cell_type": "code",
   "execution_count": 41,
   "metadata": {},
   "outputs": [
    {
     "name": "stdout",
     "output_type": "stream",
     "text": [
      "Processing chunk of size 1000\n"
     ]
    },
    {
     "name": "stderr",
     "output_type": "stream",
     "text": [
      "d:\\Anaconda\\envs\\fakenew\\lib\\site-packages\\sklearn\\feature_extraction\\text.py:521: UserWarning: The parameter 'token_pattern' will not be used since 'tokenizer' is not None'\n",
      "  warnings.warn(\n"
     ]
    },
    {
     "name": "stdout",
     "output_type": "stream",
     "text": [
      "Processing chunk of size 1000\n",
      "Processing chunk of size 1000\n",
      "Processing chunk of size 1000\n",
      "Processing chunk of size 1000\n",
      "Processing chunk of size 1000\n",
      "Processing chunk of size 1000\n",
      "Processing chunk of size 1000\n",
      "Processing chunk of size 1000\n",
      "Processing chunk of size 1000\n",
      "Processing chunk of size 1000\n",
      "Processing chunk of size 1000\n",
      "Processing chunk of size 1000\n",
      "Processing chunk of size 1000\n",
      "Processing chunk of size 1000\n",
      "Processing chunk of size 1000\n",
      "Processing chunk of size 1000\n",
      "Processing chunk of size 1000\n",
      "Processing chunk of size 1000\n",
      "Processing chunk of size 1000\n",
      "Processing chunk of size 800\n"
     ]
    }
   ],
   "source": [
    "from sklearn.feature_extraction.text import TfidfVectorizer\n",
    "import numpy as np\n",
    "from collections import defaultdict\n",
    "\n",
    "def chunk_tokens(tokens, chunk_size):\n",
    "    \"\"\"Generator function to split tokens into chunks.\"\"\"\n",
    "    for i in range(0, len(tokens), chunk_size):\n",
    "        yield tokens[i:i + chunk_size]\n",
    "\n",
    "tokens = lemmas  # token list\n",
    "chunk_size = 1000  # Number of rows processed each time\n",
    "\n",
    "# Dictionary to keep track of document frequency for each term\n",
    "df_dict = defaultdict(int)\n",
    "\n",
    "# Process tokens in chunks\n",
    "for chunk in chunk_tokens(tokens, chunk_size):\n",
    "    print(f\"Processing chunk of size {len(chunk)}\")\n",
    "\n",
    "    # Generate document frequency ranking for the current chunk\n",
    "    vectorizer = TfidfVectorizer(use_idf=False, norm=None, tokenizer=do_nothing, preprocessor=do_nothing)\n",
    "    df_matrix = vectorizer.fit_transform(chunk)  # Term-document matrix for the chunk\n",
    "    df_matrix_bool = (df_matrix > 0).astype(int)  # Binary matrix: 1 if term is present, 0 otherwise\n",
    "\n",
    "    # Sum the binary matrix across rows to get document frequency for the chunk\n",
    "    scores_df = df_matrix_bool.sum(axis=0).A1  # .A1 converts the matrix to a 1D array (dense form)\n",
    "\n",
    "    # Update global document frequency dictionary\n",
    "    for term, idx in vectorizer.vocabulary_.items():\n",
    "        df_dict[term] += scores_df[idx]  # Increment document frequency for the term\n",
    "\n",
    "# Now sort the terms by document frequency\n",
    "sorted_terms = sorted(df_dict.items(), key=lambda x: x[1], reverse=True)\n",
    "\n",
    "# Extract the sorted terms and their document frequencies\n",
    "sorted_vocab_keys = [term for term, _ in sorted_terms]\n",
    "sorted_scores_df = [score for _, score in sorted_terms]\n",
    "df_ranking = list(zip(sorted_vocab_keys, sorted_scores_df))\n",
    "\n",
    "# Convert document frequencies to log scale (using natural log)\n",
    "log_sorted_scores_df = np.log(np.array(sorted_scores_df) + 1)  # Adding 1 to avoid log(0)\n",
    "log_df_ranking = list(zip(sorted_vocab_keys, log_sorted_scores_df))\n"
   ]
  },
  {
   "cell_type": "code",
   "execution_count": 42,
   "metadata": {},
   "outputs": [
    {
     "data": {
      "text/plain": [
       "[('will', 12777),\n",
       " ('can', 11299),\n",
       " ('people', 11179),\n",
       " ('year', 11122),\n",
       " ('time', 10842),\n",
       " ('come', 9272),\n",
       " ('know', 9158),\n",
       " ('call', 8578),\n",
       " ('use', 8568),\n",
       " ('president', 8549)]"
      ]
     },
     "execution_count": 42,
     "metadata": {},
     "output_type": "execute_result"
    }
   ],
   "source": [
    "# Display the top 10 terms by document frequency\n",
    "df_ranking[:10]  "
   ]
  },
  {
   "cell_type": "code",
   "execution_count": 43,
   "metadata": {},
   "outputs": [
    {
     "data": {
      "text/plain": [
       "[('will', 9.455480221162288),\n",
       " ('can', 9.332558004700433),\n",
       " ('people', 9.32188174670909),\n",
       " ('year', 9.316770315592029),\n",
       " ('time', 9.291274989472182),\n",
       " ('come', 9.134862230800225),\n",
       " ('know', 9.122492281402987),\n",
       " ('call', 9.057072635572965),\n",
       " ('use', 9.055906318669118),\n",
       " ('president', 9.053686561930807)]"
      ]
     },
     "execution_count": 43,
     "metadata": {},
     "output_type": "execute_result"
    }
   ],
   "source": [
    "# Display the top 10 terms by log document frequency\n",
    "log_df_ranking[:10] "
   ]
  },
  {
   "cell_type": "code",
   "execution_count": 44,
   "metadata": {},
   "outputs": [
    {
     "data": {
      "image/png": "[encoded data removed]",
      "text/plain": [
       "<Figure size 1000x600 with 1 Axes>"
      ]
     },
     "metadata": {},
     "output_type": "display_data"
    }
   ],
   "source": [
    "# plot document frequency\n",
    "# Extract the ranks and document frequencies from df_ranking\n",
    "ranks = np.arange(1, len(df_ranking) + 1)  # Rank starts from 1\n",
    "df_frequencies = [score for _, score in df_ranking]  # Document frequencies\n",
    "\n",
    "# Create the plot\n",
    "plt.figure(figsize=(10, 6))\n",
    "plt.plot(ranks, df_frequencies, marker='o', linestyle='-', color='b', markersize=4)\n",
    "\n",
    "plt.title('Document frequency ranking')\n",
    "plt.ylabel(\"Document frequency\")\n",
    "plt.xlabel(\"Term ranking\")\n",
    "plt.show()\n"
   ]
  },
  {
   "cell_type": "code",
   "execution_count": 45,
   "metadata": {},
   "outputs": [
    {
     "data": {
      "image/png": "[encoded data removed]",
      "text/plain": [
       "<Figure size 1000x600 with 1 Axes>"
      ]
     },
     "metadata": {},
     "output_type": "display_data"
    }
   ],
   "source": [
    "# plot log document frequency\n",
    "# Extract the ranks and document frequencies from log_df_ranking\n",
    "ranks2 = np.arange(1, len(log_df_ranking) + 1)  \n",
    "df_frequencies2 = [score for _, score in log_df_ranking]  \n",
    "\n",
    "# Create the plot\n",
    "plt.figure(figsize=(10, 6))\n",
    "plt.plot(ranks2, df_frequencies2, marker='o', linestyle='-', color='b', markersize=4)\n",
    "\n",
    "plt.title('Document frequency ranking (log-log)')\n",
    "plt.ylabel(\"log document frequency\")\n",
    "plt.xlabel(\"Term ranking\")\n",
    "plt.show()\n"
   ]
  },
  {
   "cell_type": "code",
   "execution_count": 46,
   "metadata": {},
   "outputs": [
    {
     "name": "stdout",
     "output_type": "stream",
     "text": [
      "Processing chunk of size 1000\n",
      "Processing chunk of size 1000\n",
      "Processing chunk of size 1000\n",
      "Processing chunk of size 1000\n",
      "Processing chunk of size 1000\n",
      "Processing chunk of size 1000\n",
      "Processing chunk of size 1000\n",
      "Processing chunk of size 1000\n",
      "Processing chunk of size 1000\n",
      "Processing chunk of size 1000\n",
      "Processing chunk of size 1000\n",
      "Processing chunk of size 1000\n",
      "Processing chunk of size 1000\n",
      "Processing chunk of size 1000\n",
      "Processing chunk of size 1000\n",
      "Processing chunk of size 1000\n",
      "Processing chunk of size 1000\n",
      "Processing chunk of size 1000\n",
      "Processing chunk of size 1000\n",
      "Processing chunk of size 1000\n",
      "Processing chunk of size 800\n"
     ]
    },
    {
     "data": {
      "text/plain": [
       "[('voter', 97.4740804004918),\n",
       " ('clinton', 96.6936279486895),\n",
       " ('human', 95.89100158405469),\n",
       " ('mrs', 94.86636502773396),\n",
       " ('economic', 94.6624048856768),\n",
       " ('book', 94.3524876536071),\n",
       " ('hard', 93.71298014547048),\n",
       " ('child', 93.23982545932044),\n",
       " ('idea', 93.13633214977392),\n",
       " ('border', 93.06213248999835)]"
      ]
     },
     "execution_count": 46,
     "metadata": {},
     "output_type": "execute_result"
    }
   ],
   "source": [
    "import numpy as np\n",
    "from collections import defaultdict\n",
    "from sklearn.feature_extraction.text import TfidfVectorizer\n",
    "\n",
    "# Function to compute term-frequency inverse document frequency (TF-IDF)\n",
    "def tf_idf_compute(term, num_docs, scores_tf, scores_df):\n",
    "    return (1 + np.log(scores_tf[term])) * np.log(num_docs / (1 + scores_df[term]))\n",
    "\n",
    "# Function to chunk tokens\n",
    "def chunk_tokens(tokens, chunk_size):\n",
    "    \"\"\"Generator function to split tokens into chunks.\"\"\"\n",
    "    for i in range(0, len(tokens), chunk_size):\n",
    "        yield tokens[i:i + chunk_size]\n",
    "\n",
    "tokens = lemmas  # token list\n",
    "chunk_size = 1000  # Number of rows processed each time\n",
    "\n",
    "# Dictionary to keep track of term frequency and document frequency for each term\n",
    "tf_dict = defaultdict(int)  # Term frequency dictionary\n",
    "df_dict = defaultdict(int)  # Document frequency dictionary\n",
    "tfidf_dict = defaultdict(float)  # Final TF-IDF values\n",
    "\n",
    "# Process tokens in chunks\n",
    "for chunk in chunk_tokens(tokens, chunk_size):\n",
    "    print(f\"Processing chunk of size {len(chunk)}\")\n",
    "\n",
    "    # Generate term-document matrix for the current chunk\n",
    "    vectorizer = TfidfVectorizer(use_idf=False, norm=None, tokenizer=do_nothing, preprocessor=do_nothing)\n",
    "    df_matrix = vectorizer.fit_transform(chunk)  # Term-document matrix for the chunk\n",
    "\n",
    "    # Sum the word frequency matrix across rows to get term frequency for the chunk\n",
    "    scores_tf = df_matrix.sum(axis=0).A1  # Convert to a 1D array\n",
    "\n",
    "    # Update document frequency dictionary for each term in the current chunk\n",
    "    df_matrix_bool = (df_matrix > 0).astype(int)  # Binary matrix (1 if term is present in doc)\n",
    "    for term, idx in vectorizer.vocabulary_.items():\n",
    "        df_dict[term] += df_matrix_bool[0, idx]  # Increment document frequency for the term\n",
    "        tf_dict[term] += scores_tf[idx]  # Increment term frequency for the term\n",
    "\n",
    "# Calculate TF-IDF for each term across all chunks\n",
    "num_docs = len(tokens)  # Total number of documents (chunks processed)\n",
    "for term in df_dict:\n",
    "    tfidf_dict[term] = tf_idf_compute(term, num_docs, tf_dict, df_dict)\n",
    "\n",
    "# Sort the terms by their TF-IDF values in descending order\n",
    "sorted_terms_tfidf = sorted(tfidf_dict.items(), key=lambda x: x[1], reverse=True)\n",
    "\n",
    "# Extract the sorted terms and their TF-IDF scores\n",
    "sorted_vocab_keys_tfidf = [term for term, _ in sorted_terms_tfidf]\n",
    "sorted_scores_tfidf = [score for _, score in sorted_terms_tfidf]\n",
    "\n",
    "# Display the top 10 terms by TF-IDF\n",
    "tfidf_ranking = list(zip(sorted_vocab_keys_tfidf, sorted_scores_tfidf))\n",
    "tfidf_ranking[:10]  # Top 10 ranked terms by TF-IDF\n"
   ]
  },
  {
   "cell_type": "code",
   "execution_count": 47,
   "metadata": {},
   "outputs": [
    {
     "data": {
      "image/png": "[encoded data removed]",
      "text/plain": [
       "<Figure size 1000x600 with 1 Axes>"
      ]
     },
     "metadata": {},
     "output_type": "display_data"
    }
   ],
   "source": [
    "# plot TF-IDF\n",
    "# Extract the ranks and document frequencies from df_ranking\n",
    "tfidf_ranks = np.arange(1, len(tfidf_ranking) + 1)  # Rank starts from 1\n",
    "tfidf_frequencies = [score for _, score in tfidf_ranking]  # Document frequencies\n",
    "\n",
    "# Create the plot\n",
    "plt.figure(figsize=(10, 6))\n",
    "plt.plot(tfidf_ranks, tfidf_frequencies, marker='o', linestyle='-', color='b', markersize=4)\n",
    "\n",
    "plt.title('Tf-idf ranking')\n",
    "plt.ylabel(\"tf-idf\")\n",
    "plt.xlabel(\"Term ranking\")\n",
    "plt.show()\n"
   ]
  },
  {
   "cell_type": "markdown",
   "metadata": {},
   "source": [
    "Using the *tfidf* ranking, for instance, we can see that removing stems that have a score lower than the score of stems in positions around 5,800 might be reasonable; they are relatively uninformative and lots of them have a similar score.\n"
   ]
  },
  {
   "cell_type": "code",
   "execution_count": 48,
   "metadata": {},
   "outputs": [
    {
     "data": {
      "text/plain": [
       "16.834468467182088"
      ]
     },
     "execution_count": 48,
     "metadata": {},
     "output_type": "execute_result"
    }
   ],
   "source": [
    "# get the score of the stem in position 60000\n",
    "tfidf_ranking[60000][1]"
   ]
  },
  {
   "cell_type": "code",
   "execution_count": 49,
   "metadata": {},
   "outputs": [
    {
     "data": {
      "text/plain": [
       "'equilar'"
      ]
     },
     "execution_count": 49,
     "metadata": {},
     "output_type": "execute_result"
    }
   ],
   "source": [
    "# get the score of the stem in position 60000\n",
    "tfidf_ranking[60000][0]"
   ]
  },
  {
   "cell_type": "code",
   "execution_count": 50,
   "metadata": {},
   "outputs": [
    {
     "name": "stdout",
     "output_type": "stream",
     "text": [
      "136787\n"
     ]
    }
   ],
   "source": [
    "# Check how many unique words there are\n",
    "print(len(tfidf_ranking)) "
   ]
  },
  {
   "cell_type": "code",
   "execution_count": 51,
   "metadata": {},
   "outputs": [],
   "source": [
    "# auxiliary function to easily remove undesired tokens\n",
    "def remove(tokens, to_remove):\n",
    "    if to_remove:\n",
    "        return [t for t in tokens if t not in to_remove]\n",
    "    else:\n",
    "        return tokens\n",
    "\n",
    "# function to remove tokens in documents according to their df or tfidf score \n",
    "def rank_remove(ranking, docs, min_cutoff_score, max_cutoff_score):\n",
    "\n",
    "    # define list of tokens to remove\n",
    "    to_remove_low = set([t[0] for t in ranking if t[1] <= min_cutoff_score])\n",
    "    to_remove_high = set([t[0] for t in ranking if t[1] > max_cutoff_score])\n",
    "\n",
    "    # remove tokens\n",
    "    docs_clean = [remove(d, to_remove_low) for d in docs]\n",
    "    docs_clean = [remove(d, to_remove_high) for d in docs_clean] \n",
    "\n",
    "    return docs_clean"
   ]
  },
  {
   "cell_type": "code",
   "execution_count": 52,
   "metadata": {},
   "outputs": [],
   "source": [
    "lemmas_clean = rank_remove(tfidf_ranking, lemmas, min_cutoff_score=tfidf_ranking[60000][1], max_cutoff_score=np.inf)"
   ]
  },
  {
   "cell_type": "code",
   "execution_count": 53,
   "metadata": {},
   "outputs": [
    {
     "name": "stdout",
     "output_type": "stream",
     "text": [
      "8025062\n"
     ]
    }
   ],
   "source": [
    "# The number of lemmas after restriction\n",
    "words_count = 0\n",
    "for tokens in lemmas_clean:\n",
    "    words_count += len(tokens)\n",
    "\n",
    "print(words_count)"
   ]
  },
  {
   "cell_type": "code",
   "execution_count": 54,
   "metadata": {},
   "outputs": [
    {
     "name": "stdout",
     "output_type": "stream",
     "text": [
      "8120623\n"
     ]
    }
   ],
   "source": [
    "# Number of lemmas before limit\n",
    "words_count = 0\n",
    "for tokens in lemmas:\n",
    "    words_count += len(tokens)\n",
    "\n",
    "print(words_count)"
   ]
  },
  {
   "cell_type": "code",
   "execution_count": 55,
   "metadata": {},
   "outputs": [
    {
     "data": {
      "text/plain": [
       "20800"
      ]
     },
     "execution_count": 55,
     "metadata": {},
     "output_type": "execute_result"
    }
   ],
   "source": [
    "len(lemmas_clean)"
   ]
  },
  {
   "cell_type": "code",
   "execution_count": 56,
   "metadata": {},
   "outputs": [
    {
     "name": "stdout",
     "output_type": "stream",
     "text": [
      "Minimum text length: 0\n",
      "Maximum text length: 10913\n",
      "Average text length: 385.82028846153844\n",
      "Median text length: 291\n"
     ]
    }
   ],
   "source": [
    "# calculates and prints the minimum, maximum, average, and median lengths\n",
    "text_lengths(lemmas_clean)"
   ]
  },
  {
   "cell_type": "code",
   "execution_count": 57,
   "metadata": {},
   "outputs": [
    {
     "data": {
      "text/plain": [
       "20800"
      ]
     },
     "execution_count": 57,
     "metadata": {},
     "output_type": "execute_result"
    }
   ],
   "source": [
    "len(lemmas_clean)"
   ]
  },
  {
   "cell_type": "markdown",
   "metadata": {},
   "source": [
    "## 2 Vectorization\n",
    "I selected **four vectorization representations**, specifically **document frequency** and **TF-IDF** within the Bag-of-Words model, **Word2Vec** within the Word Embedding model, and **Convolutional Neural Network (CNN)** within the Deep Learning model."
   ]
  },
  {
   "cell_type": "markdown",
   "metadata": {},
   "source": [
    "### 2.1 Bag of Words"
   ]
  },
  {
   "cell_type": "markdown",
   "metadata": {},
   "source": [
    "#### 2.1.1 Word frequency"
   ]
  },
  {
   "cell_type": "code",
   "execution_count": 58,
   "metadata": {},
   "outputs": [],
   "source": [
    "from sklearn.feature_extraction.text import CountVectorizer"
   ]
  },
  {
   "cell_type": "code",
   "execution_count": 59,
   "metadata": {},
   "outputs": [],
   "source": [
    "# simple auxiliary function to override the preprocessing done by sklearn\n",
    "def do_nothing(doc):\n",
    "    return doc"
   ]
  },
  {
   "cell_type": "code",
   "execution_count": 60,
   "metadata": {},
   "outputs": [
    {
     "data": {
      "text/html": [
       "<style>#sk-container-id-1 {\n",
       "  /* Definition of color scheme common for light and dark mode */\n",
       "  --sklearn-color-text: black;\n",
       "  --sklearn-color-line: gray;\n",
       "  /* Definition of color scheme for unfitted estimators */\n",
       "  --sklearn-color-unfitted-level-0: #fff5e6;\n",
       "  --sklearn-color-unfitted-level-1: #f6e4d2;\n",
       "  --sklearn-color-unfitted-level-2: #ffe0b3;\n",
       "  --sklearn-color-unfitted-level-3: chocolate;\n",
       "  /* Definition of color scheme for fitted estimators */\n",
       "  --sklearn-color-fitted-level-0: #f0f8ff;\n",
       "  --sklearn-color-fitted-level-1: #d4ebff;\n",
       "  --sklearn-color-fitted-level-2: #b3dbfd;\n",
       "  --sklearn-color-fitted-level-3: cornflowerblue;\n",
       "\n",
       "  /* Specific color for light theme */\n",
       "  --sklearn-color-text-on-default-background: var(--sg-text-color, var(--theme-code-foreground, var(--jp-content-font-color1, black)));\n",
       "  --sklearn-color-background: var(--sg-background-color, var(--theme-background, var(--jp-layout-color0, white)));\n",
       "  --sklearn-color-border-box: var(--sg-text-color, var(--theme-code-foreground, var(--jp-content-font-color1, black)));\n",
       "  --sklearn-color-icon: #696969;\n",
       "\n",
       "  @media (prefers-color-scheme: dark) {\n",
       "    /* Redefinition of color scheme for dark theme */\n",
       "    --sklearn-color-text-on-default-background: var(--sg-text-color, var(--theme-code-foreground, var(--jp-content-font-color1, white)));\n",
       "    --sklearn-color-background: var(--sg-background-color, var(--theme-background, var(--jp-layout-color0, #111)));\n",
       "    --sklearn-color-border-box: var(--sg-text-color, var(--theme-code-foreground, var(--jp-content-font-color1, white)));\n",
       "    --sklearn-color-icon: #878787;\n",
       "  }\n",
       "}\n",
       "\n",
       "#sk-container-id-1 {\n",
       "  color: var(--sklearn-color-text);\n",
       "}\n",
       "\n",
       "#sk-container-id-1 pre {\n",
       "  padding: 0;\n",
       "}\n",
       "\n",
       "#sk-container-id-1 input.sk-hidden--visually {\n",
       "  border: 0;\n",
       "  clip: rect(1px 1px 1px 1px);\n",
       "  clip: rect(1px, 1px, 1px, 1px);\n",
       "  height: 1px;\n",
       "  margin: -1px;\n",
       "  overflow: hidden;\n",
       "  padding: 0;\n",
       "  position: absolute;\n",
       "  width: 1px;\n",
       "}\n",
       "\n",
       "#sk-container-id-1 div.sk-dashed-wrapped {\n",
       "  border: 1px dashed var(--sklearn-color-line);\n",
       "  margin: 0 0.4em 0.5em 0.4em;\n",
       "  box-sizing: border-box;\n",
       "  padding-bottom: 0.4em;\n",
       "  background-color: var(--sklearn-color-background);\n",
       "}\n",
       "\n",
       "#sk-container-id-1 div.sk-container {\n",
       "  /* jupyter's `normalize.less` sets `[hidden] { display: none; }`\n",
       "     but bootstrap.min.css set `[hidden] { display: none !important; }`\n",
       "     so we also need the `!important` here to be able to override the\n",
       "     default hidden behavior on the sphinx rendered scikit-learn.org.\n",
       "     See: https://github.com/scikit-learn/scikit-learn/issues/21755 */\n",
       "  display: inline-block !important;\n",
       "  position: relative;\n",
       "}\n",
       "\n",
       "#sk-container-id-1 div.sk-text-repr-fallback {\n",
       "  display: none;\n",
       "}\n",
       "\n",
       "div.sk-parallel-item,\n",
       "div.sk-serial,\n",
       "div.sk-item {\n",
       "  /* draw centered vertical line to link estimators */\n",
       "  background-image: linear-gradient(var(--sklearn-color-text-on-default-background), var(--sklearn-color-text-on-default-background));\n",
       "  background-size: 2px 100%;\n",
       "  background-repeat: no-repeat;\n",
       "  background-position: center center;\n",
       "}\n",
       "\n",
       "/* Parallel-specific style estimator block */\n",
       "\n",
       "#sk-container-id-1 div.sk-parallel-item::after {\n",
       "  content: \"\";\n",
       "  width: 100%;\n",
       "  border-bottom: 2px solid var(--sklearn-color-text-on-default-background);\n",
       "  flex-grow: 1;\n",
       "}\n",
       "\n",
       "#sk-container-id-1 div.sk-parallel {\n",
       "  display: flex;\n",
       "  align-items: stretch;\n",
       "  justify-content: center;\n",
       "  background-color: var(--sklearn-color-background);\n",
       "  position: relative;\n",
       "}\n",
       "\n",
       "#sk-container-id-1 div.sk-parallel-item {\n",
       "  display: flex;\n",
       "  flex-direction: column;\n",
       "}\n",
       "\n",
       "#sk-container-id-1 div.sk-parallel-item:first-child::after {\n",
       "  align-self: flex-end;\n",
       "  width: 50%;\n",
       "}\n",
       "\n",
       "#sk-container-id-1 div.sk-parallel-item:last-child::after {\n",
       "  align-self: flex-start;\n",
       "  width: 50%;\n",
       "}\n",
       "\n",
       "#sk-container-id-1 div.sk-parallel-item:only-child::after {\n",
       "  width: 0;\n",
       "}\n",
       "\n",
       "/* Serial-specific style estimator block */\n",
       "\n",
       "#sk-container-id-1 div.sk-serial {\n",
       "  display: flex;\n",
       "  flex-direction: column;\n",
       "  align-items: center;\n",
       "  background-color: var(--sklearn-color-background);\n",
       "  padding-right: 1em;\n",
       "  padding-left: 1em;\n",
       "}\n",
       "\n",
       "\n",
       "/* Toggleable style: style used for estimator/Pipeline/ColumnTransformer box that is\n",
       "clickable and can be expanded/collapsed.\n",
       "- Pipeline and ColumnTransformer use this feature and define the default style\n",
       "- Estimators will overwrite some part of the style using the `sk-estimator` class\n",
       "*/\n",
       "\n",
       "/* Pipeline and ColumnTransformer style (default) */\n",
       "\n",
       "#sk-container-id-1 div.sk-toggleable {\n",
       "  /* Default theme specific background. It is overwritten whether we have a\n",
       "  specific estimator or a Pipeline/ColumnTransformer */\n",
       "  background-color: var(--sklearn-color-background);\n",
       "}\n",
       "\n",
       "/* Toggleable label */\n",
       "#sk-container-id-1 label.sk-toggleable__label {\n",
       "  cursor: pointer;\n",
       "  display: block;\n",
       "  width: 100%;\n",
       "  margin-bottom: 0;\n",
       "  padding: 0.5em;\n",
       "  box-sizing: border-box;\n",
       "  text-align: center;\n",
       "}\n",
       "\n",
       "#sk-container-id-1 label.sk-toggleable__label-arrow:before {\n",
       "  /* Arrow on the left of the label */\n",
       "  content: \"▸\";\n",
       "  float: left;\n",
       "  margin-right: 0.25em;\n",
       "  color: var(--sklearn-color-icon);\n",
       "}\n",
       "\n",
       "#sk-container-id-1 label.sk-toggleable__label-arrow:hover:before {\n",
       "  color: var(--sklearn-color-text);\n",
       "}\n",
       "\n",
       "/* Toggleable content - dropdown */\n",
       "\n",
       "#sk-container-id-1 div.sk-toggleable__content {\n",
       "  max-height: 0;\n",
       "  max-width: 0;\n",
       "  overflow: hidden;\n",
       "  text-align: left;\n",
       "  /* unfitted */\n",
       "  background-color: var(--sklearn-color-unfitted-level-0);\n",
       "}\n",
       "\n",
       "#sk-container-id-1 div.sk-toggleable__content.fitted {\n",
       "  /* fitted */\n",
       "  background-color: var(--sklearn-color-fitted-level-0);\n",
       "}\n",
       "\n",
       "#sk-container-id-1 div.sk-toggleable__content pre {\n",
       "  margin: 0.2em;\n",
       "  border-radius: 0.25em;\n",
       "  color: var(--sklearn-color-text);\n",
       "  /* unfitted */\n",
       "  background-color: var(--sklearn-color-unfitted-level-0);\n",
       "}\n",
       "\n",
       "#sk-container-id-1 div.sk-toggleable__content.fitted pre {\n",
       "  /* unfitted */\n",
       "  background-color: var(--sklearn-color-fitted-level-0);\n",
       "}\n",
       "\n",
       "#sk-container-id-1 input.sk-toggleable__control:checked~div.sk-toggleable__content {\n",
       "  /* Expand drop-down */\n",
       "  max-height: 200px;\n",
       "  max-width: 100%;\n",
       "  overflow: auto;\n",
       "}\n",
       "\n",
       "#sk-container-id-1 input.sk-toggleable__control:checked~label.sk-toggleable__label-arrow:before {\n",
       "  content: \"▾\";\n",
       "}\n",
       "\n",
       "/* Pipeline/ColumnTransformer-specific style */\n",
       "\n",
       "#sk-container-id-1 div.sk-label input.sk-toggleable__control:checked~label.sk-toggleable__label {\n",
       "  color: var(--sklearn-color-text);\n",
       "  background-color: var(--sklearn-color-unfitted-level-2);\n",
       "}\n",
       "\n",
       "#sk-container-id-1 div.sk-label.fitted input.sk-toggleable__control:checked~label.sk-toggleable__label {\n",
       "  background-color: var(--sklearn-color-fitted-level-2);\n",
       "}\n",
       "\n",
       "/* Estimator-specific style */\n",
       "\n",
       "/* Colorize estimator box */\n",
       "#sk-container-id-1 div.sk-estimator input.sk-toggleable__control:checked~label.sk-toggleable__label {\n",
       "  /* unfitted */\n",
       "  background-color: var(--sklearn-color-unfitted-level-2);\n",
       "}\n",
       "\n",
       "#sk-container-id-1 div.sk-estimator.fitted input.sk-toggleable__control:checked~label.sk-toggleable__label {\n",
       "  /* fitted */\n",
       "  background-color: var(--sklearn-color-fitted-level-2);\n",
       "}\n",
       "\n",
       "#sk-container-id-1 div.sk-label label.sk-toggleable__label,\n",
       "#sk-container-id-1 div.sk-label label {\n",
       "  /* The background is the default theme color */\n",
       "  color: var(--sklearn-color-text-on-default-background);\n",
       "}\n",
       "\n",
       "/* On hover, darken the color of the background */\n",
       "#sk-container-id-1 div.sk-label:hover label.sk-toggleable__label {\n",
       "  color: var(--sklearn-color-text);\n",
       "  background-color: var(--sklearn-color-unfitted-level-2);\n",
       "}\n",
       "\n",
       "/* Label box, darken color on hover, fitted */\n",
       "#sk-container-id-1 div.sk-label.fitted:hover label.sk-toggleable__label.fitted {\n",
       "  color: var(--sklearn-color-text);\n",
       "  background-color: var(--sklearn-color-fitted-level-2);\n",
       "}\n",
       "\n",
       "/* Estimator label */\n",
       "\n",
       "#sk-container-id-1 div.sk-label label {\n",
       "  font-family: monospace;\n",
       "  font-weight: bold;\n",
       "  display: inline-block;\n",
       "  line-height: 1.2em;\n",
       "}\n",
       "\n",
       "#sk-container-id-1 div.sk-label-container {\n",
       "  text-align: center;\n",
       "}\n",
       "\n",
       "/* Estimator-specific */\n",
       "#sk-container-id-1 div.sk-estimator {\n",
       "  font-family: monospace;\n",
       "  border: 1px dotted var(--sklearn-color-border-box);\n",
       "  border-radius: 0.25em;\n",
       "  box-sizing: border-box;\n",
       "  margin-bottom: 0.5em;\n",
       "  /* unfitted */\n",
       "  background-color: var(--sklearn-color-unfitted-level-0);\n",
       "}\n",
       "\n",
       "#sk-container-id-1 div.sk-estimator.fitted {\n",
       "  /* fitted */\n",
       "  background-color: var(--sklearn-color-fitted-level-0);\n",
       "}\n",
       "\n",
       "/* on hover */\n",
       "#sk-container-id-1 div.sk-estimator:hover {\n",
       "  /* unfitted */\n",
       "  background-color: var(--sklearn-color-unfitted-level-2);\n",
       "}\n",
       "\n",
       "#sk-container-id-1 div.sk-estimator.fitted:hover {\n",
       "  /* fitted */\n",
       "  background-color: var(--sklearn-color-fitted-level-2);\n",
       "}\n",
       "\n",
       "/* Specification for estimator info (e.g. \"i\" and \"?\") */\n",
       "\n",
       "/* Common style for \"i\" and \"?\" */\n",
       "\n",
       ".sk-estimator-doc-link,\n",
       "a:link.sk-estimator-doc-link,\n",
       "a:visited.sk-estimator-doc-link {\n",
       "  float: right;\n",
       "  font-size: smaller;\n",
       "  line-height: 1em;\n",
       "  font-family: monospace;\n",
       "  background-color: var(--sklearn-color-background);\n",
       "  border-radius: 1em;\n",
       "  height: 1em;\n",
       "  width: 1em;\n",
       "  text-decoration: none !important;\n",
       "  margin-left: 1ex;\n",
       "  /* unfitted */\n",
       "  border: var(--sklearn-color-unfitted-level-1) 1pt solid;\n",
       "  color: var(--sklearn-color-unfitted-level-1);\n",
       "}\n",
       "\n",
       ".sk-estimator-doc-link.fitted,\n",
       "a:link.sk-estimator-doc-link.fitted,\n",
       "a:visited.sk-estimator-doc-link.fitted {\n",
       "  /* fitted */\n",
       "  border: var(--sklearn-color-fitted-level-1) 1pt solid;\n",
       "  color: var(--sklearn-color-fitted-level-1);\n",
       "}\n",
       "\n",
       "/* On hover */\n",
       "div.sk-estimator:hover .sk-estimator-doc-link:hover,\n",
       ".sk-estimator-doc-link:hover,\n",
       "div.sk-label-container:hover .sk-estimator-doc-link:hover,\n",
       ".sk-estimator-doc-link:hover {\n",
       "  /* unfitted */\n",
       "  background-color: var(--sklearn-color-unfitted-level-3);\n",
       "  color: var(--sklearn-color-background);\n",
       "  text-decoration: none;\n",
       "}\n",
       "\n",
       "div.sk-estimator.fitted:hover .sk-estimator-doc-link.fitted:hover,\n",
       ".sk-estimator-doc-link.fitted:hover,\n",
       "div.sk-label-container:hover .sk-estimator-doc-link.fitted:hover,\n",
       ".sk-estimator-doc-link.fitted:hover {\n",
       "  /* fitted */\n",
       "  background-color: var(--sklearn-color-fitted-level-3);\n",
       "  color: var(--sklearn-color-background);\n",
       "  text-decoration: none;\n",
       "}\n",
       "\n",
       "/* Span, style for the box shown on hovering the info icon */\n",
       ".sk-estimator-doc-link span {\n",
       "  display: none;\n",
       "  z-index: 9999;\n",
       "  position: relative;\n",
       "  font-weight: normal;\n",
       "  right: .2ex;\n",
       "  padding: .5ex;\n",
       "  margin: .5ex;\n",
       "  width: min-content;\n",
       "  min-width: 20ex;\n",
       "  max-width: 50ex;\n",
       "  color: var(--sklearn-color-text);\n",
       "  box-shadow: 2pt 2pt 4pt #999;\n",
       "  /* unfitted */\n",
       "  background: var(--sklearn-color-unfitted-level-0);\n",
       "  border: .5pt solid var(--sklearn-color-unfitted-level-3);\n",
       "}\n",
       "\n",
       ".sk-estimator-doc-link.fitted span {\n",
       "  /* fitted */\n",
       "  background: var(--sklearn-color-fitted-level-0);\n",
       "  border: var(--sklearn-color-fitted-level-3);\n",
       "}\n",
       "\n",
       ".sk-estimator-doc-link:hover span {\n",
       "  display: block;\n",
       "}\n",
       "\n",
       "/* \"?\"-specific style due to the `<a>` HTML tag */\n",
       "\n",
       "#sk-container-id-1 a.estimator_doc_link {\n",
       "  float: right;\n",
       "  font-size: 1rem;\n",
       "  line-height: 1em;\n",
       "  font-family: monospace;\n",
       "  background-color: var(--sklearn-color-background);\n",
       "  border-radius: 1rem;\n",
       "  height: 1rem;\n",
       "  width: 1rem;\n",
       "  text-decoration: none;\n",
       "  /* unfitted */\n",
       "  color: var(--sklearn-color-unfitted-level-1);\n",
       "  border: var(--sklearn-color-unfitted-level-1) 1pt solid;\n",
       "}\n",
       "\n",
       "#sk-container-id-1 a.estimator_doc_link.fitted {\n",
       "  /* fitted */\n",
       "  border: var(--sklearn-color-fitted-level-1) 1pt solid;\n",
       "  color: var(--sklearn-color-fitted-level-1);\n",
       "}\n",
       "\n",
       "/* On hover */\n",
       "#sk-container-id-1 a.estimator_doc_link:hover {\n",
       "  /* unfitted */\n",
       "  background-color: var(--sklearn-color-unfitted-level-3);\n",
       "  color: var(--sklearn-color-background);\n",
       "  text-decoration: none;\n",
       "}\n",
       "\n",
       "#sk-container-id-1 a.estimator_doc_link.fitted:hover {\n",
       "  /* fitted */\n",
       "  background-color: var(--sklearn-color-fitted-level-3);\n",
       "}\n",
       "</style><div id=\"sk-container-id-1\" class=\"sk-top-container\"><div class=\"sk-text-repr-fallback\"><pre>CountVectorizer(lowercase=False, max_df=0.9, min_df=0.1,\n",
       "                preprocessor=&lt;function do_nothing at 0x00000291511E6E60&gt;,\n",
       "                tokenizer=&lt;function do_nothing at 0x00000291511E6E60&gt;)</pre><b>In a Jupyter environment, please rerun this cell to show the HTML representation or trust the notebook. <br />On GitHub, the HTML representation is unable to render, please try loading this page with nbviewer.org.</b></div><div class=\"sk-container\" hidden><div class=\"sk-item\"><div class=\"sk-estimator  sk-toggleable\"><input class=\"sk-toggleable__control sk-hidden--visually\" id=\"sk-estimator-id-1\" type=\"checkbox\" checked><label for=\"sk-estimator-id-1\" class=\"sk-toggleable__label  sk-toggleable__label-arrow \">&nbsp;&nbsp;CountVectorizer<a class=\"sk-estimator-doc-link \" rel=\"noreferrer\" target=\"_blank\" href=\"https://scikit-learn.org/1.5/modules/generated/sklearn.feature_extraction.text.CountVectorizer.html\">?<span>Documentation for CountVectorizer</span></a><span class=\"sk-estimator-doc-link \">i<span>Not fitted</span></span></label><div class=\"sk-toggleable__content \"><pre>CountVectorizer(lowercase=False, max_df=0.9, min_df=0.1,\n",
       "                preprocessor=&lt;function do_nothing at 0x00000291511E6E60&gt;,\n",
       "                tokenizer=&lt;function do_nothing at 0x00000291511E6E60&gt;)</pre></div> </div></div></div></div>"
      ],
      "text/plain": [
       "CountVectorizer(lowercase=False, max_df=0.9, min_df=0.1,\n",
       "                preprocessor=<function do_nothing at 0x00000291511E6E60>,\n",
       "                tokenizer=<function do_nothing at 0x00000291511E6E60>)"
      ]
     },
     "execution_count": 60,
     "metadata": {},
     "output_type": "execute_result"
    }
   ],
   "source": [
    "# we can also create a weighted vectorizer object\n",
    "# however we will not use it in the analysis\n",
    "vectorizer = CountVectorizer(preprocessor=do_nothing,              # apply no additional preprocessing\n",
    "                                      tokenizer=do_nothing,                 # apply no additional tokenization\n",
    "                                      lowercase=False,                      # convert all characters to lower-case\n",
    "                                      strip_accents=None,                   # remove non-ascii characters\n",
    "                                      stop_words=None,                      # remove stopwords from a built-in list. We can also provide our own list\n",
    "                                      ngram_range=(1, 1),                   # generate only unigrams\n",
    "                                      analyzer='word',                      # analysis at the word-level \n",
    "                                      max_df=0.9,                           # ignore tokens that have a higher document frequency (can be int or percent)\n",
    "                                      min_df=0.1,                           # ignore tokens that have a lowe document frequency (can be int or percent)\n",
    "                                      max_features=None,                    # we could impose a maximum number of vocabulary terms\n",
    "                                   )                       \n",
    "\n",
    "vectorizer\n"
   ]
  },
  {
   "cell_type": "code",
   "execution_count": 61,
   "metadata": {},
   "outputs": [
    {
     "name": "stdout",
     "output_type": "stream",
     "text": [
      "432\n"
     ]
    }
   ],
   "source": [
    "# create the document term matrix using cleanedlemmas\n",
    "df_matrix = vectorizer.fit_transform(lemmas_clean).toarray()\n",
    "vocabulary_custom = vectorizer.vocabulary_\n",
    "print(len(vocabulary_custom))"
   ]
  },
  {
   "cell_type": "code",
   "execution_count": 62,
   "metadata": {},
   "outputs": [
    {
     "data": {
      "text/plain": [
       "['able',\n",
       " 'accord',\n",
       " 'account',\n",
       " 'across',\n",
       " 'act',\n",
       " 'action',\n",
       " 'actually',\n",
       " 'add',\n",
       " 'address',\n",
       " 'administration']"
      ]
     },
     "execution_count": 62,
     "metadata": {},
     "output_type": "execute_result"
    }
   ],
   "source": [
    "vocabulary_custom = sorted(vocabulary_custom)\n",
    "vocabulary_custom[:10]"
   ]
  },
  {
   "cell_type": "code",
   "execution_count": 63,
   "metadata": {},
   "outputs": [
    {
     "data": {
      "text/plain": [
       "array(['able', 'accord', 'account', 'across', 'act', 'action', 'actually',\n",
       "       'add', 'address', 'administration', 'agency', 'ago', 'agree',\n",
       "       'allow', 'almost', 'along', 'already', 'although', 'always',\n",
       "       'america', 'american', 'americans', 'among', 'announce', 'anyone',\n",
       "       'anything', 'appear', 'area', 'around', 'article', 'ask', 'attack',\n",
       "       'attempt', 'authority', 'away', 'bad', 'base', 'become', 'begin',\n",
       "       'behind', 'believe', 'big', 'bill', 'black', 'book', 'break',\n",
       "       'breitbart', 'bring', 'build', 'business', 'call', 'campaign',\n",
       "       'can', 'candidate', 'care', 'carry', 'case', 'cause', 'center',\n",
       "       'challenge', 'change', 'charge', 'chief', 'child', 'choose',\n",
       "       'city', 'claim', 'clear', 'clinton', 'close', 'com', 'come',\n",
       "       'comment', 'community', 'company', 'concern', 'congress',\n",
       "       'consider', 'continue', 'control', 'country', 'course', 'court',\n",
       "       'cover', 'create', 'current', 'cut', 'daily', 'day', 'deal',\n",
       "       'death', 'decade', 'decide', 'decision', 'democratic',\n",
       "       'department', 'describe', 'despite', 'die', 'different',\n",
       "       'director', 'discuss', 'do', 'donald', 'drive', 'early',\n",
       "       'economic', 'effort', 'either', 'elect', 'election', 'email',\n",
       "       'end', 'enough', 'especially', 'event', 'everyone', 'everything',\n",
       "       'evidence', 'example', 'executive', 'expect', 'experience',\n",
       "       'explain', 'express', 'face', 'facebook', 'fact', 'fail', 'fall',\n",
       "       'family', 'far', 'fear', 'federal', 'feel', 'fight', 'figure',\n",
       "       'find', 'fire', 'focus', 'follow', 'force', 'foreign', 'form',\n",
       "       'former', 'free', 'friday', 'friend', 'full', 'future', 'general',\n",
       "       'get', 'give', 'global', 'go', 'good', 'government', 'great',\n",
       "       'group', 'grow', 'half', 'hand', 'happen', 'hard', 'head',\n",
       "       'health', 'hear', 'help', 'hillary', 'history', 'hold', 'home',\n",
       "       'hope', 'hour', 'house', 'human', 'idea', 'important', 'include',\n",
       "       'increase', 'information', 'instead', 'interest', 'international',\n",
       "       'interview', 'investigation', 'involve', 'issue', 'job', 'john',\n",
       "       'join', 'justice', 'keep', 'kill', 'kind', 'know', 'large', 'last',\n",
       "       'late', 'later', 'law', 'lead', 'leader', 'learn', 'leave', 'let',\n",
       "       'level', 'lie', 'life', 'likely', 'line', 'list', 'little', 'live',\n",
       "       'local', 'long', 'look', 'lose', 'lot', 'love', 'low', 'major',\n",
       "       'make', 'man', 'matter', 'may', 'mean', 'medium', 'meet', 'member',\n",
       "       'message', 'might', 'military', 'million', 'moment', 'monday',\n",
       "       'money', 'month', 'morning', 'move', 'much', 'must', 'name',\n",
       "       'nation', 'national', 'near', 'nearly', 'need', 'news', 'next',\n",
       "       'night', 'north', 'not', 'note', 'nothing', 'november', 'number',\n",
       "       'obama', 'october', 'offer', 'office', 'officer', 'official',\n",
       "       'often', 'open', 'order', 'organization', 'other', 'outside',\n",
       "       'part', 'party', 'pass', 'past', 'pay', 'people', 'percent',\n",
       "       'perhaps', 'person', 'place', 'plan', 'play', 'point', 'police',\n",
       "       'policy', 'political', 'position', 'possible', 'post', 'power',\n",
       "       'present', 'president', 'presidential', 'press', 'private',\n",
       "       'problem', 'process', 'program', 'promise', 'protect', 'provide',\n",
       "       'public', 'publish', 'push', 'question', 'raise', 'rather',\n",
       "       'reach', 'read', 'real', 'really', 'reason', 'receive', 'recent',\n",
       "       'recently', 'record', 'release', 'remain', 'report', 'reporter',\n",
       "       'republican', 'require', 'respond', 'response', 'result', 'return',\n",
       "       'reveal', 'right', 'rise', 'role', 'rule', 'run', 'russia', 'say',\n",
       "       'school', 'secretary', 'security', 'see', 'seek', 'seem', 'send',\n",
       "       'senior', 'serve', 'service', 'set', 'several', 'share', 'show',\n",
       "       'side', 'sign', 'simply', 'six', 'small', 'social', 'someone',\n",
       "       'something', 'soon', 'source', 'south', 'speak', 'speech', 'spend',\n",
       "       'stand', 'start', 'state', 'statement', 'states', 'stay', 'step',\n",
       "       'stop', 'story', 'street', 'strong', 'study', 'suggest', 'support',\n",
       "       'supporter', 'sure', 'system', 'take', 'talk', 'target', 'team',\n",
       "       'tell', 'term', 'thing', 'think', 'though', 'thousand', 'threat',\n",
       "       'thursday', 'time', 'times', 'today', 'together', 'top', 'true',\n",
       "       'trump', 'try', 'tuesday', 'turn', 'twitter', 'understand',\n",
       "       'united', 'university', 'use', 'video', 'view', 'vote', 'voter',\n",
       "       'wall', 'want', 'war', 'washington', 'watch', 'wednesday', 'week',\n",
       "       'well', 'white', 'whose', 'will', 'win', 'within', 'without',\n",
       "       'woman', 'word', 'work', 'world', 'write', 'year', 'yet', 'york',\n",
       "       'young'], dtype=object)"
      ]
     },
     "execution_count": 63,
     "metadata": {},
     "output_type": "execute_result"
    }
   ],
   "source": [
    "# another way of looking at the vocabulary (ordered by index in the document-term matrix)\n",
    "vectorizer.get_feature_names_out()"
   ]
  },
  {
   "cell_type": "code",
   "execution_count": 64,
   "metadata": {},
   "outputs": [
    {
     "name": "stdout",
     "output_type": "stream",
     "text": [
      "(20800, 432)\n",
      "int64\n"
     ]
    }
   ],
   "source": [
    "print(df_matrix.shape)  # The shape of the output array\n",
    "print(df_matrix.dtype)  # Output the data type of array elements, such as float64, etc."
   ]
  },
  {
   "cell_type": "markdown",
   "metadata": {},
   "source": [
    "#### 2.1.2 TF-IDF"
   ]
  },
  {
   "cell_type": "code",
   "execution_count": 65,
   "metadata": {},
   "outputs": [],
   "source": [
    "from sklearn.feature_extraction.text import TfidfVectorizer"
   ]
  },
  {
   "cell_type": "code",
   "execution_count": 66,
   "metadata": {},
   "outputs": [],
   "source": [
    "# we can also create a weighted vectorizer object\n",
    "# however we will not use it in the analysis\n",
    "weighted_vectorizer = TfidfVectorizer(preprocessor=do_nothing,              # apply no additional preprocessing\n",
    "                                      tokenizer=do_nothing,                 # apply no additional tokenization\n",
    "                                      lowercase=False,                      # convert all characters to lower-case\n",
    "                                      strip_accents=None,                   # remove non-ascii characters\n",
    "                                      stop_words=None,                      # remove stopwords from a built-in list. We can also provide our own list\n",
    "                                      ngram_range=(1, 1),                   # generate only unigrams\n",
    "                                      analyzer='word',                      # analysis at the word-level \n",
    "                                      max_df=0.9,                           # ignore tokens that have a higher document frequency (can be int or percent)\n",
    "                                      min_df=0.1,                           # ignore tokens that have a lowe document frequency (can be int or percent)\n",
    "                                      max_features=None,                    # we could impose a maximum number of vocabulary terms\n",
    "                                      \n",
    "                                      use_idf=True,                         # wether to apply inverse document frequency weights\n",
    "                                      smooth_idf=True,                      # add +1 to idf weighting\n",
    "                                      sublinear_tf=True                     # add +1 to log(tf)\n",
    "                                   )                       \n",
    "\n",
    "\n",
    "weighted_df_matrix = weighted_vectorizer.fit_transform(lemmas_clean).toarray()"
   ]
  },
  {
   "cell_type": "code",
   "execution_count": 67,
   "metadata": {},
   "outputs": [
    {
     "name": "stdout",
     "output_type": "stream",
     "text": [
      "(20800, 432)\n",
      "float64\n"
     ]
    }
   ],
   "source": [
    "print(weighted_df_matrix.shape)  \n",
    "print(weighted_df_matrix.dtype)  "
   ]
  },
  {
   "cell_type": "code",
   "execution_count": 68,
   "metadata": {},
   "outputs": [
    {
     "name": "stdout",
     "output_type": "stream",
     "text": [
      "432\n"
     ]
    }
   ],
   "source": [
    "weighted_vocabulary_custom = weighted_vectorizer.vocabulary_\n",
    "print(len(weighted_vocabulary_custom))"
   ]
  },
  {
   "cell_type": "code",
   "execution_count": 69,
   "metadata": {},
   "outputs": [
    {
     "data": {
      "text/plain": [
       "array(['able', 'accord', 'account', 'across', 'act', 'action', 'actually',\n",
       "       'add', 'address', 'administration', 'agency', 'ago', 'agree',\n",
       "       'allow', 'almost', 'along', 'already', 'although', 'always',\n",
       "       'america', 'american', 'americans', 'among', 'announce', 'anyone',\n",
       "       'anything', 'appear', 'area', 'around', 'article', 'ask', 'attack',\n",
       "       'attempt', 'authority', 'away', 'bad', 'base', 'become', 'begin',\n",
       "       'behind', 'believe', 'big', 'bill', 'black', 'book', 'break',\n",
       "       'breitbart', 'bring', 'build', 'business', 'call', 'campaign',\n",
       "       'can', 'candidate', 'care', 'carry', 'case', 'cause', 'center',\n",
       "       'challenge', 'change', 'charge', 'chief', 'child', 'choose',\n",
       "       'city', 'claim', 'clear', 'clinton', 'close', 'com', 'come',\n",
       "       'comment', 'community', 'company', 'concern', 'congress',\n",
       "       'consider', 'continue', 'control', 'country', 'course', 'court',\n",
       "       'cover', 'create', 'current', 'cut', 'daily', 'day', 'deal',\n",
       "       'death', 'decade', 'decide', 'decision', 'democratic',\n",
       "       'department', 'describe', 'despite', 'die', 'different',\n",
       "       'director', 'discuss', 'do', 'donald', 'drive', 'early',\n",
       "       'economic', 'effort', 'either', 'elect', 'election', 'email',\n",
       "       'end', 'enough', 'especially', 'event', 'everyone', 'everything',\n",
       "       'evidence', 'example', 'executive', 'expect', 'experience',\n",
       "       'explain', 'express', 'face', 'facebook', 'fact', 'fail', 'fall',\n",
       "       'family', 'far', 'fear', 'federal', 'feel', 'fight', 'figure',\n",
       "       'find', 'fire', 'focus', 'follow', 'force', 'foreign', 'form',\n",
       "       'former', 'free', 'friday', 'friend', 'full', 'future', 'general',\n",
       "       'get', 'give', 'global', 'go', 'good', 'government', 'great',\n",
       "       'group', 'grow', 'half', 'hand', 'happen', 'hard', 'head',\n",
       "       'health', 'hear', 'help', 'hillary', 'history', 'hold', 'home',\n",
       "       'hope', 'hour', 'house', 'human', 'idea', 'important', 'include',\n",
       "       'increase', 'information', 'instead', 'interest', 'international',\n",
       "       'interview', 'investigation', 'involve', 'issue', 'job', 'john',\n",
       "       'join', 'justice', 'keep', 'kill', 'kind', 'know', 'large', 'last',\n",
       "       'late', 'later', 'law', 'lead', 'leader', 'learn', 'leave', 'let',\n",
       "       'level', 'lie', 'life', 'likely', 'line', 'list', 'little', 'live',\n",
       "       'local', 'long', 'look', 'lose', 'lot', 'love', 'low', 'major',\n",
       "       'make', 'man', 'matter', 'may', 'mean', 'medium', 'meet', 'member',\n",
       "       'message', 'might', 'military', 'million', 'moment', 'monday',\n",
       "       'money', 'month', 'morning', 'move', 'much', 'must', 'name',\n",
       "       'nation', 'national', 'near', 'nearly', 'need', 'news', 'next',\n",
       "       'night', 'north', 'not', 'note', 'nothing', 'november', 'number',\n",
       "       'obama', 'october', 'offer', 'office', 'officer', 'official',\n",
       "       'often', 'open', 'order', 'organization', 'other', 'outside',\n",
       "       'part', 'party', 'pass', 'past', 'pay', 'people', 'percent',\n",
       "       'perhaps', 'person', 'place', 'plan', 'play', 'point', 'police',\n",
       "       'policy', 'political', 'position', 'possible', 'post', 'power',\n",
       "       'present', 'president', 'presidential', 'press', 'private',\n",
       "       'problem', 'process', 'program', 'promise', 'protect', 'provide',\n",
       "       'public', 'publish', 'push', 'question', 'raise', 'rather',\n",
       "       'reach', 'read', 'real', 'really', 'reason', 'receive', 'recent',\n",
       "       'recently', 'record', 'release', 'remain', 'report', 'reporter',\n",
       "       'republican', 'require', 'respond', 'response', 'result', 'return',\n",
       "       'reveal', 'right', 'rise', 'role', 'rule', 'run', 'russia', 'say',\n",
       "       'school', 'secretary', 'security', 'see', 'seek', 'seem', 'send',\n",
       "       'senior', 'serve', 'service', 'set', 'several', 'share', 'show',\n",
       "       'side', 'sign', 'simply', 'six', 'small', 'social', 'someone',\n",
       "       'something', 'soon', 'source', 'south', 'speak', 'speech', 'spend',\n",
       "       'stand', 'start', 'state', 'statement', 'states', 'stay', 'step',\n",
       "       'stop', 'story', 'street', 'strong', 'study', 'suggest', 'support',\n",
       "       'supporter', 'sure', 'system', 'take', 'talk', 'target', 'team',\n",
       "       'tell', 'term', 'thing', 'think', 'though', 'thousand', 'threat',\n",
       "       'thursday', 'time', 'times', 'today', 'together', 'top', 'true',\n",
       "       'trump', 'try', 'tuesday', 'turn', 'twitter', 'understand',\n",
       "       'united', 'university', 'use', 'video', 'view', 'vote', 'voter',\n",
       "       'wall', 'want', 'war', 'washington', 'watch', 'wednesday', 'week',\n",
       "       'well', 'white', 'whose', 'will', 'win', 'within', 'without',\n",
       "       'woman', 'word', 'work', 'world', 'write', 'year', 'yet', 'york',\n",
       "       'young'], dtype=object)"
      ]
     },
     "execution_count": 69,
     "metadata": {},
     "output_type": "execute_result"
    }
   ],
   "source": [
    "# another way of looking at the vocabulary (ordered by index in the document-term matrix)\n",
    "weighted_vectorizer.get_feature_names_out()"
   ]
  },
  {
   "cell_type": "markdown",
   "metadata": {},
   "source": [
    "### 2.2 Word Embedding\n"
   ]
  },
  {
   "cell_type": "markdown",
   "metadata": {},
   "source": [
    "#### 2.2.1 Word2Vec"
   ]
  },
  {
   "cell_type": "code",
   "execution_count": 70,
   "metadata": {},
   "outputs": [
    {
     "data": {
      "text/plain": [
       "(786834983, 802506200)"
      ]
     },
     "execution_count": 70,
     "metadata": {},
     "output_type": "execute_result"
    }
   ],
   "source": [
    "from gensim.models import Word2Vec\n",
    "\n",
    "# Train word2vec model (it takes a while to run)\n",
    "wordmodel = Word2Vec(lemmas_clean, \n",
    "                     vector_size=432,       # Represent each word as a 432-dimensional vector\n",
    "                     window=5,              # Consider a window of 5 words on either side of the current word when learning vector representations\n",
    "                     min_count=5,           # Ignore words that appear less than 5 times in the corpus\n",
    "                     workers=4)             # Use 4 worker threads for parallel processing\n",
    "\n",
    "wordmodel.train(lemmas_clean, total_examples=len(lemmas_clean), epochs=100)"
   ]
  },
  {
   "cell_type": "code",
   "execution_count": 71,
   "metadata": {},
   "outputs": [
    {
     "name": "stdout",
     "output_type": "stream",
     "text": [
      "[array([-1.37967432e+00,  1.12848759e+00,  2.29112768e+00,  9.08640385e-01,\n",
      "        2.90850973e+00, -9.73519981e-01, -2.44137779e-01,  8.60751033e-01,\n",
      "       -1.71121073e+00, -1.51986015e+00,  3.79908830e-01,  2.83208042e-01,\n",
      "       -8.94105375e-01,  3.90094936e-01, -1.75233459e+00,  1.33268678e+00,\n",
      "        1.18274724e+00,  3.41023088e-01, -2.89260983e-01, -9.86262798e-01,\n",
      "        1.27158618e+00, -1.72689307e+00, -1.45022416e+00,  1.25100696e+00,\n",
      "       -2.28926420e-01, -1.46099174e+00, -3.10535682e-03, -1.35112619e+00,\n",
      "       -1.74213916e-01, -3.30926001e-01, -8.79877746e-01,  4.19226959e-02,\n",
      "        3.72577339e-01,  3.38585414e-02, -2.06256524e-01, -2.36199945e-01,\n",
      "        2.94137955e-01, -9.97129261e-01, -6.94705367e-01,  3.98206189e-02,\n",
      "       -5.17238081e-01,  5.50930321e-01, -3.90564847e+00, -4.85996664e-01,\n",
      "       -5.23125350e-01, -1.07823038e+00, -1.64223701e-01,  1.20842099e+00,\n",
      "       -5.44269204e-01,  1.51701891e+00, -6.70813560e-01,  1.93016216e-01,\n",
      "       -4.19702172e-01, -4.20100480e-01, -1.16066284e-01,  1.02053416e+00,\n",
      "        5.52967012e-01, -7.07390487e-01, -4.46606219e-01,  6.54360950e-01,\n",
      "        1.06934942e-01,  2.26028845e-01, -1.03884506e+00, -2.12158704e+00,\n",
      "       -4.02243555e-01, -2.90975533e-02,  1.63249061e-01,  2.48802304e+00,\n",
      "        1.40280914e+00,  1.88200489e-01, -4.70658839e-02,  2.18967938e+00,\n",
      "       -5.53889394e-01,  1.49275315e+00, -1.80297479e-01, -8.26042652e-01,\n",
      "        8.59668255e-01,  3.12554352e-02,  3.18723083e-01, -9.97725308e-01,\n",
      "        1.95976615e-01, -1.66512862e-01,  1.83875000e+00,  6.71235919e-02,\n",
      "       -1.30900896e+00, -1.91178370e+00, -8.35053623e-01,  9.81191024e-02,\n",
      "       -7.10010648e-01, -1.52249408e+00,  5.15007973e-01, -1.11952412e+00,\n",
      "       -1.42649972e+00,  1.63902318e+00,  1.90700841e+00,  2.22966731e-01,\n",
      "       -6.70443475e-01, -1.74050823e-01, -1.47707951e+00, -7.37395346e-01,\n",
      "       -1.26066804e+00,  1.04761076e+00,  4.56170559e-01,  9.03180167e-02,\n",
      "        8.65877628e-01,  5.49800277e-01,  1.72996330e+00, -1.44900084e+00,\n",
      "        5.24972439e-01, -2.01345158e+00,  2.99865425e-01, -3.59590530e-01,\n",
      "       -1.00027823e+00,  4.52761799e-01,  2.43867636e-01, -2.88105726e-01,\n",
      "        1.13497794e+00, -1.97303736e+00, -4.00289804e-01, -7.36042783e-02,\n",
      "       -1.62127554e+00,  1.62919021e+00, -2.73336291e-01, -1.59926489e-01,\n",
      "        2.98230518e-02,  1.17696548e+00, -1.00311585e-01, -6.33979082e-01,\n",
      "       -1.06289070e-02, -3.95502239e-01, -1.96175188e-01, -1.29986811e+00,\n",
      "       -5.10275662e-01, -1.46861160e+00,  5.73294699e-01,  6.79515541e-01,\n",
      "        9.21534359e-01, -1.36074930e-01,  1.71692812e+00, -1.86653122e-01,\n",
      "       -8.65703821e-01, -3.71689945e-01, -1.61547768e+00,  2.05348682e+00,\n",
      "        9.76468861e-01, -1.63013086e-01, -1.21522224e+00,  4.74672943e-01,\n",
      "        6.83414698e-01, -3.36685628e-01, -7.36399412e-01,  5.01896799e-01,\n",
      "       -9.32805300e-01,  7.19261467e-02,  1.39988649e+00, -8.96665812e-01,\n",
      "       -3.15558881e-01,  3.41017604e-01, -5.68153143e-01, -6.63738251e-01,\n",
      "        1.11768019e+00,  3.02933514e-01,  5.72110057e-01,  3.71322483e-02,\n",
      "       -2.52488303e+00,  2.68751353e-01,  8.49301636e-01, -1.90974438e+00,\n",
      "        1.72810173e+00,  2.74987549e-01,  2.43205309e+00, -3.62672115e-04,\n",
      "        2.16390014e+00,  1.37965047e+00,  2.10722461e-02, -9.69875753e-01,\n",
      "        1.59249961e-01,  2.03504920e+00, -1.29084897e+00,  1.77222896e+00,\n",
      "       -2.07836843e+00, -2.11874157e-01,  1.34694386e+00,  9.46345866e-01,\n",
      "        4.25698936e-01, -1.42338121e+00,  5.74643791e-01, -7.67743528e-01,\n",
      "        5.36534429e-01, -1.52306557e+00, -9.61913943e-01,  4.75776583e-01,\n",
      "        1.54249799e+00,  4.29799467e-01,  1.26077271e+00,  1.38473535e+00,\n",
      "        1.59922552e+00,  1.00077939e+00,  9.89002705e-01, -1.06899524e+00,\n",
      "        7.20216215e-01,  1.41645098e+00, -2.70893002e+00, -2.60974139e-01,\n",
      "        3.54789853e-01, -1.37611580e+00,  1.12318254e+00,  1.68731332e+00,\n",
      "       -7.59568095e-01,  1.03487480e+00, -1.85752466e-01, -3.24115694e-01,\n",
      "        9.86099124e-01, -5.37345350e-01,  1.47712100e+00,  6.43906772e-01,\n",
      "        1.37041152e+00, -1.51782119e+00,  6.20976746e-01,  1.13463831e+00,\n",
      "       -1.49805641e+00,  9.67587888e-01,  1.57018840e-01, -1.92341912e+00,\n",
      "       -2.95331717e-01,  1.71108246e-01, -2.58536959e+00, -6.58883393e-01,\n",
      "       -1.02521610e+00,  2.83138841e-01, -3.02743137e-01,  6.05911374e-01,\n",
      "       -2.54458404e+00, -4.05946225e-01,  5.28354347e-01,  1.15832186e+00,\n",
      "        1.37553775e+00, -1.20621577e-01,  3.16427559e-01,  1.63325757e-01,\n",
      "        3.06019843e-01, -3.64907943e-02, -1.31353676e+00, -7.30894029e-01,\n",
      "        2.13147257e-03,  2.97206140e+00,  3.34711105e-01,  2.17109299e+00,\n",
      "       -3.35011673e+00, -1.23136389e+00,  4.28063899e-01, -1.14478457e+00,\n",
      "       -4.16698575e-01,  1.47553873e+00, -1.14853513e+00,  5.30492663e-01,\n",
      "       -2.21018267e+00, -4.57291186e-01,  4.47980225e-01,  6.97927177e-01,\n",
      "       -2.58622456e+00,  8.47530425e-01, -6.56551242e-01,  9.83565569e-01,\n",
      "       -1.06612563e+00, -1.61725903e+00,  2.27961659e+00,  2.09047365e+00,\n",
      "        1.01771045e+00,  5.93227744e-01, -5.63879073e-01, -5.15757084e-01,\n",
      "        2.72889644e-01, -2.03471363e-01,  6.68585241e-01, -5.01997828e-01,\n",
      "        1.73812225e-01, -5.79795361e-01, -9.02195275e-01,  1.30773032e+00,\n",
      "       -2.73237884e-01, -3.62751812e-01, -5.85178196e-01,  1.93289506e+00,\n",
      "        1.62350535e+00, -1.01040936e+00, -1.37329745e+00, -1.55808020e+00,\n",
      "        2.42195630e+00, -9.60419714e-01, -1.39146304e+00,  9.25826192e-01,\n",
      "       -6.91476285e-01, -1.17484665e+00, -7.80913830e-01,  8.23733389e-01,\n",
      "       -1.31231666e-01,  1.05213726e+00,  1.61556828e+00,  5.01505099e-02,\n",
      "        1.18700230e+00,  1.37801683e+00,  2.92268634e-01, -8.30728233e-01,\n",
      "       -2.91474909e-01, -1.45021009e+00,  2.13981032e+00, -2.41907859e+00,\n",
      "       -4.73180771e-01,  1.49530399e+00,  2.21544385e+00,  9.78964090e-01,\n",
      "        7.53410384e-02, -7.65053332e-01,  8.32017303e-01, -2.32139301e+00,\n",
      "        7.17353344e-01, -2.13945508e+00,  3.29557598e-01, -5.21868229e-01,\n",
      "       -2.21949413e-01, -8.11479628e-01,  8.37241828e-01,  3.19281854e-02,\n",
      "       -3.44781518e-01,  9.65669513e-01,  4.51472759e-01,  3.92314464e-01,\n",
      "       -2.46766448e-01,  3.11838776e-01,  3.07698935e-01,  1.94754690e-01,\n",
      "       -1.46141243e+00, -3.30123663e+00,  2.88579130e+00,  1.15624118e+00,\n",
      "        1.39255536e+00, -9.39198077e-01,  2.80339718e-01, -1.95087433e+00,\n",
      "        9.19199646e-01, -1.15199117e-02,  5.32413244e-01, -3.53842229e-01,\n",
      "       -2.87003219e-01, -5.49975514e-01,  4.61671650e-02, -1.24202713e-01,\n",
      "       -2.59581152e-02,  5.38843215e-01, -1.30820370e+00, -1.84428260e-01,\n",
      "       -1.40398157e+00,  9.14858520e-01,  5.81982322e-02, -1.05020665e-01,\n",
      "        1.10470724e+00, -8.98142993e-01, -3.17878932e-01, -4.53423083e-01,\n",
      "       -6.39624655e-01,  8.66436601e-01, -8.21798146e-01,  4.65507239e-01,\n",
      "       -1.16875720e+00, -3.68343830e-01,  8.27761889e-01,  1.63463759e+00,\n",
      "        1.55569661e+00, -1.16818869e+00,  1.63548660e+00, -1.81333983e+00,\n",
      "       -1.81332171e+00, -1.67154706e+00, -1.30009055e+00,  1.01139493e-01,\n",
      "       -4.91834074e-01,  6.65534377e-01, -1.42654085e+00, -1.62300539e+00,\n",
      "       -9.63204265e-01, -2.33966208e+00,  1.67226982e+00,  5.59901536e-01,\n",
      "        3.00388962e-01, -1.49045920e+00,  1.69155669e+00,  8.34800124e-01,\n",
      "       -9.25705791e-01, -5.35700023e-01,  1.30301952e+00,  2.96633840e-01,\n",
      "        4.63566214e-01,  1.34308720e+00, -1.46100390e+00, -1.18391240e+00,\n",
      "        2.15089649e-01, -2.99074858e-01, -2.76869512e+00, -2.51340532e+00,\n",
      "        1.33226395e+00, -1.83588040e+00, -1.59450364e+00,  4.09596451e-02,\n",
      "        4.57496524e-01, -1.52642429e+00, -5.25771260e-01, -1.60015255e-01,\n",
      "        4.07576144e-01, -9.94380951e-01,  8.37066054e-01,  9.52320397e-01,\n",
      "        5.22206187e-01,  1.70379055e+00,  6.07422590e-01,  5.26603639e-01,\n",
      "       -1.30308557e+00, -1.50612339e-01,  5.91125607e-01,  1.57930958e+00,\n",
      "       -1.72032988e+00,  5.31687617e-01,  1.29986584e+00,  6.86710179e-01,\n",
      "        1.02016844e-01, -9.41972911e-01,  1.30133963e+00,  1.82098854e+00,\n",
      "       -5.64945400e-01, -4.04213555e-02, -9.40310240e-01,  5.17506540e-01],\n",
      "      dtype=float32)]\n"
     ]
    }
   ],
   "source": [
    "# Obtain the vector of a single word\n",
    "word_list = list(wordmodel.wv.index_to_key[:1])\n",
    "vectors_list = [wordmodel.wv.get_vector(word) for word in word_list]\n",
    "\n",
    "print(vectors_list)"
   ]
  },
  {
   "cell_type": "code",
   "execution_count": 72,
   "metadata": {},
   "outputs": [],
   "source": [
    "# Define a function to obtain the vector of a single news text by simple averaging\n",
    "\n",
    "def get_text_vector(text):\n",
    "    \"\"\"\n",
    "    The function is to obtain the vector representation of a single news text (passed in as a word list after word segmentation).\n",
    "\n",
    "    parameter:\n",
    "    text: The word segmentation result of a news text, which is a list containing words, such as ['word1', 'word2', 'word3'].\n",
    "\n",
    "    Return value:\n",
    "    Returns the vector representation of this news text, which is a 432-dimensional vector. \n",
    "    If the words in the text are not in the model vocabulary, a 432-dimensional vector with all 0s is returned.\n",
    "    \"\"\"\n",
    "    \n",
    "    # For each word in the text, try to obtain its corresponding word vector from the Word2Vec model\n",
    "    # Only when the word is in the vocabulary of the model, the corresponding vector can be obtained. \n",
    "    # Here, a list of word vectors is generated through list derivation.\n",
    "    vectors = [wordmodel.wv.get_vector(word) for word in text if word in wordmodel.wv]\n",
    "\n",
    "    # Determine whether the word vector has been obtained (that is, whether any words in the text are in the model vocabulary)\n",
    "    if vectors:\n",
    "        # If word vectors are obtained, use the mean function of the numpy library to find the average of these word vectors \n",
    "        # (average by column, axis=0 means column direction)\n",
    "        # The final average vector is used as the vector representation of this news text\n",
    "        return np.mean(vectors, axis=0)\n",
    "    else:\n",
    "        # If none of the words in the text are in the model vocabulary, return a 432-dimensional vector of all zeros.\n",
    "        return np.zeros(432)\n",
    "\n",
    "# Obtain the vector representation of 20,749 news articles to form a 20,749×432 matrix\n",
    "# Call the get_text_vector function for each news text to obtain its vector representation, \n",
    "# and combine the vector representations of all news texts into a list\n",
    "vectors_list = []\n",
    "for news in lemmas_clean:\n",
    "    vectors_list.append(get_text_vector(news))\n",
    "\n",
    "news_text_vectors = np.array(vectors_list)"
   ]
  },
  {
   "cell_type": "code",
   "execution_count": 73,
   "metadata": {},
   "outputs": [
    {
     "name": "stdout",
     "output_type": "stream",
     "text": [
      "(20800, 432)\n",
      "float64\n"
     ]
    }
   ],
   "source": [
    "print(news_text_vectors.shape)  # 输出数组的形状，例如(3, 3)表示二维数组，有3行3列\n",
    "print(news_text_vectors.dtype)  # 输出数组元素的数据类型，如float64等\n"
   ]
  },
  {
   "cell_type": "code",
   "execution_count": 74,
   "metadata": {},
   "outputs": [
    {
     "data": {
      "text/plain": [
       "array([-4.75411713e-02,  1.22975959e-02,  1.55057743e-01,  6.40444923e-03,\n",
       "        2.00046867e-01, -2.05500409e-01,  2.63562202e-01,  3.46514851e-01,\n",
       "       -2.13845402e-01, -8.84297788e-01, -3.91474724e-01,  3.33505660e-01,\n",
       "        1.06155075e-01,  1.69005175e-03, -4.65565436e-02,  4.92563769e-02,\n",
       "        2.23321140e-01,  6.38381124e-01,  1.98420193e-02, -5.06624341e-01,\n",
       "        7.05690756e-02, -4.43669945e-01,  1.87917858e-01,  1.19757228e-01,\n",
       "        3.43710572e-01, -3.72768611e-01, -3.92729975e-02, -5.59812784e-01,\n",
       "        5.17134905e-01, -1.79445166e-02, -7.79475123e-02,  1.46711797e-01,\n",
       "       -1.13182694e-01,  8.85034800e-02, -1.52176008e-01,  2.63624907e-01,\n",
       "       -1.69568658e-02, -4.05267358e-01, -3.20911735e-01,  2.87382871e-01,\n",
       "       -2.29718700e-01,  1.00935899e-01, -5.35083830e-01,  5.51671050e-02,\n",
       "       -7.02287778e-02, -3.00471008e-01,  8.37818012e-02, -2.29308456e-01,\n",
       "       -1.03629552e-01,  3.19152027e-01, -1.70332462e-01,  9.64747593e-02,\n",
       "       -1.68966606e-01,  2.42660061e-01, -5.17745316e-01, -1.67208657e-01,\n",
       "        1.34983048e-01, -9.25518386e-03,  3.77398670e-01,  6.86565712e-02,\n",
       "        2.70658284e-02,  2.60475993e-01, -2.51957178e-01, -3.98161411e-01,\n",
       "        2.13630766e-01,  7.50777870e-02, -1.70942932e-01,  4.34909016e-01,\n",
       "        8.13739151e-02, -4.66353267e-01, -3.18720132e-01, -1.47301555e-01,\n",
       "        8.54845252e-03,  8.38513598e-02,  1.77506924e-01, -4.50240046e-01,\n",
       "        2.21560374e-01,  1.76088363e-01,  1.40731841e-01, -7.87666142e-02,\n",
       "        3.25146765e-01, -9.62174833e-02,  1.29925981e-01, -1.05040446e-01,\n",
       "       -4.67978008e-02, -7.71469653e-01,  1.85099170e-01,  9.98679921e-03,\n",
       "        2.80067146e-01, -2.51995057e-01,  1.55394420e-01, -4.05755639e-01,\n",
       "       -1.21273898e-01,  7.22918659e-02, -2.10147560e-01, -6.86676288e-03,\n",
       "       -8.47681090e-02,  7.33394101e-02, -2.96689957e-01,  2.07314249e-02,\n",
       "        2.54954666e-01,  2.15415746e-01, -4.76257727e-02,  1.86178178e-01,\n",
       "        7.13924095e-02,  2.63441920e-01, -1.31879542e-02, -5.15255928e-01,\n",
       "        2.30827615e-01,  2.64150679e-01, -1.84587568e-01,  4.03512895e-01,\n",
       "       -2.32539803e-01,  2.07114238e-02,  4.39597853e-02,  1.24687545e-01,\n",
       "        5.33063672e-02,  6.24202266e-02,  9.81378332e-02,  2.24560216e-01,\n",
       "       -3.63590509e-01,  9.90112051e-02, -4.07578945e-02, -1.95623279e-01,\n",
       "       -1.87795416e-01, -4.72005963e-01,  2.80600816e-01, -2.68796176e-01,\n",
       "       -2.34182663e-02, -4.17865723e-01, -5.02257049e-01, -2.98542947e-01,\n",
       "        4.57047492e-01, -2.51372904e-01, -2.42610157e-01, -1.65480852e-01,\n",
       "       -6.92233145e-02, -4.08407906e-03, -1.56616449e-01,  1.54300496e-01,\n",
       "       -3.99800718e-01, -1.26248717e-01,  2.39498187e-02,  9.85807106e-02,\n",
       "       -4.06548157e-02, -9.48858485e-02, -4.23221827e-01, -2.71636009e-01,\n",
       "        1.75206542e-01,  1.67804942e-01, -3.53939384e-01,  3.30384046e-01,\n",
       "       -1.65694892e-01, -5.75974248e-02,  2.12589204e-01, -4.85110935e-03,\n",
       "        2.38263071e-01,  1.35584459e-01,  9.42339823e-02, -7.58569986e-02,\n",
       "        6.62214816e-01,  2.00724870e-01, -8.03747550e-02,  4.84959856e-02,\n",
       "       -4.22262698e-01, -5.92622012e-02, -3.05545211e-01, -2.92265952e-01,\n",
       "       -6.97849169e-02,  3.23767774e-02, -1.78919628e-01,  1.00132622e-01,\n",
       "        1.20445006e-01, -1.08149908e-02, -1.12053668e-02, -4.37628627e-01,\n",
       "        6.35348335e-02,  3.60858679e-01, -2.93637693e-01,  3.18593740e-01,\n",
       "       -1.93450049e-01, -1.12996340e-01,  3.64825994e-01, -9.40372876e-04,\n",
       "       -2.76001632e-01,  2.56653912e-02, -1.41952649e-01,  1.69228688e-01,\n",
       "       -1.38436198e-01, -1.43776402e-01, -8.80203620e-02, -3.08666229e-01,\n",
       "        3.06416482e-01, -2.29604721e-01, -8.07279199e-02,  1.76525697e-01,\n",
       "        2.42044210e-01,  2.77701408e-01,  8.88877828e-03, -1.19524680e-01,\n",
       "       -3.21455263e-02, -1.56494915e-01, -1.00422502e-01, -5.34419239e-01,\n",
       "        4.77076508e-02, -7.15694278e-02,  1.89552367e-01, -2.86890447e-01,\n",
       "       -9.99675170e-02,  4.07498986e-01,  5.29449172e-02, -8.04452300e-02,\n",
       "       -2.96428621e-01, -4.82496023e-01,  2.37461463e-01,  2.60841072e-01,\n",
       "        4.36598033e-01, -1.68500006e-01, -6.59071580e-02,  1.82272911e-01,\n",
       "        1.15902983e-01,  6.99722208e-04,  2.79744357e-01,  3.33062053e-01,\n",
       "       -2.30337948e-01, -1.88403085e-01, -5.74318528e-01,  1.35437369e-01,\n",
       "       -2.77284712e-01,  2.80276090e-01, -2.59369075e-01, -5.85873723e-01,\n",
       "       -3.99886161e-01, -7.17353225e-02, -3.09669733e-01,  4.67986852e-01,\n",
       "        3.88333559e-01, -8.33071694e-02,  1.54657274e-01,  1.67093113e-01,\n",
       "       -2.53439806e-02, -1.09141909e-01,  8.97735208e-02, -2.63547480e-01,\n",
       "       -1.68970320e-02,  4.84837033e-02, -5.07968962e-01,  1.82070673e-01,\n",
       "       -3.56064975e-01, -5.13878986e-02, -7.22774640e-02, -7.65979588e-01,\n",
       "        5.26851594e-01,  2.94924885e-01,  7.24974126e-02,  5.04362434e-02,\n",
       "       -1.05426311e-01,  4.58835065e-01, -1.67961996e-02, -2.02727169e-01,\n",
       "       -3.58835906e-01, -3.89366969e-02, -1.89989209e-01,  2.53875285e-01,\n",
       "       -6.10183835e-01, -2.11138159e-01,  5.36167622e-01, -6.12989776e-02,\n",
       "       -3.45231546e-03, -7.66581520e-02, -5.52893579e-02, -2.15442672e-01,\n",
       "        1.03857644e-01,  6.36763692e-01,  2.24932641e-01, -5.39558589e-01,\n",
       "        3.94652635e-01,  2.86505986e-02, -4.63281423e-01,  7.39789084e-02,\n",
       "       -1.62741661e-01, -2.45429929e-02, -2.04326764e-01,  1.59397900e-01,\n",
       "        4.79628518e-02, -2.83375800e-01, -1.20750614e-01,  1.80739269e-01,\n",
       "        2.22284585e-01, -1.48213103e-01,  2.22107142e-01,  2.64843553e-01,\n",
       "       -1.78861804e-02, -1.03041768e-01,  8.88959132e-03, -1.76339328e-01,\n",
       "        3.99500906e-01,  2.66983598e-01,  3.26393172e-02,  4.52921182e-01,\n",
       "        1.81966335e-01,  8.11975226e-02,  3.59176278e-01, -3.69082570e-01,\n",
       "        1.19075984e-01,  6.78400919e-02,  2.46775284e-01, -1.49649367e-01,\n",
       "       -3.57527211e-02,  5.49646378e-01,  1.97548836e-01,  6.20418079e-02,\n",
       "       -2.89248109e-01,  3.98467124e-01, -4.30030748e-02, -4.22709495e-01,\n",
       "       -2.63953246e-02,  6.11904636e-03, -3.65405709e-01, -3.07783782e-01,\n",
       "        1.60848796e-01, -3.11305337e-02, -1.28016368e-01, -2.16925338e-01,\n",
       "       -1.82876766e-01,  1.47652641e-01, -2.06217244e-01, -3.32916290e-01,\n",
       "       -2.37857308e-02,  4.52240437e-01,  2.66328961e-01, -1.05034476e-02,\n",
       "        9.81186107e-02, -2.66905934e-01,  3.80205929e-01, -4.38460410e-01,\n",
       "        1.97357327e-01,  8.95957574e-02, -4.24765319e-01, -4.38189119e-01,\n",
       "       -2.43442386e-01,  2.16155663e-01, -1.74918845e-01, -1.53916240e-01,\n",
       "       -1.75947994e-01, -1.83017269e-01, -2.17095733e-01, -9.42898840e-02,\n",
       "        5.71733177e-01, -3.78309280e-01, -2.51229316e-01,  4.21524376e-01,\n",
       "       -1.94025829e-01, -8.64776149e-02, -1.50536463e-01, -1.14668690e-01,\n",
       "        1.03874896e-02,  2.14107379e-01, -2.29683295e-01,  9.79214832e-02,\n",
       "       -1.88592359e-01, -2.25904703e-01, -2.02942267e-02, -1.64209917e-01,\n",
       "       -5.12021005e-01,  3.17725748e-01,  3.39220427e-02,  3.77685614e-02,\n",
       "        1.96711361e-01,  2.91777760e-01,  6.70683905e-02,  1.01980649e-01,\n",
       "       -3.45022440e-01, -5.89686558e-02, -4.09816653e-02,  2.02000543e-01,\n",
       "       -9.70515460e-02, -2.52775073e-01, -3.54116112e-01, -2.74995118e-01,\n",
       "       -5.68812490e-02,  2.26613302e-02,  1.94308639e-01,  6.78851306e-01,\n",
       "        4.98923399e-02, -3.09917301e-01,  4.54686545e-02,  1.22825898e-01,\n",
       "       -4.24282938e-01,  1.21961378e-01,  1.90923080e-01,  1.12904333e-01,\n",
       "       -3.81914437e-01,  5.59372865e-02, -2.55015701e-01, -5.08244038e-01,\n",
       "       -3.35702412e-02,  2.32078377e-02, -9.11925972e-01, -2.02239856e-01,\n",
       "        4.36790824e-01, -1.46606654e-01, -1.37855247e-01,  4.79504326e-03,\n",
       "        3.82421911e-01, -5.13634562e-01,  1.84319332e-01, -7.47133419e-02,\n",
       "        3.46563786e-01, -3.94254655e-01,  7.09143206e-02, -4.50035706e-02,\n",
       "        7.59663284e-02,  4.06903505e-01,  1.35948136e-01,  4.01167065e-01,\n",
       "       -2.74169654e-01,  3.26288611e-01, -3.15773308e-01,  4.46972191e-01,\n",
       "       -4.40719634e-01,  3.25213253e-01,  1.71618268e-01, -1.16578832e-01,\n",
       "       -2.67159164e-01,  1.34184733e-01,  5.97240822e-03,  3.41764763e-02,\n",
       "       -8.05058777e-02,  9.22381878e-03, -5.57486057e-01, -4.14401680e-01])"
      ]
     },
     "execution_count": 74,
     "metadata": {},
     "output_type": "execute_result"
    }
   ],
   "source": [
    "news_text_vectors[0]"
   ]
  },
  {
   "cell_type": "markdown",
   "metadata": {},
   "source": [
    "### 2.3 Deep Learning"
   ]
  },
  {
   "cell_type": "markdown",
   "metadata": {},
   "source": [
    "#### 2.3.1 Convolutional Neural Network (CNN)"
   ]
  },
  {
   "cell_type": "code",
   "execution_count": 75,
   "metadata": {},
   "outputs": [],
   "source": [
    "import tensorflow as tf\n",
    "from tensorflow.keras.preprocessing.text import Tokenizer\n",
    "from tensorflow.keras.preprocessing.sequence import pad_sequences\n",
    "from keras.models import Sequential\n",
    "from keras.layers import Embedding, Conv1D, MaxPooling1D, Flatten, Dense, Dropout, BatchNormalization"
   ]
  },
  {
   "cell_type": "code",
   "execution_count": 76,
   "metadata": {},
   "outputs": [],
   "source": [
    "# Text preprocessing\n",
    "# Encode the text using a Tokenizer, converting each word in the text into an integer index\n",
    "tokenizer = Tokenizer()\n",
    "\n",
    "# create a vocabulary of unique words and assign a unique integer index to each word\n",
    "tokenizer.fit_on_texts([\" \".join(row) for row in lemmas_clean])  \n",
    "\n",
    "# convert each text document into a sequence of integer indices, where each index corresponds to a word in the vocabulary\n",
    "sequences = tokenizer.texts_to_sequences([\" \".join(row) for row in lemmas_clean]) \n"
   ]
  },
  {
   "cell_type": "code",
   "execution_count": 77,
   "metadata": {},
   "outputs": [
    {
     "name": "stdout",
     "output_type": "stream",
     "text": [
      "Minimum text length: 0\n",
      "Maximum text length: 10913\n",
      "Average text length: 385.82028846153844\n",
      "Median text length: 291\n"
     ]
    }
   ],
   "source": [
    "# calculates and prints the minimum, maximum, average, and median lengths\n",
    "text_lengths(lemmas_clean)"
   ]
  },
  {
   "cell_type": "code",
   "execution_count": 78,
   "metadata": {},
   "outputs": [],
   "source": [
    "# Set the maximum text length and pad the text sequence to make all texts the same length to facilitate subsequent input into the neural network\n",
    "maxlen = 2000  \n",
    "padded_sequences = pad_sequences(sequences, maxlen=maxlen)"
   ]
  },
  {
   "cell_type": "code",
   "execution_count": 79,
   "metadata": {},
   "outputs": [],
   "source": [
    "# Build a convolutional neural network model for text vectorization\n",
    "vocab_size = len(tokenizer.word_index) + 1  # Vocabulary size (index starts at 1, so add 1)\n",
    "embedding_dim = 1000  # Word embedding dimensions can be adjusted as needed\n",
    "\n",
    "cnnmodel = Sequential([\n",
    "    Embedding(vocab_size, embedding_dim),  # Embedding layer\n",
    "    Conv1D(128, 5, activation='relu'),  # Conv layer with 128 filters and kernel size 5\n",
    "    MaxPooling1D(3),  # Max pooling layer with window size 3\n",
    "    BatchNormalization(),  # Optional: Add batch normalization to stabilize training\n",
    "    Dropout(0.5),  # Optional: Add dropout to prevent overfitting\n",
    "    Flatten(),  # Flatten the output of the conv layers\n",
    "    Dense(432, activation='relu')  # Fully connected layer with output dimension 432\n",
    "])\n"
   ]
  },
  {
   "cell_type": "code",
   "execution_count": 80,
   "metadata": {},
   "outputs": [
    {
     "name": "stdout",
     "output_type": "stream",
     "text": [
      "\u001b[1m650/650\u001b[0m \u001b[32m━━━━━━━━━━━━━━━━━━━━\u001b[0m\u001b[37m\u001b[0m \u001b[1m130s\u001b[0m 198ms/step\n"
     ]
    }
   ],
   "source": [
    "cnn_matrix = cnnmodel.predict(padded_sequences)"
   ]
  },
  {
   "cell_type": "code",
   "execution_count": 81,
   "metadata": {},
   "outputs": [
    {
     "data": {
      "text/plain": [
       "(20800, 432)"
      ]
     },
     "execution_count": 81,
     "metadata": {},
     "output_type": "execute_result"
    }
   ],
   "source": [
    "cnn_matrix.shape"
   ]
  },
  {
   "cell_type": "markdown",
   "metadata": {},
   "source": [
    "## 3 Machine Learning for Classification Tasks"
   ]
  },
  {
   "cell_type": "markdown",
   "metadata": {},
   "source": [
    "I trained the machine learning models respectively using the text matrices obtained through vectorization by document frequency, TF-IDF, Word2Vec and Convolutional Neural Network (CNN).\n",
    "\n",
    "Based on the input features and the news classification task, I adopted four machine learning models, namely Gaussian Naive Bayes model, Random Forest model, Support Vector Machine model and Feedforward Neural Network model.\n",
    "\n",
    "Under each model, I used the above four vectorized text matrices for training to compare the accuracy differences among different combinations of input features and machine learning models."
   ]
  },
  {
   "cell_type": "code",
   "execution_count": 82,
   "metadata": {},
   "outputs": [],
   "source": [
    "from sklearn.model_selection import train_test_split"
   ]
  },
  {
   "cell_type": "code",
   "execution_count": 83,
   "metadata": {},
   "outputs": [],
   "source": [
    "y = df['label']"
   ]
  },
  {
   "cell_type": "code",
   "execution_count": 84,
   "metadata": {},
   "outputs": [
    {
     "name": "stdout",
     "output_type": "stream",
     "text": [
      "Training data shape: (16640, 432), Test data shape: (4160, 432)\n"
     ]
    }
   ],
   "source": [
    "# vectorize matrix using Word2Vec\n",
    "# Split the train and test data\n",
    "Xtrain1, Xtest1, ytrain1, ytest1 = train_test_split(news_text_vectors, y, \n",
    "                                                random_state = 1, \n",
    "                                                train_size = 0.8)\n",
    "\n",
    "print(f\"Training data shape: {Xtrain1.shape}, Test data shape: {Xtest1.shape}\")\n"
   ]
  },
  {
   "cell_type": "code",
   "execution_count": 85,
   "metadata": {},
   "outputs": [
    {
     "name": "stdout",
     "output_type": "stream",
     "text": [
      "Training data shape: (16640, 432), Test data shape: (4160, 432)\n"
     ]
    }
   ],
   "source": [
    "# vectorize matrix using TF-IDF\n",
    "# Split the train and test data\n",
    "Xtrain2, Xtest2, ytrain2, ytest2 = train_test_split(weighted_df_matrix, y, \n",
    "                                                random_state = 1, \n",
    "                                                train_size = 0.8)\n",
    "\n",
    "print(f\"Training data shape: {Xtrain2.shape}, Test data shape: {Xtest2.shape}\")\n"
   ]
  },
  {
   "cell_type": "code",
   "execution_count": 86,
   "metadata": {},
   "outputs": [
    {
     "name": "stdout",
     "output_type": "stream",
     "text": [
      "Training data shape: (16640, 432), Test data shape: (4160, 432)\n"
     ]
    }
   ],
   "source": [
    "# vectorize matrix using document frequency\n",
    "# Split the train and test data\n",
    "Xtrain3, Xtest3, ytrain3, ytest3 = train_test_split(df_matrix, y, \n",
    "                                                random_state = 1, \n",
    "                                                train_size = 0.8)\n",
    "\n",
    "print(f\"Training data shape: {Xtrain3.shape}, Test data shape: {Xtest3.shape}\")\n"
   ]
  },
  {
   "cell_type": "code",
   "execution_count": 87,
   "metadata": {},
   "outputs": [
    {
     "name": "stdout",
     "output_type": "stream",
     "text": [
      "Training data shape: (16640, 432), Test data shape: (4160, 432)\n"
     ]
    }
   ],
   "source": [
    "# vectorize matrix using CNN\n",
    "# Split the train and test data\n",
    "Xtrain4, Xtest4, ytrain4, ytest4 = train_test_split(cnn_matrix, y, \n",
    "                                                random_state = 1, \n",
    "                                                train_size = 0.8)\n",
    "\n",
    "print(f\"Training data shape: {Xtrain4.shape}, Test data shape: {Xtest4.shape}\")\n"
   ]
  },
  {
   "cell_type": "code",
   "execution_count": 88,
   "metadata": {},
   "outputs": [],
   "source": [
    "from sklearn.preprocessing import StandardScaler\n",
    "# Adjust the data to a distribution with mean 0 and standard deviation 1\n",
    "# Helps improve the training effect of models, especially distance-based models or models optimized by gradient descent\n",
    "# In tree-based models, standardization does not necessarily have a significant impact on model performance.\n",
    "scaler = StandardScaler()\n",
    "Xtrain1 = scaler.fit_transform(Xtrain1)\n",
    "Xtest1 = scaler.transform(Xtest1)\n",
    "\n",
    "Xtrain2 = scaler.fit_transform(Xtrain2)\n",
    "Xtest2 = scaler.transform(Xtest2)\n",
    "\n",
    "Xtrain3 = scaler.fit_transform(Xtrain3)\n",
    "Xtest3 = scaler.transform(Xtest3)\n",
    "\n",
    "Xtrain4 = scaler.fit_transform(Xtrain4)\n",
    "Xtest4 = scaler.transform(Xtest4)\n"
   ]
  },
  {
   "cell_type": "code",
   "execution_count": null,
   "metadata": {},
   "outputs": [],
   "source": []
  },
  {
   "cell_type": "markdown",
   "metadata": {},
   "source": [
    "### 3.1 Gaussian Naive Bayes\n",
    "The Gaussian Naive Bayes classifier is a variant of the **Naive Bayes classification algorithm**, which assumes that the distribution of features follows a Gaussian distribution (i.e. a normal distribution). This model is often used to handle continuous data, and performs well especially if the data features follow a normal distribution.\n",
    "\n",
    "**Advantages:** \n",
    "- Simple and efficient: Gaussian Naive Bayes is computationally simple and highly efficient, especially when dealing with large datasets.\n",
    "- Efficient training and prediction: Training and prediction have lower time complexity because it only requires computing the mean and variance for each class.\n",
    "- Suitable for high-dimensional data: In high-dimensional data (such as word frequency features in text classification tasks), Gaussian Naive Bayes can handle high-dimensional features without being susceptible to overfitting.\n",
    "\n",
    "**Disadvantages:**  \n",
    "- Feature independence assumption: Naive Bayes assumes that features are conditionally independent, which is often not true in practical applications and may reduce the accuracy of the model.\n",
    "- Sensitive to outliers: Because the Gaussian distribution is very sensitive to outliers, outliers in the training data can significantly affect the mean and variance, which in turn affect the classification results.\n",
    "- Assuming features follow a Gaussian distribution: if the actual distribution of the data is not Gaussian, model performance may degrade"
   ]
  },
  {
   "cell_type": "code",
   "execution_count": 89,
   "metadata": {},
   "outputs": [],
   "source": [
    "from sklearn.metrics import accuracy_score\n",
    "from sklearn.model_selection import cross_val_score\n",
    "\n",
    "from sklearn.naive_bayes import GaussianNB\n",
    "gnb_model = GaussianNB()\n"
   ]
  },
  {
   "cell_type": "code",
   "execution_count": 90,
   "metadata": {},
   "outputs": [
    {
     "name": "stdout",
     "output_type": "stream",
     "text": [
      "Cross-validation score: 0.6957 ± 0.0065\n"
     ]
    }
   ],
   "source": [
    "# vectorize matrix using Word2Vec\n",
    "# Evaluate the model using cross-validation\n",
    "scores1 = cross_val_score(gnb_model, Xtrain1, ytrain1, cv=5)\n",
    "\n",
    "# Output cross-validation score\n",
    "print(f\"Cross-validation score: {scores1.mean():.4f} ± {scores1.std():.4f}\")"
   ]
  },
  {
   "cell_type": "code",
   "execution_count": 91,
   "metadata": {},
   "outputs": [
    {
     "name": "stdout",
     "output_type": "stream",
     "text": [
      "Cross-validation score: 0.8642 ± 0.0059\n"
     ]
    }
   ],
   "source": [
    "# vectorize matrix using TF-IDF\n",
    "# Evaluate the model using cross-validation\n",
    "scores2 = cross_val_score(gnb_model, Xtrain2, ytrain2, cv=5)\n",
    "\n",
    "# Output cross-validation score\n",
    "print(f\"Cross-validation score: {scores2.mean():.4f} ± {scores2.std():.4f}\")"
   ]
  },
  {
   "cell_type": "code",
   "execution_count": 92,
   "metadata": {},
   "outputs": [
    {
     "name": "stdout",
     "output_type": "stream",
     "text": [
      "Cross-validation score: 0.7737 ± 0.0087\n"
     ]
    }
   ],
   "source": [
    "# vectorize matrix using document frequency\n",
    "# Evaluate the model using cross-validation\n",
    "scores3 = cross_val_score(gnb_model, Xtrain3, ytrain3, cv=5)\n",
    "\n",
    "# Output cross-validation score\n",
    "print(f\"Cross-validation score: {scores3.mean():.4f} ± {scores3.std():.4f}\")"
   ]
  },
  {
   "cell_type": "code",
   "execution_count": 93,
   "metadata": {},
   "outputs": [
    {
     "name": "stdout",
     "output_type": "stream",
     "text": [
      "Cross-validation score: 0.6239 ± 0.0088\n"
     ]
    }
   ],
   "source": [
    "# vectorize matrix using CNN\n",
    "# Evaluate the model using cross-validation\n",
    "scores4 = cross_val_score(gnb_model, Xtrain4, ytrain4, cv=5)\n",
    "\n",
    "# Output cross-validation score\n",
    "print(f\"Cross-validation score: {scores4.mean():.4f} ± {scores4.std():.4f}\")"
   ]
  },
  {
   "cell_type": "code",
   "execution_count": null,
   "metadata": {},
   "outputs": [
    {
     "data": {
      "image/png": "[encoded data removed]",
      "text/plain": [
       "<Figure size 1000x600 with 1 Axes>"
      ]
     },
     "metadata": {},
     "output_type": "display_data"
    }
   ],
   "source": [
    "import matplotlib.pyplot as plt\n",
    "\n",
    "index = ['Word2Vec', 'TF-IDF', 'Document Frequency', 'CNN']  #  Categories on the x-axis\n",
    "score = [scores1.mean(), scores2.mean(), scores3.mean(), scores4.mean()]  # The corresponding y-axis score\n",
    "\n",
    "# Draw a bar chart\n",
    "plt.figure(figsize=(10, 6))\n",
    "plt.ylim([0, 1])\n",
    "plt.yticks([i * 0.1 for i in range(11)])\n",
    "plt.bar(index, score)\n",
    "\n",
    "# Add tags and titles\n",
    "plt.xlabel('Vectorization')  \n",
    "plt.ylabel('Mean Accuracy Score')  \n",
    "plt.title('Comparison of Mean Accuracy Scores in Gaussian Naive Bayes Model') \n",
    "\n",
    "plt.show()\n"
   ]
  },
  {
   "cell_type": "code",
   "execution_count": 95,
   "metadata": {},
   "outputs": [
    {
     "data": {
      "image/png": "[encoded data removed]",
      "text/plain": [
       "<Figure size 1000x600 with 1 Axes>"
      ]
     },
     "metadata": {},
     "output_type": "display_data"
    }
   ],
   "source": [
    "index = ['Word2Vec', 'TF-IDF', 'Document Frequency', 'CNN']  #  Categories on the x-axis\n",
    "score = [scores1.std(), scores2.std(), scores3.std(), scores4.std()]  # The corresponding y-axis score\n",
    "\n",
    "# Draw a bar chart\n",
    "plt.figure(figsize=(10, 6))\n",
    "plt.bar(index, score)\n",
    "\n",
    "# Add tags and titles\n",
    "plt.xlabel('Vectorization')  \n",
    "plt.ylabel('Standard Deviation of Accuracy Score')  \n",
    "plt.title('Comparison of Standard Deviation of Accuracy Score in Gaussian Naive Bayes Model') \n",
    "\n",
    "plt.show()\n"
   ]
  },
  {
   "cell_type": "markdown",
   "metadata": {},
   "source": [
    "**Conclusion:**\n",
    "\n",
    "It can be clearly seen from the above results that when the settings of the Gaussian Naive Bayes classifier are the same, using the TF-IDF vectorization matrix to classify news, the mean and standard deviation of the model accuracy obtained through cross-validation both show relatively excellent performance. This phenomenon indicates that in this news classification scenario, compared with other input features, the combination of **TF-IDF and the Gaussian Naive Bayes classifier** is more excellent and its generalization ability is also better."
   ]
  },
  {
   "cell_type": "code",
   "execution_count": 97,
   "metadata": {},
   "outputs": [
    {
     "name": "stdout",
     "output_type": "stream",
     "text": [
      "Final Test Accuracy: 0.8576923076923076\n"
     ]
    }
   ],
   "source": [
    "# Use the best combination for final model evaluation\n",
    "# vectorize matrix using TF-IDF\n",
    "# Train the model on the training data\n",
    "gnb_model.fit(Xtrain2, ytrain2)\n",
    "\n",
    "# Predict on the test data\n",
    "ypred = gnb_model.predict(Xtest2)\n",
    "\n",
    "# Evaluate the model accuracy\n",
    "gnb_accuracy = accuracy_score(ytest2, ypred)\n",
    "\n",
    "# Output the evaluation result\n",
    "print('Final Test Accuracy:', gnb_accuracy)"
   ]
  },
  {
   "cell_type": "markdown",
   "metadata": {},
   "source": [
    "### 3.2 Random Forest\n",
    "Random forest is an ensemble learning algorithm and belongs to the decision tree family. It constructs multiple decision trees and combines their prediction results to improve classification performance. The core idea of random forest is to reduce overfitting and enhance the generalization ability of the model by introducing randomness and ensemble.\n",
    "\n",
    "**Advantages:**\n",
    "- High accuracy: By integrating multiple decision trees, random forest usually has a high classification accuracy, especially suitable for large datasets and high-dimensional data.\n",
    "- Strong resistance to overfitting: Since each tree is trained based on different subsets of samples and features, and the model makes decisions by voting, it can effectively avoid overfitting of a single decision tree.\n",
    "- Wide applicability: It can handle various types of data, including numerical and categorical features, and also has a relatively good handling of missing values.\n",
    "- Feature importance: Random forest can calculate the importance of each feature, which is very useful for feature selection and model interpretation.\n",
    "- Ability to handle large-scale data: It can be trained on relatively large datasets and supports parallel processing, with a relatively fast training speed.\n",
    "\n",
    "**Disadvantages:**\n",
    "- Poor model interpretability: As it is an ensemble model, it is difficult to interpret and understand as intuitively as a single decision tree.\n",
    "- High computational cost: Training multiple trees requires a large amount of computational resources. Especially when the number of samples and features is extremely large, the training time may be relatively long.\n",
    "- High memory consumption: It needs to store multiple decision trees, so the memory overhead is relatively large, especially when using a large number of trees"
   ]
  },
  {
   "cell_type": "code",
   "execution_count": 98,
   "metadata": {},
   "outputs": [],
   "source": [
    "from sklearn.ensemble import RandomForestClassifier\n",
    "\n",
    "# Initialize the random forest classifier\n",
    "rf_model = RandomForestClassifier(n_estimators=200, # The number of decision trees in the model. Increasing the number of trees generally improves model accuracy, but also increases computational overhead\n",
    "                                 max_depth=10,  # The maximum depth of the tree. Limiting the depth of the tree prevents overfitting. Depending on the size and characteristics of the dataset, different depths can be tried. Small data sets can use larger depth to prevent underfitting\n",
    "                                 random_state=42)\n"
   ]
  },
  {
   "cell_type": "code",
   "execution_count": 99,
   "metadata": {},
   "outputs": [
    {
     "name": "stdout",
     "output_type": "stream",
     "text": [
      "Cross-validation score: 0.8709 ± 0.0058\n"
     ]
    }
   ],
   "source": [
    "# vectorize matrix using Word2Vec\n",
    "# Evaluate the model using cross-validation\n",
    "scores1 = cross_val_score(rf_model, Xtrain1, ytrain1, cv=5)\n",
    "\n",
    "# Output cross-validation score\n",
    "print(f\"Cross-validation score: {scores1.mean():.4f} ± {scores1.std():.4f}\")"
   ]
  },
  {
   "cell_type": "code",
   "execution_count": 100,
   "metadata": {},
   "outputs": [
    {
     "name": "stdout",
     "output_type": "stream",
     "text": [
      "Cross-validation score: 0.9385 ± 0.0032\n"
     ]
    }
   ],
   "source": [
    "# vectorize matrix using TF-IDF\n",
    "# Evaluate the model using cross-validation\n",
    "scores2 = cross_val_score(rf_model, Xtrain2, ytrain2, cv=5)\n",
    "\n",
    "# Output cross-validation score\n",
    "print(f\"Cross-validation score: {scores2.mean():.4f} ± {scores2.std():.4f}\")"
   ]
  },
  {
   "cell_type": "code",
   "execution_count": 101,
   "metadata": {},
   "outputs": [
    {
     "name": "stdout",
     "output_type": "stream",
     "text": [
      "Cross-validation score: 0.9361 ± 0.0032\n"
     ]
    }
   ],
   "source": [
    "# vectorize matrix using document frequency\n",
    "# Evaluate the model using cross-validation\n",
    "scores3 = cross_val_score(rf_model, Xtrain3, ytrain3, cv=5)\n",
    "\n",
    "# Output cross-validation score\n",
    "print(f\"Cross-validation score: {scores3.mean():.4f} ± {scores3.std():.4f}\")"
   ]
  },
  {
   "cell_type": "code",
   "execution_count": 102,
   "metadata": {},
   "outputs": [
    {
     "name": "stdout",
     "output_type": "stream",
     "text": [
      "Cross-validation score: 0.6487 ± 0.0068\n"
     ]
    }
   ],
   "source": [
    "# vectorize matrix using CNN\n",
    "# Evaluate the model using cross-validation\n",
    "scores4 = cross_val_score(rf_model, Xtrain4, ytrain4, cv=5)\n",
    "\n",
    "# Output cross-validation score\n",
    "print(f\"Cross-validation score: {scores4.mean():.4f} ± {scores4.std():.4f}\")"
   ]
  },
  {
   "cell_type": "code",
   "execution_count": 136,
   "metadata": {},
   "outputs": [
    {
     "data": {
      "image/png": "[encoded data removed]",
      "text/plain": [
       "<Figure size 1000x600 with 1 Axes>"
      ]
     },
     "metadata": {},
     "output_type": "display_data"
    }
   ],
   "source": [
    "\n",
    "index = ['Word2Vec', 'TF-IDF', 'Document Frequency', 'CNN']  #  Categories on the x-axis\n",
    "score = [scores1.mean(), scores2.mean(), scores3.mean(), scores4.mean()]  # The corresponding y-axis score\n",
    "\n",
    "# Draw a bar chart\n",
    "plt.figure(figsize=(10, 6))\n",
    "plt.ylim([0, 1])\n",
    "plt.yticks([i * 0.1 for i in range(11)])\n",
    "plt.bar(index, score)\n",
    "\n",
    "# Add tags and titles\n",
    "plt.xlabel('Vectorization')  \n",
    "plt.ylabel('Mean Accuracy Score')  \n",
    "plt.title('Comparison of Mean Accuracy Scores in Random Forest Model') \n",
    "\n",
    "plt.show()"
   ]
  },
  {
   "cell_type": "code",
   "execution_count": 104,
   "metadata": {},
   "outputs": [
    {
     "data": {
      "image/png": "[encoded data removed]",
      "text/plain": [
       "<Figure size 1000x600 with 1 Axes>"
      ]
     },
     "metadata": {},
     "output_type": "display_data"
    }
   ],
   "source": [
    "index = ['Word2Vec', 'TF-IDF', 'Document Frequency', 'CNN']  #  Categories on the x-axis\n",
    "score = [scores1.std(), scores2.std(), scores3.std(), scores4.std()]  # The corresponding y-axis score\n",
    "\n",
    "# Draw a bar chart\n",
    "plt.figure(figsize=(10, 6))\n",
    "plt.bar(index, score)\n",
    "\n",
    "# Add tags and titles\n",
    "plt.xlabel('Vectorization')  \n",
    "plt.ylabel('Standard Deviation of Accuracy Score')  \n",
    "plt.title('Comparison of Standard Deviation of Accuracy Score in Random Forest Model') \n",
    "\n",
    "plt.show()"
   ]
  },
  {
   "cell_type": "markdown",
   "metadata": {},
   "source": [
    "**Conclusion:**\n",
    "\n",
    "It can be clearly seen from the above results that when the settings of the random forest model are the same, using the TF-IDF vectorization matrix to classify news, the mean and standard deviation of the model accuracy obtained through cross-validation both show relatively excellent performance. This phenomenon indicates that in this news classification scenario, compared with other input features, the combination of **TF-IDF and the random forest model** is more excellent and its generalization ability is also better."
   ]
  },
  {
   "cell_type": "code",
   "execution_count": 105,
   "metadata": {},
   "outputs": [
    {
     "name": "stdout",
     "output_type": "stream",
     "text": [
      "Final Test Accuracy: 0.9454326923076923\n"
     ]
    }
   ],
   "source": [
    "# Use the best combination for final model evaluation\n",
    "# vectorize matrix using TF-IDF\n",
    "# Train the model on the training data\n",
    "rf_model.fit(Xtrain2, ytrain2)\n",
    "\n",
    "ypred = rf_model.predict(Xtest2) \n",
    "\n",
    "rf_accuracy = accuracy_score(ytest2, ypred)\n",
    "\n",
    "# Output evaluation report\n",
    "print('Final Test Accuracy:', rf_accuracy)"
   ]
  },
  {
   "cell_type": "markdown",
   "metadata": {},
   "source": [
    "### 3.3 Support Vector Machine\n",
    "The Support Vector Machine (SVM) is a powerful supervised learning algorithm, which is widely used in classification and regression tasks. Its core idea is to find a hyperplane (or a set of hyperplanes) in the feature space to separate data points of different classes and maximize the margin between classes so as to improve the generalization ability of the model.\n",
    "\n",
    "**Advantages:**\n",
    "- High efficiency: For high-dimensional data (such as in text classification, image classification, etc.), the SVM performs excellently.\n",
    "- Good generalization ability: By maximizing the margin, the SVM can effectively avoid overfitting, especially suitable for small-sample learning.\n",
    "- Low memory requirement: The SVM only needs to store the support vectors, so it is relatively efficient when dealing with high-dimensional data.\n",
    "\n",
    "**Disadvantages:**\n",
    "- High computational cost: When the number of samples is large, the computational complexity of the training process is relatively high, especially when dealing with larger datasets or higher-dimensional feature data.\n",
    "- Sensitivity to noise: Although the use of soft margin can tolerate some classification errors, the SVM is still relatively sensitive to noise and outliers.\n",
    "- Difficulty in selecting kernel functions: In some cases, it may be rather difficult to select appropriate kernel functions and parameters (such as C and γ)."
   ]
  },
  {
   "cell_type": "code",
   "execution_count": 106,
   "metadata": {},
   "outputs": [],
   "source": [
    "from sklearn.model_selection import train_test_split\n",
    "from sklearn.svm import SVC\n",
    "from sklearn.metrics import accuracy_score, precision_score, recall_score, f1_score\n",
    "\n",
    "svc_model = SVC(kernel='rbf', C=1.0)\n"
   ]
  },
  {
   "cell_type": "code",
   "execution_count": 107,
   "metadata": {},
   "outputs": [
    {
     "name": "stdout",
     "output_type": "stream",
     "text": [
      "Cross-validation score: 0.9367 ± 0.0031\n"
     ]
    }
   ],
   "source": [
    "# vectorize matrix using Word2Vec\n",
    "# Evaluate the model using cross-validation\n",
    "scores1 = cross_val_score(svc_model, Xtrain1, ytrain1, cv=5)\n",
    "\n",
    "# Output cross-validation score\n",
    "print(f\"Cross-validation score: {scores1.mean():.4f} ± {scores1.std():.4f}\")"
   ]
  },
  {
   "cell_type": "code",
   "execution_count": 108,
   "metadata": {},
   "outputs": [
    {
     "name": "stdout",
     "output_type": "stream",
     "text": [
      "Cross-validation score: 0.9513 ± 0.0020\n"
     ]
    }
   ],
   "source": [
    "# vectorize matrix using TF-IDF\n",
    "# Evaluate the model using cross-validation\n",
    "scores2 = cross_val_score(svc_model, Xtrain2, ytrain2, cv=5)\n",
    "\n",
    "# Output cross-validation score\n",
    "print(f\"Cross-validation score: {scores2.mean():.4f} ± {scores2.std():.4f}\")"
   ]
  },
  {
   "cell_type": "code",
   "execution_count": 109,
   "metadata": {},
   "outputs": [
    {
     "name": "stdout",
     "output_type": "stream",
     "text": [
      "Cross-validation score: 0.9334 ± 0.0046\n"
     ]
    }
   ],
   "source": [
    "# vectorize matrix using document frequency\n",
    "# Evaluate the model using cross-validation\n",
    "scores3 = cross_val_score(svc_model, Xtrain3, ytrain3, cv=5)\n",
    "\n",
    "# Output cross-validation score\n",
    "print(f\"Cross-validation score: {scores3.mean():.4f} ± {scores3.std():.4f}\")"
   ]
  },
  {
   "cell_type": "code",
   "execution_count": 110,
   "metadata": {},
   "outputs": [
    {
     "name": "stdout",
     "output_type": "stream",
     "text": [
      "Cross-validation score: 0.6621 ± 0.0061\n"
     ]
    }
   ],
   "source": [
    "# vectorize matrix using CNN\n",
    "# Evaluate the model using cross-validation\n",
    "scores4 = cross_val_score(svc_model, Xtrain4, ytrain4, cv=5)\n",
    "\n",
    "# Output cross-validation score\n",
    "print(f\"Cross-validation score: {scores4.mean():.4f} ± {scores4.std():.4f}\")"
   ]
  },
  {
   "cell_type": "code",
   "execution_count": 137,
   "metadata": {},
   "outputs": [
    {
     "data": {
      "image/png": "[encoded data removed]",
      "text/plain": [
       "<Figure size 1000x600 with 1 Axes>"
      ]
     },
     "metadata": {},
     "output_type": "display_data"
    }
   ],
   "source": [
    "index = ['Word2Vec', 'TF-IDF', 'Document Frequency', 'CNN']  #  Categories on the x-axis\n",
    "score = [scores1.mean(), scores2.mean(), scores3.mean(), scores4.mean()]  # The corresponding y-axis score\n",
    "\n",
    "# Draw a bar chart\n",
    "plt.figure(figsize=(10, 6))\n",
    "plt.ylim([0, 1])\n",
    "plt.yticks([i * 0.1 for i in range(11)])\n",
    "plt.bar(index, score)\n",
    "\n",
    "# Add tags and titles\n",
    "plt.xlabel('Vectorization')  \n",
    "plt.ylabel('Mean Accuracy Score')  \n",
    "plt.title('Comparison of Mean Accuracy Scores in Support Vector Machine Model') \n",
    "\n",
    "plt.show()"
   ]
  },
  {
   "cell_type": "code",
   "execution_count": 112,
   "metadata": {},
   "outputs": [
    {
     "data": {
      "image/png": "[encoded data removed]",
      "text/plain": [
       "<Figure size 1000x600 with 1 Axes>"
      ]
     },
     "metadata": {},
     "output_type": "display_data"
    }
   ],
   "source": [
    "index = ['Word2Vec', 'TF-IDF', 'Document Frequency', 'CNN']  #  Categories on the x-axis\n",
    "score = [scores1.std(), scores2.std(), scores3.std(), scores4.std()]  # The corresponding y-axis score\n",
    "\n",
    "# Draw a bar chart\n",
    "plt.figure(figsize=(10, 6))\n",
    "plt.bar(index, score)\n",
    "\n",
    "# Add tags and titles\n",
    "plt.xlabel('Vectorization')  \n",
    "plt.ylabel('Standard Deviation of Accuracy Score')  \n",
    "plt.title('Comparison of Standard Deviation of Accuracy Score in Support Vector Machine Model') \n",
    "\n",
    "plt.show()"
   ]
  },
  {
   "cell_type": "markdown",
   "metadata": {},
   "source": [
    "**Conclusion:**\n",
    "\n",
    "It can be clearly seen from the above results that when the settings of the Gaussian Naive Bayes classifier are the same, using the TF-IDF vectorization matrix to classify news, the mean and standard deviation of the model accuracy obtained through cross-validation both show relatively excellent performance. This phenomenon indicates that in this news classification scenario, compared with other input features, the combination of **TF-IDF and the Support Vector Machine model** is more excellent and its generalization ability is also better."
   ]
  },
  {
   "cell_type": "code",
   "execution_count": 113,
   "metadata": {},
   "outputs": [
    {
     "name": "stdout",
     "output_type": "stream",
     "text": [
      "Final Test Accuracy: 0.9557692307692308\n"
     ]
    }
   ],
   "source": [
    "# Use the best combination for final model evaluation\n",
    "# vectorize matrix using TF-IDF\n",
    "# Train the model on the training data\n",
    "svc_model.fit(Xtrain2, ytrain2)\n",
    "\n",
    "ypred = svc_model.predict(Xtest2) \n",
    "\n",
    "svc_accuracy = accuracy_score(ytest2, ypred)\n",
    "\n",
    "# Output the evaluation result\n",
    "print('Final Test Accuracy:', svc_accuracy)"
   ]
  },
  {
   "cell_type": "markdown",
   "metadata": {},
   "source": [
    "### 3.4 Feedforward neural network\n",
    "Feedforward Neural Network (shortened as FNN) is one of the most basic architectures of artificial neural networks. It is composed of an input layer, hidden layers and an output layer. Among these layers, information flows only in one direction, that is, from the input layer to the output layer, without any feedback loops. In classification tasks, FNN is used to learn the nonlinear relationships between input data and target labels. The nodes (neurons) in each layer transform the input through activation functions and then pass the results to the next layer.\n",
    "\n",
    "Advantages:\n",
    "- Strong expressive ability: FNN can approximate any complex nonlinear function (according to the Universal Approximation Theorem), so it can handle very complex classification tasks.\n",
    "- High flexibility: By increasing the number of hidden layers and neurons, the network can handle more complex patterns to a certain extent.\n",
    "- No feature engineering required: Compared with traditional machine learning methods, FNN doesn't need to design features manually and only requires raw data.\n",
    "\n",
    "Disadvantages:\n",
    "- High computational complexity: For large datasets and complex models, the training of FNN may take a long time, especially when the network is deep.\n",
    "- Overfitting risk: If there are too many hidden layers or too little training data, FNN is prone to overfitting. Therefore, regularization (such as Dropout) and hyperparameter tuning are needed.\n",
    "- Poor interpretability: As a black-box model, FNN is not as easy to interpret as models like decision trees. So it may not be applicable in some scenarios where model interpretation is required"
   ]
  },
  {
   "cell_type": "code",
   "execution_count": 114,
   "metadata": {},
   "outputs": [],
   "source": [
    "import torch\n",
    "import torch.nn as nn\n",
    "import torch.optim as optim\n",
    "from sklearn.metrics import accuracy_score\n",
    "from sklearn.preprocessing import StandardScaler\n",
    "from sklearn.model_selection import train_test_split"
   ]
  },
  {
   "cell_type": "code",
   "execution_count": 115,
   "metadata": {},
   "outputs": [],
   "source": [
    "# split and transfer data\n",
    "def split_trans (matrix):\n",
    "    # The first split, 80% training set, 20% temporary set (validation set + test set)\n",
    "    X_train, X_temp, y_train, y_temp = train_test_split(matrix, y, test_size=0.2, random_state=42)\n",
    "    # Second split, 50% validation set, 50% test set\n",
    "    X_val, X_test, y_val, y_test = train_test_split(X_temp, y_temp, test_size=0.5, random_state=42)\n",
    "    print(X_train.shape, X_val.shape, X_test.shape)\n",
    "\n",
    "    # Adjust the data to a distribution with mean 0 and standard deviation 1\n",
    "    # Helps improve the training effect of models, especially distance-based models or models optimized by gradient descent\n",
    "    # In tree-based models, standardization does not necessarily have a significant impact on model performance.\n",
    "    scaler = StandardScaler()\n",
    "    X_train_scaled = scaler.fit_transform(X_train)\n",
    "    X_val_scaled = scaler.transform(X_val)  # Use only the normalized parameters of the training set\n",
    "    X_test_scaled = scaler.transform(X_test)\n",
    "\n",
    "    # Convert to PyTorch Tensor\n",
    "    X_train_tensor = torch.tensor(X_train_scaled, dtype=torch.float32)\n",
    "    y_train_tensor = torch.tensor(y_train.values, dtype=torch.long)  # Label is of type integer\n",
    "    X_val_tensor = torch.tensor(X_val_scaled, dtype=torch.float32)\n",
    "    y_val_tensor = torch.tensor(y_val.values, dtype=torch.long)\n",
    "    X_test_tensor = torch.tensor(X_test_scaled, dtype=torch.float32)\n",
    "    y_test_tensor = torch.tensor(y_test.values, dtype=torch.long)\n",
    "\n",
    "    return X_train_scaled, X_val_scaled, X_test_scaled, X_train_tensor, y_train_tensor, X_val_tensor, y_val_tensor, X_test_tensor, y_test_tensor\n",
    "\n",
    "\n"
   ]
  },
  {
   "cell_type": "code",
   "execution_count": 116,
   "metadata": {},
   "outputs": [],
   "source": [
    "# Define FNN model\n",
    "class FNN(nn.Module):\n",
    "    def __init__(self, input_size, hidden_size, output_size):\n",
    "        super(FNN, self).__init__()\n",
    "        self.fc1 = nn.Linear(input_size, hidden_size)   # A fully connected (dense) layer\n",
    "        self.relu = nn.ReLU()                           # ReLU activation function, which introduces non-linearity to the model\n",
    "        self.fc2 = nn.Linear(hidden_size, output_size)  # Another fully connected layer\n",
    "        self.softmax = nn.LogSoftmax(dim=1)             # A log softmax activation function, which is often used in the output layer of a classification model to produce a probability distribution over classes\n",
    "        self.dropout = nn.Dropout(p=0.2)                # A dropout layer with a dropout probability of 0.2, which randomly sets 20% of the neurons to zero during training to prevent overfitting\n",
    "\n",
    "    def forward(self, x):\n",
    "        x = self.fc1(x)\n",
    "        x = self.relu(x)\n",
    "        x = self.dropout(x)  # Apply dropout here\n",
    "        x = self.fc2(x)\n",
    "        x = self.softmax(x)\n",
    "        return x\n"
   ]
  },
  {
   "cell_type": "code",
   "execution_count": 117,
   "metadata": {},
   "outputs": [],
   "source": [
    "# Training function\n",
    "def train_model(model, X_train_tensor, y_train_tensor, X_val_tensor, y_val_tensor, epochs=100, lr=0.001):\n",
    "    criterion = nn.CrossEntropyLoss()  # Cross-entropy loss for multi-class classification\n",
    "    optimizer = optim.Adam(model.parameters(), lr=lr)  # Adam optimizer\n",
    "    scheduler = optim.lr_scheduler.StepLR(optimizer, step_size=50, gamma=0.1)  # Learning rate scheduler\n",
    "\n",
    "    for epoch in range(epochs):\n",
    "        model.train()\n",
    "        optimizer.zero_grad()\n",
    "        outputs = model(X_train_tensor)\n",
    "        loss = criterion(outputs, y_train_tensor)\n",
    "        loss.backward()\n",
    "        optimizer.step()\n",
    "        scheduler.step()  # Update learning rate\n",
    "\n",
    "        if (epoch + 1) % 10 == 0:\n",
    "            model.eval()\n",
    "            with torch.no_grad():\n",
    "                test_outputs = model(X_val_tensor)\n",
    "                _, predicted = torch.max(test_outputs, 1)\n",
    "                test_accuracy = accuracy_score(y_val_tensor, predicted)\n",
    "                print(f\"Epoch [{epoch + 1}/{epochs}], Loss: {loss.item():.4f}, Evaluation Accuracy: {test_accuracy:.4f}\")\n",
    "                \n",
    "    return model"
   ]
  },
  {
   "cell_type": "code",
   "execution_count": 118,
   "metadata": {},
   "outputs": [
    {
     "name": "stdout",
     "output_type": "stream",
     "text": [
      "(16640, 432) (2080, 432) (2080, 432)\n"
     ]
    }
   ],
   "source": [
    "# Call the function to split and process data\n",
    "X_train_scaled, X_val_scaled, X_test_scaled, X_train_tensor, y_train_tensor, X_val_tensor, y_val_tensor, X_test_tensor, y_test_tensor = split_trans(matrix=news_text_vectors)"
   ]
  },
  {
   "cell_type": "code",
   "execution_count": 119,
   "metadata": {},
   "outputs": [
    {
     "name": "stdout",
     "output_type": "stream",
     "text": [
      "Epoch [10/200], Loss: 0.2850, Evaluation Accuracy: 0.8837\n",
      "Epoch [20/200], Loss: 0.2084, Evaluation Accuracy: 0.9149\n",
      "Epoch [30/200], Loss: 0.1638, Evaluation Accuracy: 0.9212\n",
      "Epoch [40/200], Loss: 0.1306, Evaluation Accuracy: 0.9274\n",
      "Epoch [50/200], Loss: 0.1059, Evaluation Accuracy: 0.9308\n",
      "Epoch [60/200], Loss: 0.1012, Evaluation Accuracy: 0.9317\n",
      "Epoch [70/200], Loss: 0.0977, Evaluation Accuracy: 0.9327\n",
      "Epoch [80/200], Loss: 0.0947, Evaluation Accuracy: 0.9322\n",
      "Epoch [90/200], Loss: 0.0939, Evaluation Accuracy: 0.9332\n",
      "Epoch [100/200], Loss: 0.0909, Evaluation Accuracy: 0.9313\n",
      "Epoch [110/200], Loss: 0.0905, Evaluation Accuracy: 0.9313\n",
      "Epoch [120/200], Loss: 0.0899, Evaluation Accuracy: 0.9317\n",
      "Epoch [130/200], Loss: 0.0898, Evaluation Accuracy: 0.9317\n",
      "Epoch [140/200], Loss: 0.0897, Evaluation Accuracy: 0.9308\n",
      "Epoch [150/200], Loss: 0.0883, Evaluation Accuracy: 0.9308\n",
      "Epoch [160/200], Loss: 0.0877, Evaluation Accuracy: 0.9308\n",
      "Epoch [170/200], Loss: 0.0895, Evaluation Accuracy: 0.9308\n",
      "Epoch [180/200], Loss: 0.0891, Evaluation Accuracy: 0.9308\n",
      "Epoch [190/200], Loss: 0.0897, Evaluation Accuracy: 0.9313\n",
      "Epoch [200/200], Loss: 0.0884, Evaluation Accuracy: 0.9308\n"
     ]
    }
   ],
   "source": [
    "# Model parameters\n",
    "input_size = X_train_scaled.shape[1]\n",
    "hidden_size = 1000\n",
    "output_size = 2\n",
    "\n",
    "# Initialize model\n",
    "fnn_model = FNN(input_size, hidden_size, output_size)\n",
    "\n",
    "# Training model\n",
    "fnn_model1 = train_model(fnn_model, X_train_tensor, y_train_tensor, X_val_tensor, y_val_tensor, epochs=200, lr=0.001)\n"
   ]
  },
  {
   "cell_type": "code",
   "execution_count": 120,
   "metadata": {},
   "outputs": [
    {
     "name": "stdout",
     "output_type": "stream",
     "text": [
      "Final Test Accuracy: 0.9385\n"
     ]
    }
   ],
   "source": [
    "# using test data to evaluate\n",
    "fnn_model1.eval()  # Enter evaluation mode\n",
    "with torch.no_grad():\n",
    "    test_outputs = fnn_model1(X_test_tensor)\n",
    "    _, predicted = torch.max(test_outputs, 1)\n",
    "    fnn_accuracy1 = accuracy_score(y_test_tensor, predicted)\n",
    "    print(f\"Final Test Accuracy: {fnn_accuracy1:.4f}\")\n"
   ]
  },
  {
   "cell_type": "code",
   "execution_count": 121,
   "metadata": {},
   "outputs": [
    {
     "name": "stdout",
     "output_type": "stream",
     "text": [
      "(16640, 432) (2080, 432) (2080, 432)\n"
     ]
    }
   ],
   "source": [
    "# vectorize matrix using TF-IDF \n",
    "X_train_scaled, X_val_scaled, X_test_scaled, X_train_tensor, y_train_tensor, X_val_tensor, y_val_tensor, X_test_tensor, y_test_tensor = split_trans(matrix=weighted_df_matrix)"
   ]
  },
  {
   "cell_type": "code",
   "execution_count": 122,
   "metadata": {},
   "outputs": [
    {
     "name": "stdout",
     "output_type": "stream",
     "text": [
      "Epoch [10/200], Loss: 0.2875, Evaluation Accuracy: 0.8625\n",
      "Epoch [20/200], Loss: 0.1827, Evaluation Accuracy: 0.9038\n",
      "Epoch [30/200], Loss: 0.1183, Evaluation Accuracy: 0.9255\n",
      "Epoch [40/200], Loss: 0.0759, Evaluation Accuracy: 0.9341\n",
      "Epoch [50/200], Loss: 0.0461, Evaluation Accuracy: 0.9361\n",
      "Epoch [60/200], Loss: 0.0416, Evaluation Accuracy: 0.9365\n",
      "Epoch [70/200], Loss: 0.0395, Evaluation Accuracy: 0.9375\n",
      "Epoch [80/200], Loss: 0.0373, Evaluation Accuracy: 0.9380\n",
      "Epoch [90/200], Loss: 0.0352, Evaluation Accuracy: 0.9380\n",
      "Epoch [100/200], Loss: 0.0333, Evaluation Accuracy: 0.9385\n",
      "Epoch [110/200], Loss: 0.0330, Evaluation Accuracy: 0.9389\n",
      "Epoch [120/200], Loss: 0.0332, Evaluation Accuracy: 0.9389\n",
      "Epoch [130/200], Loss: 0.0324, Evaluation Accuracy: 0.9389\n",
      "Epoch [140/200], Loss: 0.0328, Evaluation Accuracy: 0.9389\n",
      "Epoch [150/200], Loss: 0.0323, Evaluation Accuracy: 0.9389\n",
      "Epoch [160/200], Loss: 0.0318, Evaluation Accuracy: 0.9389\n",
      "Epoch [170/200], Loss: 0.0318, Evaluation Accuracy: 0.9389\n",
      "Epoch [180/200], Loss: 0.0321, Evaluation Accuracy: 0.9389\n",
      "Epoch [190/200], Loss: 0.0319, Evaluation Accuracy: 0.9389\n",
      "Epoch [200/200], Loss: 0.0320, Evaluation Accuracy: 0.9389\n"
     ]
    }
   ],
   "source": [
    "# Model parameters\n",
    "input_size = X_train_scaled.shape[1]\n",
    "hidden_size = 1000\n",
    "output_size = 2\n",
    "\n",
    "# Initialize model\n",
    "fnn_model = FNN(input_size, hidden_size, output_size)\n",
    "\n",
    "# Training model\n",
    "fnn_model2 = train_model(fnn_model, X_train_tensor, y_train_tensor, X_val_tensor, y_val_tensor, epochs=200, lr=0.001)\n"
   ]
  },
  {
   "cell_type": "code",
   "execution_count": 123,
   "metadata": {},
   "outputs": [
    {
     "name": "stdout",
     "output_type": "stream",
     "text": [
      "Final Test Accuracy: 0.9452\n"
     ]
    }
   ],
   "source": [
    "# using test data to evaluate\n",
    "fnn_model2.eval()  # Enter evaluation mode\n",
    "with torch.no_grad():\n",
    "    test_outputs = fnn_model2(X_test_tensor)\n",
    "    _, predicted = torch.max(test_outputs, 1)\n",
    "    fnn_accuracy2 = accuracy_score(y_test_tensor, predicted)\n",
    "    print(f\"Final Test Accuracy: {fnn_accuracy2:.4f}\")\n"
   ]
  },
  {
   "cell_type": "code",
   "execution_count": 124,
   "metadata": {},
   "outputs": [
    {
     "name": "stdout",
     "output_type": "stream",
     "text": [
      "(16640, 432) (2080, 432) (2080, 432)\n"
     ]
    }
   ],
   "source": [
    "# vectorize matrix using document frequency \n",
    "X_train_scaled, X_val_scaled, X_test_scaled, X_train_tensor, y_train_tensor, X_val_tensor, y_val_tensor, X_test_tensor, y_test_tensor = split_trans(matrix=df_matrix)"
   ]
  },
  {
   "cell_type": "code",
   "execution_count": 125,
   "metadata": {},
   "outputs": [
    {
     "name": "stdout",
     "output_type": "stream",
     "text": [
      "Epoch [10/200], Loss: 0.3299, Evaluation Accuracy: 0.8635\n",
      "Epoch [20/200], Loss: 0.2244, Evaluation Accuracy: 0.8913\n",
      "Epoch [30/200], Loss: 0.1654, Evaluation Accuracy: 0.9067\n",
      "Epoch [40/200], Loss: 0.1249, Evaluation Accuracy: 0.9168\n",
      "Epoch [50/200], Loss: 0.0951, Evaluation Accuracy: 0.9216\n",
      "Epoch [60/200], Loss: 0.0914, Evaluation Accuracy: 0.9226\n",
      "Epoch [70/200], Loss: 0.0886, Evaluation Accuracy: 0.9236\n",
      "Epoch [80/200], Loss: 0.0861, Evaluation Accuracy: 0.9236\n",
      "Epoch [90/200], Loss: 0.0831, Evaluation Accuracy: 0.9240\n",
      "Epoch [100/200], Loss: 0.0807, Evaluation Accuracy: 0.9245\n",
      "Epoch [110/200], Loss: 0.0814, Evaluation Accuracy: 0.9245\n",
      "Epoch [120/200], Loss: 0.0804, Evaluation Accuracy: 0.9245\n",
      "Epoch [130/200], Loss: 0.0800, Evaluation Accuracy: 0.9245\n",
      "Epoch [140/200], Loss: 0.0794, Evaluation Accuracy: 0.9245\n",
      "Epoch [150/200], Loss: 0.0801, Evaluation Accuracy: 0.9245\n",
      "Epoch [160/200], Loss: 0.0798, Evaluation Accuracy: 0.9245\n",
      "Epoch [170/200], Loss: 0.0799, Evaluation Accuracy: 0.9245\n",
      "Epoch [180/200], Loss: 0.0802, Evaluation Accuracy: 0.9245\n",
      "Epoch [190/200], Loss: 0.0795, Evaluation Accuracy: 0.9245\n",
      "Epoch [200/200], Loss: 0.0791, Evaluation Accuracy: 0.9245\n"
     ]
    }
   ],
   "source": [
    "# Model parameters\n",
    "input_size = X_train_scaled.shape[1]\n",
    "hidden_size = 1000\n",
    "output_size = 2\n",
    "\n",
    "# Initialize model\n",
    "fnn_model = FNN(input_size, hidden_size, output_size)\n",
    "\n",
    "# Training model\n",
    "fnn_model3 = train_model(fnn_model, X_train_tensor, y_train_tensor, X_val_tensor, y_val_tensor, epochs=200, lr=0.001)\n"
   ]
  },
  {
   "cell_type": "code",
   "execution_count": 126,
   "metadata": {},
   "outputs": [
    {
     "name": "stdout",
     "output_type": "stream",
     "text": [
      "Final Test Accuracy: 0.9365\n"
     ]
    }
   ],
   "source": [
    "# using test data to evaluate\n",
    "fnn_model3.eval()  # Enter evaluation mode\n",
    "with torch.no_grad():\n",
    "    test_outputs = fnn_model3(X_test_tensor)\n",
    "    _, predicted = torch.max(test_outputs, 1)\n",
    "    fnn_accuracy3 = accuracy_score(y_test_tensor, predicted)\n",
    "    print(f\"Final Test Accuracy: {fnn_accuracy3:.4f}\")\n"
   ]
  },
  {
   "cell_type": "code",
   "execution_count": 127,
   "metadata": {},
   "outputs": [
    {
     "name": "stdout",
     "output_type": "stream",
     "text": [
      "(16640, 432) (2080, 432) (2080, 432)\n"
     ]
    }
   ],
   "source": [
    "# vectorize matrix using CNN \n",
    "X_train_scaled, X_val_scaled, X_test_scaled, X_train_tensor, y_train_tensor, X_val_tensor, y_val_tensor, X_test_tensor, y_test_tensor = split_trans(matrix=cnn_matrix)"
   ]
  },
  {
   "cell_type": "code",
   "execution_count": 128,
   "metadata": {},
   "outputs": [
    {
     "name": "stdout",
     "output_type": "stream",
     "text": [
      "Epoch [10/200], Loss: 0.6049, Evaluation Accuracy: 0.6332\n",
      "Epoch [20/200], Loss: 0.5653, Evaluation Accuracy: 0.6500\n",
      "Epoch [30/200], Loss: 0.5359, Evaluation Accuracy: 0.6476\n",
      "Epoch [40/200], Loss: 0.4970, Evaluation Accuracy: 0.6548\n",
      "Epoch [50/200], Loss: 0.4490, Evaluation Accuracy: 0.6587\n",
      "Epoch [60/200], Loss: 0.4364, Evaluation Accuracy: 0.6625\n",
      "Epoch [70/200], Loss: 0.4286, Evaluation Accuracy: 0.6639\n",
      "Epoch [80/200], Loss: 0.4217, Evaluation Accuracy: 0.6630\n",
      "Epoch [90/200], Loss: 0.4137, Evaluation Accuracy: 0.6644\n",
      "Epoch [100/200], Loss: 0.4058, Evaluation Accuracy: 0.6620\n",
      "Epoch [110/200], Loss: 0.4043, Evaluation Accuracy: 0.6620\n",
      "Epoch [120/200], Loss: 0.4030, Evaluation Accuracy: 0.6611\n",
      "Epoch [130/200], Loss: 0.4027, Evaluation Accuracy: 0.6615\n",
      "Epoch [140/200], Loss: 0.4023, Evaluation Accuracy: 0.6615\n",
      "Epoch [150/200], Loss: 0.3996, Evaluation Accuracy: 0.6615\n",
      "Epoch [160/200], Loss: 0.3998, Evaluation Accuracy: 0.6615\n",
      "Epoch [170/200], Loss: 0.4009, Evaluation Accuracy: 0.6615\n",
      "Epoch [180/200], Loss: 0.4001, Evaluation Accuracy: 0.6615\n",
      "Epoch [190/200], Loss: 0.4003, Evaluation Accuracy: 0.6615\n",
      "Epoch [200/200], Loss: 0.4001, Evaluation Accuracy: 0.6615\n"
     ]
    }
   ],
   "source": [
    "# Model parameters\n",
    "input_size = X_train_scaled.shape[1]\n",
    "hidden_size = 1000\n",
    "output_size = 2\n",
    "\n",
    "# Initialize model\n",
    "fnn_model = FNN(input_size, hidden_size, output_size)\n",
    "\n",
    "# Training model\n",
    "fnn_model4 = train_model(fnn_model, X_train_tensor, y_train_tensor, X_val_tensor, y_val_tensor, epochs=200, lr=0.001)\n"
   ]
  },
  {
   "cell_type": "code",
   "execution_count": 129,
   "metadata": {},
   "outputs": [
    {
     "name": "stdout",
     "output_type": "stream",
     "text": [
      "Final Test Accuracy: 0.6404\n"
     ]
    }
   ],
   "source": [
    "# using test data to evaluate\n",
    "fnn_model4.eval()  # Enter evaluation mode\n",
    "with torch.no_grad():\n",
    "    test_outputs = fnn_model4(X_test_tensor)\n",
    "    _, predicted = torch.max(test_outputs, 1)\n",
    "    fnn_accuracy4 = accuracy_score(y_test_tensor, predicted)\n",
    "    print(f\"Final Test Accuracy: {fnn_accuracy4:.4f}\")\n"
   ]
  },
  {
   "cell_type": "code",
   "execution_count": 141,
   "metadata": {},
   "outputs": [
    {
     "data": {
      "image/png": "[encoded data removed]",
      "text/plain": [
       "<Figure size 1000x600 with 1 Axes>"
      ]
     },
     "metadata": {},
     "output_type": "display_data"
    }
   ],
   "source": [
    "index = ['Word2Vec', 'TF-IDF', 'Document Frequency', 'CNN']  #  Categories on the x-axis\n",
    "score = [fnn_accuracy1, fnn_accuracy2, fnn_accuracy3, fnn_accuracy4]  # The corresponding y-axis score\n",
    "\n",
    "# Draw a bar chart\n",
    "plt.figure(figsize=(10, 6))\n",
    "plt.ylim([0, 1])\n",
    "plt.yticks([i * 0.1 for i in range(11)])\n",
    "plt.grid(axis='y')  # adds grid lines to the y-axis\n",
    "plt.bar(index, score)\n",
    "\n",
    "# Add tags and titles\n",
    "plt.xlabel('Vectorization')  \n",
    "plt.ylabel('Accuracy Score')  \n",
    "plt.title('Comparison of Mean Accuracy Scores in FNN Model') \n",
    "\n",
    "plt.show()"
   ]
  },
  {
   "cell_type": "markdown",
   "metadata": {},
   "source": [
    "It can be seen from the above results that when the settings of the FNN model remain the same, the input features represented by the three vectorization methods, namely TF-IDF, document frequency and Word2Vec, all enable the model to achieve a relatively high accuracy. However, the combination of **TF-IDF and the FNN model** has a slight edge."
   ]
  },
  {
   "cell_type": "code",
   "execution_count": null,
   "metadata": {},
   "outputs": [
    {
     "data": {
      "image/png": "[encoded data removed]",
      "text/plain": [
       "<Figure size 1000x600 with 1 Axes>"
      ]
     },
     "metadata": {},
     "output_type": "display_data"
    }
   ],
   "source": [
    "index = ['Gaussian Naive Bayes', 'Random Forest', 'SVM', 'FNN']  #  Categories on the x-axis\n",
    "score = [gnb_accuracy, rf_accuracy, svc_accuracy, fnn_accuracy2]  # The corresponding y-axis score\n",
    "\n",
    "# Draw a bar chart\n",
    "plt.figure(figsize=(10, 6))\n",
    "plt.ylim([0, 1.2])\n",
    "\n",
    "# Add text labels above each bar\n",
    "bars = plt.bar(index, score)\n",
    "for bar in bars:\n",
    "    yval = bar.get_height()  # Get the height of each bar\n",
    "    plt.text(bar.get_x() + bar.get_width() / 2, yval + 0.02,  # Adjust the position of the text\n",
    "             f'{yval:.2f}', ha='center', va='bottom', fontsize=12)\n",
    "\n",
    "# Add tags and titles\n",
    "plt.xlabel('Model')  \n",
    "plt.ylabel('Accuracy score')  \n",
    "plt.title('Comparison of the accuracy of four machine learning models') \n",
    "\n",
    "plt.show()"
   ]
  },
  {
   "cell_type": "code",
   "execution_count": 148,
   "metadata": {},
   "outputs": [
    {
     "name": "stdout",
     "output_type": "stream",
     "text": [
      "The best accuracy score is 0.9557692307692308\n"
     ]
    }
   ],
   "source": [
    "print('The best accuracy score is', svc_accuracy)"
   ]
  },
  {
   "cell_type": "markdown",
   "metadata": {},
   "source": [
    "## 4 Conclusion\n",
    "- After controlling the dimensions of the input features to be consistent, compared with the text vector matrices represented by the other three vectorization methods, the models obtained by combining TF-IDF with the four machine learning models have the most excellent accuracy and generalization ability.\n",
    "\n",
    "- After controlling the input feature to be the **TF-IDF text vector matrix**, the performances of the Random Forest, Support Vector Machine, and Feedforward Neural Network models are all relatively good. Among them, **the Support Vector Machine model equipped with a nonlinear kernel** has the best accuracy in the news classification task."
   ]
  }
 ],
 "metadata": {
  "celltoolbar": "Slideshow",
  "kernelspec": {
   "display_name": "fakenew",
   "language": "python",
   "name": "python3"
  },
  "language_info": {
   "codemirror_mode": {
    "name": "ipython",
    "version": 3
   },
   "file_extension": ".py",
   "mimetype": "text/x-python",
   "name": "python",
   "nbconvert_exporter": "python",
   "pygments_lexer": "ipython3",
   "version": "3.10.15"
  },
  "latex_envs": {
   "LaTeX_envs_menu_present": true,
   "autoclose": false,
   "autocomplete": true,
   "bibliofile": "biblio.bib",
   "cite_by": "apalike",
   "current_citInitial": 1,
   "eqLabelWithNumbers": true,
   "eqNumInitial": 1,
   "hotkeys": {
    "equation": "Ctrl-E",
    "itemize": "Ctrl-I"
   },
   "labels_anchors": false,
   "latex_user_defs": false,
   "report_style_numbering": false,
   "user_envs_cfg": false
  },
  "toc": {
   "base_numbering": 1,
   "nav_menu": {},
   "number_sections": false,
   "sideBar": true,
   "skip_h1_title": false,
   "title_cell": "Table of Contents",
   "title_sidebar": "Contents",
   "toc_cell": false,
   "toc_position": {
    "height": "calc(100% - 180px)",
    "left": "10px",
    "top": "150px",
    "width": "165px"
   },
   "toc_section_display": true,
   "toc_window_display": true
  }
 },
 "nbformat": 4,
 "nbformat_minor": 2
}
